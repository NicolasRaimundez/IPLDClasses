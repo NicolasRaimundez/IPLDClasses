{
 "cells": [
  {
   "cell_type": "markdown",
   "metadata": {
    "vscode": {
     "languageId": "plaintext"
    }
   },
   "source": [
    "## EAE - Introduction to Programming Languages for Data \n",
    "## Day 3 - 28/11/2023\n",
    "\n",
    "### Instructor:  \n",
    "Enric Domingo  \n",
    "*Machine Learning and Software Engineer at ERNI*  \n",
    "edomingod@professional.eae.es\n",
    "\n",
    "#### Python fundamentals:\n",
    "\n",
    "- Finish prev. session\n",
    "0. Recap\n",
    "1. Dictionaries\n",
    "2. Tuples\n",
    "3. Sets\n",
    "4. File I/O\n",
    "5. Intro to Classes and Object Oriented Programming\n",
    "6. Exercises\n"
   ]
  },
  {
   "cell_type": "markdown",
   "metadata": {
    "vscode": {
     "languageId": "plaintext"
    }
   },
   "source": [
    "## 0. Recap\n",
    "\n",
    "In the last session we saw: Data Types conversion, some String methods, Python Lists, Comparison Operators, Conditional Statements, Loops and Functions.\n",
    "\n",
    "Let's do one more exercise to recap:\n",
    "\n",
    "Write a function that receives a list of names and a character as the parameters and returns the name that contains more times that letter. If there is a tie, return the first one."
   ]
  },
  {
   "cell_type": "code",
   "execution_count": 23,
   "metadata": {},
   "outputs": [
    {
     "data": {
      "text/plain": [
       "'Maaax'"
      ]
     },
     "execution_count": 23,
     "metadata": {},
     "output_type": "execute_result"
    }
   ],
   "source": [
    "def find_max_char_name(names, char):\n",
    "\n",
    "    count_list = []\n",
    "    for name in names:\n",
    "        char_count = name.count(char)\n",
    "        count_list.append(char_count)\n",
    "\n",
    "    max_count = max(count_list)\n",
    "    max_index = count_list.index(max_count)\n",
    "    max_char_name = names[max_index]\n",
    "\n",
    "    return max_char_name                     #this return is needed for the name to appear\n",
    "\n",
    "\n",
    "names = [\"John\", \"Mary\", \"James\", \"Maaax\"]\n",
    "\n",
    "target_char = \"a\"                            #showing the name with the most a in its name\n",
    "\n",
    "find_max_char_name(names, target_char)\n",
    "    "
   ]
  },
  {
   "cell_type": "markdown",
   "metadata": {},
   "source": [
    "## 1. Dictionaries\n",
    "\n",
    "Dictionaries are unordered mappings for storing objects. Previously we saw how lists store objects in an ordered sequence, dictionaries use a key-value pairing instead. This key-value pair allows users to quickly grab objects without needing to know an index location.\n",
    "\n",
    "Dictionaries use curly braces and colons to signify the keys and their associated values. For example:\n",
    "\n",
    "```python\n",
    "my_dict = {\"key1\": \"value1\", \"key2\": \"value2\"}\n",
    "```\n",
    "\n",
    "Dictionaries' keys can be strings, numbers, or tuples, but they must be immutable. Dictionaries' values can be anything, including lists or other dictionaries."
   ]
  },
  {
   "cell_type": "code",
   "execution_count": 24,
   "metadata": {},
   "outputs": [
    {
     "name": "stdout",
     "output_type": "stream",
     "text": [
      "<class 'dict'>\n",
      "{'key1': 'value1', 'key2': 'value2', 'key3': 'value3'}\n"
     ]
    }
   ],
   "source": [
    "# Creating dictionaries\n",
    "\n",
    "my_dict = {\"key1\": \"value1\", \"key2\": \"value2\", \"key3\": \"value3\"}    # the most common way \n",
    "\n",
    "print(type(my_dict))\n",
    "print(my_dict)"
   ]
  },
  {
   "cell_type": "code",
   "execution_count": 25,
   "metadata": {},
   "outputs": [
    {
     "data": {
      "text/plain": [
       "{'key1': 'value1', 'key2': 'value2', 'key3': 'value3'}"
      ]
     },
     "execution_count": 25,
     "metadata": {},
     "output_type": "execute_result"
    }
   ],
   "source": [
    "my_dict = dict([(\"key1\", \"value1\"), (\"key2\", \"value2\"), (\"key3\", \"value3\")])    # another way   \n",
    "\n",
    "my_dict"
   ]
  },
  {
   "cell_type": "code",
   "execution_count": 26,
   "metadata": {},
   "outputs": [
    {
     "data": {
      "text/plain": [
       "{'key1': 'value1', 'key2': 'value2', 'key3': 'value3'}"
      ]
     },
     "execution_count": 26,
     "metadata": {},
     "output_type": "execute_result"
    }
   ],
   "source": [
    "my_dict = dict(key1=\"value1\", key2=\"value2\", key3=\"value3\")         # another way    \n",
    "\n",
    "my_dict"
   ]
  },
  {
   "cell_type": "code",
   "execution_count": 27,
   "metadata": {},
   "outputs": [
    {
     "name": "stdout",
     "output_type": "stream",
     "text": [
      "value1\n",
      "value3\n"
     ]
    }
   ],
   "source": [
    "# Accessing values\n",
    "\n",
    "print(my_dict[\"key1\"])\n",
    "print(my_dict[\"key3\"])"
   ]
  },
  {
   "cell_type": "code",
   "execution_count": 52,
   "metadata": {},
   "outputs": [
    {
     "ename": "TypeError",
     "evalue": "'str' object is not callable",
     "output_type": "error",
     "traceback": [
      "\u001b[1;31m---------------------------------------------------------------------------\u001b[0m",
      "\u001b[1;31mTypeError\u001b[0m                                 Traceback (most recent call last)",
      "\u001b[1;32mc:\\Users\\Nico\\Documents\\Code - EAE Business School\\eae_ipld\\ipld_day03.ipynb Cell 9\u001b[0m line \u001b[0;36m3\n\u001b[0;32m      <a href='vscode-notebook-cell:/c%3A/Users/Nico/Documents/Code%20-%20EAE%20Business%20School/eae_ipld/ipld_day03.ipynb#Y213sZmlsZQ%3D%3D?line=0'>1</a>\u001b[0m my_str \u001b[39m=\u001b[39m \u001b[39m\"\u001b[39m\u001b[39mabc\u001b[39m\u001b[39m\"\u001b[39m \u001b[39m#example added about strings cannot be changed\u001b[39;00m\n\u001b[1;32m----> <a href='vscode-notebook-cell:/c%3A/Users/Nico/Documents/Code%20-%20EAE%20Business%20School/eae_ipld/ipld_day03.ipynb#Y213sZmlsZQ%3D%3D?line=2'>3</a>\u001b[0m my_str(\u001b[39m0\u001b[39;49m) \u001b[39m==\u001b[39m \u001b[39m\"\u001b[39m\u001b[39mz\u001b[39m\u001b[39m\"\u001b[39m\n",
      "\u001b[1;31mTypeError\u001b[0m: 'str' object is not callable"
     ]
    }
   ],
   "source": [
    "my_str = \"abc\" #example added about strings cannot be changed\n",
    "\n",
    "my_str(0) == \"z\""
   ]
  },
  {
   "cell_type": "code",
   "execution_count": 53,
   "metadata": {},
   "outputs": [
    {
     "name": "stdout",
     "output_type": "stream",
     "text": [
      "{'key2': 'value2', 'key3': 'value3', 'key4': 'value4', 'name': 'value4'}\n"
     ]
    }
   ],
   "source": [
    "# Adding new key-value pairs\n",
    "\n",
    "my_dict[\"key4\"] = \"value4\"\n",
    "\n",
    "print(my_dict)"
   ]
  },
  {
   "cell_type": "code",
   "execution_count": 54,
   "metadata": {},
   "outputs": [
    {
     "name": "stdout",
     "output_type": "stream",
     "text": [
      "{'key2': 'value2', 'key3': 'value3', 'key4': 'value4', 'name': 'value4'}\n"
     ]
    }
   ],
   "source": [
    "# Adding new key-value pairs\n",
    "\n",
    "my_dict[\"name\"] = \"value4\" #new element called name\n",
    "\n",
    "print(my_dict)"
   ]
  },
  {
   "cell_type": "code",
   "execution_count": 55,
   "metadata": {},
   "outputs": [
    {
     "name": "stdout",
     "output_type": "stream",
     "text": [
      "{'key2': 'value2', 'key3': 'value3', 'key4': 'value4', 'name': 'value4', 'key1': 'new_value1'}\n"
     ]
    }
   ],
   "source": [
    "# Updating values\n",
    "\n",
    "my_dict[\"key1\"] = \"new_value1\"\n",
    "\n",
    "print(my_dict)"
   ]
  },
  {
   "cell_type": "code",
   "execution_count": 56,
   "metadata": {},
   "outputs": [
    {
     "name": "stdout",
     "output_type": "stream",
     "text": [
      "{'key2': 'value2', 'key3': 'value3', 'key4': 'value4', 'name': 'value4'}\n"
     ]
    }
   ],
   "source": [
    "# Deleting key-value pairs\n",
    "\n",
    "del my_dict[\"key1\"]\n",
    "\n",
    "print(my_dict)"
   ]
  },
  {
   "cell_type": "code",
   "execution_count": null,
   "metadata": {},
   "outputs": [],
   "source": []
  },
  {
   "cell_type": "code",
   "execution_count": 273,
   "metadata": {},
   "outputs": [
    {
     "data": {
      "text/plain": [
       "2"
      ]
     },
     "execution_count": 273,
     "metadata": {},
     "output_type": "execute_result"
    }
   ],
   "source": [
    "rand_dict = {\n",
    "    \"a\": [1, 2, 3],\n",
    "    \"b\": \"hello\",\n",
    "    \"c\": True,\n",
    "    \"d\": {\"aa\": 1, \"bb\": 2, \"cc\": 3},\n",
    "}\n",
    "\n",
    "rand_dict[\"a\"][1]\n",
    "#rand_dict[\"d\"][\"aa\"]"
   ]
  },
  {
   "cell_type": "code",
   "execution_count": null,
   "metadata": {},
   "outputs": [],
   "source": []
  },
  {
   "cell_type": "code",
   "execution_count": 69,
   "metadata": {},
   "outputs": [
    {
     "name": "stdout",
     "output_type": "stream",
     "text": [
      "123456789\n",
      "123123451\n",
      "456370271\n"
     ]
    }
   ],
   "source": [
    "# A more useful example\n",
    "\n",
    "user1 = {\n",
    "    \"name\": \"John\", \n",
    "    \"age\": 30, \n",
    "    \"city\": \"New York\",\n",
    "    \"email\": \"john@hello.com\",\n",
    "    \"phone\": \"123456789\",\n",
    "    \"has_license\": False,\n",
    "}\n",
    "\n",
    "user2 = {\n",
    "    \"name\": \"Mary\", \n",
    "    \"age\": 26, \n",
    "    \"city\": \"Paris\",\n",
    "    \"email\": \"mary@hello.com\",\n",
    "    \"phone\": \"123123451\",\n",
    "    \"has_license\": True,\n",
    "}\n",
    "\n",
    "user3 = {\n",
    "    \"name\": \"Bob\", \n",
    "    \"age\": 38, \n",
    "    \"city\": \"Sao Paulo\",\n",
    "    \"email\": \"bob@hello.com\",\n",
    "    \"phone\": \"456370271\",\n",
    "    \"has_license\": True,\n",
    "}\n",
    "\n",
    "users = [user1, user2, user3]\n",
    "\n",
    "for user in users:\n",
    "    print(user[\"phone\"])"
   ]
  },
  {
   "cell_type": "code",
   "execution_count": 70,
   "metadata": {},
   "outputs": [
    {
     "name": "stdout",
     "output_type": "stream",
     "text": [
      "Mary has a license, send email to mary@hello.com\n",
      "Bob has a license, send email to bob@hello.com\n"
     ]
    }
   ],
   "source": [
    "for user in users:\n",
    "    if user[\"has_license\"]:\n",
    "        print(user[\"name\"], \"has a license, send email to\", user[\"email\"])"
   ]
  },
  {
   "cell_type": "code",
   "execution_count": 73,
   "metadata": {},
   "outputs": [
    {
     "name": "stdout",
     "output_type": "stream",
     "text": [
      "dict_keys(['name', 'age', 'city', 'email', 'phone', 'has_license'])\n"
     ]
    }
   ],
   "source": [
    "# keys()\n",
    "#it behaves as a list\n",
    "\n",
    "print(user1.keys())"
   ]
  },
  {
   "cell_type": "code",
   "execution_count": 74,
   "metadata": {},
   "outputs": [
    {
     "name": "stdout",
     "output_type": "stream",
     "text": [
      "dict_values(['John', 30, 'New York', 'john@hello.com', '123456789', False])\n"
     ]
    }
   ],
   "source": [
    "# values()\n",
    "\n",
    "print(user1.values())"
   ]
  },
  {
   "cell_type": "code",
   "execution_count": null,
   "metadata": {},
   "outputs": [],
   "source": []
  },
  {
   "cell_type": "code",
   "execution_count": 77,
   "metadata": {},
   "outputs": [],
   "source": [
    "users_db = {            # every user id card will be its dictionary key, because every key has to be UNIQUE (ej: ICR en Dafiti)\n",
    "    \"65747488A\": user1,\n",
    "    \"12345678B\": user2,\n",
    "    \"98765432C\": user3,\n",
    "}         \n",
    "# this is also useful for SQL"
   ]
  },
  {
   "cell_type": "code",
   "execution_count": 78,
   "metadata": {},
   "outputs": [
    {
     "name": "stdout",
     "output_type": "stream",
     "text": [
      "ID: 12345678B \n",
      "Name: Mary \n",
      "Phone: 123123451\n"
     ]
    }
   ],
   "source": [
    "# I want to access to the name and phone number of the user with id card 12345678B\n",
    "\n",
    "target_id = \"12345678B\"\n",
    "\n",
    "name = users_db[target_id][\"name\"]\n",
    "phone = users_db[target_id][\"phone\"]\n",
    "\n",
    "print(f\"ID: {target_id} \\nName: {name} \\nPhone: {phone}\")"
   ]
  },
  {
   "cell_type": "code",
   "execution_count": 80,
   "metadata": {},
   "outputs": [
    {
     "name": "stdout",
     "output_type": "stream",
     "text": [
      "3\n"
     ]
    }
   ],
   "source": [
    "# len()\n",
    "# how many objects to we have\n",
    "\n",
    "print(len(users_db))            # number of users (keys)"
   ]
  },
  {
   "cell_type": "code",
   "execution_count": 82,
   "metadata": {},
   "outputs": [
    {
     "name": "stdout",
     "output_type": "stream",
     "text": [
      "-----------\n",
      "key: 65747488A\n",
      "value: {'name': 'John', 'age': 30, 'city': 'New York', 'email': 'john@hello.com', 'phone': '123456789', 'has_license': False}\n",
      "-----------\n",
      "key: 12345678B\n",
      "value: {'name': 'Mary', 'age': 26, 'city': 'Paris', 'email': 'mary@hello.com', 'phone': '123123451', 'has_license': True}\n",
      "-----------\n",
      "key: 98765432C\n",
      "value: {'name': 'Bob', 'age': 38, 'city': 'Sao Paulo', 'email': 'bob@hello.com', 'phone': '456370271', 'has_license': True}\n"
     ]
    }
   ],
   "source": [
    "for key, value in users_db.items(): #a for loop to have key and value\n",
    "    print(\"-----------\")\n",
    "    print(\"key:\", key)\n",
    "    print(\"value:\", value)"
   ]
  },
  {
   "cell_type": "code",
   "execution_count": 41,
   "metadata": {},
   "outputs": [],
   "source": [
    "# Now try to add a new user to the database having the following information:\n",
    "\n",
    "# ID: 12345678D\n",
    "# Name: Alice\n",
    "# Age: 25\n",
    "# City: Hong Kong\n",
    "# Email: alice@hello\n",
    "# Phone: 987654321\n",
    "# Has license: True\n",
    "\n",
    "# Your turn!"
   ]
  },
  {
   "cell_type": "code",
   "execution_count": 95,
   "metadata": {},
   "outputs": [
    {
     "data": {
      "text/plain": [
       "{'65747488A': {'name': 'John',\n",
       "  'age': 30,\n",
       "  'city': 'New York',\n",
       "  'email': 'john@hello.com',\n",
       "  'phone': '123456789',\n",
       "  'has_license': False},\n",
       " '12345678B': {'name': 'Mary',\n",
       "  'age': 26,\n",
       "  'city': 'Paris',\n",
       "  'email': 'mary@hello.com',\n",
       "  'phone': '123123451',\n",
       "  'has_license': True},\n",
       " '98765432C': {'name': 'Bob',\n",
       "  'age': 38,\n",
       "  'city': 'Sao Paulo',\n",
       "  'email': 'bob@hello.com',\n",
       "  'phone': '456370271',\n",
       "  'has_license': True},\n",
       " '12345678D': {'name': 'Alice',\n",
       "  'age': 25,\n",
       "  'city': 'Hong Kong',\n",
       "  'email': 'alice@hello.com',\n",
       "  'phone': '987654321',\n",
       "  'has_license': True}}"
      ]
     },
     "execution_count": 95,
     "metadata": {},
     "output_type": "execute_result"
    }
   ],
   "source": [
    "#adding the user4 at the same db of the other users\n",
    "\n",
    "user4 = {\n",
    "    \"name\": \"Alice\",          #name with lowercase\n",
    "    \"age\": 25, \n",
    "    \"city\": \"Hong Kong\",\n",
    "    \"email\": \"alice@hello.com\",\n",
    "    \"phone\": \"987654321\",\n",
    "    \"has_license\": True,\n",
    "}\n",
    "\n",
    "users_db[\"12345678D\"] = user4 #adding the ID to the last user\n",
    "\n",
    "users_db"
   ]
  },
  {
   "cell_type": "code",
   "execution_count": 96,
   "metadata": {},
   "outputs": [
    {
     "name": "stdout",
     "output_type": "stream",
     "text": [
      "[{'ID': '65747488A', 'name': 'John', 'age': 30, 'city': 'New York', 'email': 'john@hello.com', 'phone': '123456789', 'has_license': False}, {'ID': '12345678B', 'name': 'Mary', 'age': 26, 'city': 'Paris', 'email': 'mary@hello.com', 'phone': '123123451', 'has_license': True}, {'ID': '98765432C', 'name': 'Bob', 'age': 38, 'city': 'Sao Paulo', 'email': 'bob@hello.com', 'phone': '456370271', 'has_license': True}, {'ID': '12345678D', 'name': 'Alice', 'age': 25, 'city': 'Hong Kong', 'email': 'alice@hello.com', 'phone': '987654321', 'has_license': True}]\n"
     ]
    }
   ],
   "source": [
    "#another way of doing it the example\n",
    "\n",
    "user1 = {\n",
    "    \"ID\": \"65747488A\",\n",
    "    \"name\": \"John\", \n",
    "    \"age\": 30, \n",
    "    \"city\": \"New York\",\n",
    "    \"email\": \"john@hello.com\",\n",
    "    \"phone\": \"123456789\",\n",
    "    \"has_license\": False,\n",
    "}\n",
    "\n",
    "user2 = {\n",
    "    \"ID\": \"12345678B\",\n",
    "    \"name\": \"Mary\", \n",
    "    \"age\": 26, \n",
    "    \"city\": \"Paris\",\n",
    "    \"email\": \"mary@hello.com\",\n",
    "    \"phone\": \"123123451\",\n",
    "    \"has_license\": True,\n",
    "}\n",
    "\n",
    "user3 = {\n",
    "    \"ID\": \"98765432C\",\n",
    "    \"name\": \"Bob\", \n",
    "    \"age\": 38, \n",
    "    \"city\": \"Sao Paulo\",\n",
    "    \"email\": \"bob@hello.com\",\n",
    "    \"phone\": \"456370271\",\n",
    "    \"has_license\": True,\n",
    "}\n",
    "\n",
    "user4 = {\n",
    "    \"ID\": \"12345678D\",\n",
    "    \"name\": \"Alice\", \n",
    "    \"age\": 25, \n",
    "    \"city\": \"Hong Kong\",\n",
    "    \"email\": \"alice@hello.com\",\n",
    "    \"phone\": \"987654321\",\n",
    "    \"has_license\": True,\n",
    "}\n",
    "\n",
    "users = [user1, user2, user3, user4]\n",
    "\n",
    "print(users)"
   ]
  },
  {
   "cell_type": "markdown",
   "metadata": {},
   "source": [
    "## 2. Tuples\n",
    "\n",
    "Tuples are very similar to lists. However they have one key difference - immutability (whenever you create one you cant change it, you have to create another one). Once an element is inside a tuple, it can not be reassigned. Tuples use parenthesis: \n",
    "\n",
    "```python\n",
    "my_tuple = (1, 2, 3)\n",
    "```\n",
    "\n",
    "Tuples are less used than lists, but they are useful when you want to make sure that the data cannot be changed. They can be also more efficient in some scenarios.\n",
    "\n"
   ]
  },
  {
   "cell_type": "code",
   "execution_count": 42,
   "metadata": {},
   "outputs": [
    {
     "name": "stdout",
     "output_type": "stream",
     "text": [
      "<class 'tuple'>\n",
      "(1, 2, 3, 4, 5)\n"
     ]
    }
   ],
   "source": [
    "my_tuple = (1, 2, 3, 4, 5)\n",
    "\n",
    "print(type(my_tuple))\n",
    "print(my_tuple)"
   ]
  },
  {
   "cell_type": "code",
   "execution_count": 145,
   "metadata": {},
   "outputs": [
    {
     "data": {
      "text/plain": [
       "{1, 2, 3}"
      ]
     },
     "execution_count": 145,
     "metadata": {},
     "output_type": "execute_result"
    }
   ],
   "source": [
    "\"abc\"                   # string\n",
    "[1, 2, 3]               # list\n",
    "{\"a\": 1, \"b\": 2, \"c\":3} # dict\n",
    "(1, 2, 3)               # tuple : these cannot be changed\n",
    "{1, 2, 3}               # 4th type : sets (visto mas abajo), its like a dict but its only values (not keys)"
   ]
  },
  {
   "cell_type": "markdown",
   "metadata": {},
   "source": [
    "You can create Tuples of any type (string, integer, etc)"
   ]
  },
  {
   "cell_type": "code",
   "execution_count": 100,
   "metadata": {},
   "outputs": [
    {
     "name": "stdout",
     "output_type": "stream",
     "text": [
      "car\n"
     ]
    }
   ],
   "source": [
    "vehicles = (\"car\", \"motorbike\", \"plane\", \"boat\", \"bicycle\")\n",
    "\n",
    "print(vehicles[0])"
   ]
  },
  {
   "cell_type": "code",
   "execution_count": 101,
   "metadata": {},
   "outputs": [
    {
     "ename": "TypeError",
     "evalue": "'tuple' object does not support item assignment",
     "output_type": "error",
     "traceback": [
      "\u001b[1;31m---------------------------------------------------------------------------\u001b[0m",
      "\u001b[1;31mTypeError\u001b[0m                                 Traceback (most recent call last)",
      "\u001b[1;32mc:\\Users\\Nico\\Documents\\Code - EAE Business School\\eae_ipld\\ipld_day03.ipynb Cell 34\u001b[0m line \u001b[0;36m1\n\u001b[1;32m----> <a href='vscode-notebook-cell:/c%3A/Users/Nico/Documents/Code%20-%20EAE%20Business%20School/eae_ipld/ipld_day03.ipynb#X41sZmlsZQ%3D%3D?line=0'>1</a>\u001b[0m vehicles[\u001b[39m0\u001b[39;49m] \u001b[39m=\u001b[39m \u001b[39m\"\u001b[39m\u001b[39mtruck\u001b[39m\u001b[39m\"\u001b[39m    \u001b[39m# tuples are immutable, so this will give an error\u001b[39;00m\n",
      "\u001b[1;31mTypeError\u001b[0m: 'tuple' object does not support item assignment"
     ]
    }
   ],
   "source": [
    "vehicles[0] = \"truck\"    # tuples are immutable, so this will give an error"
   ]
  },
  {
   "cell_type": "code",
   "execution_count": 108,
   "metadata": {},
   "outputs": [
    {
     "data": {
      "text/plain": [
       "3"
      ]
     },
     "execution_count": 108,
     "metadata": {},
     "output_type": "execute_result"
    }
   ],
   "source": [
    "s = \"abc\"\n",
    "l = [1, 2, 3]\n",
    "t = (\"a\", \"b\", \"c\")\n",
    "len(t)"
   ]
  },
  {
   "cell_type": "code",
   "execution_count": 109,
   "metadata": {},
   "outputs": [
    {
     "name": "stdout",
     "output_type": "stream",
     "text": [
      "5\n",
      "('car', 'motorbike', 'plane', 'boat', 'bicycle')\n"
     ]
    }
   ],
   "source": [
    "# len()\n",
    "\n",
    "print(len(vehicles)) #vehicles is a variable that has 5 elements inside\n",
    "\n",
    "print(vehicles)"
   ]
  },
  {
   "cell_type": "code",
   "execution_count": 125,
   "metadata": {},
   "outputs": [
    {
     "data": {
      "text/plain": [
       "list"
      ]
     },
     "execution_count": 125,
     "metadata": {},
     "output_type": "execute_result"
    }
   ],
   "source": [
    "l = [l]\n",
    "type(l)"
   ]
  },
  {
   "cell_type": "code",
   "execution_count": 112,
   "metadata": {},
   "outputs": [
    {
     "data": {
      "text/plain": [
       "3"
      ]
     },
     "execution_count": 112,
     "metadata": {},
     "output_type": "execute_result"
    }
   ],
   "source": [
    "(1 + 2)"
   ]
  },
  {
   "cell_type": "code",
   "execution_count": 113,
   "metadata": {},
   "outputs": [
    {
     "name": "stdout",
     "output_type": "stream",
     "text": [
      "<class 'tuple'>\n",
      "<class 'int'>\n"
     ]
    }
   ],
   "source": [
    "# single element tuples\n",
    "\n",
    "my_tuple = (1,)\n",
    "print(type(my_tuple))\n",
    "\n",
    "not_a_tuple = (1)\n",
    "print(type(not_a_tuple))"
   ]
  },
  {
   "cell_type": "code",
   "execution_count": 134,
   "metadata": {},
   "outputs": [
    {
     "name": "stdout",
     "output_type": "stream",
     "text": [
      "(3, 4, 5)\n",
      "(10, 4, 5)\n"
     ]
    }
   ],
   "source": [
    "# you cant modify a tuple but you can create it as a list and then modify the list, like seen in the next example\n",
    "t = (3, 4, 5)\n",
    "l = list(t)\n",
    "print(t)\n",
    "\n",
    "l[0] = 10\n",
    "t = tuple(l)\n",
    "print(t)"
   ]
  },
  {
   "cell_type": "code",
   "execution_count": 140,
   "metadata": {},
   "outputs": [
    {
     "name": "stdout",
     "output_type": "stream",
     "text": [
      "  0 1 2 3 4 5 6 7 8 9\n",
      "0 - - - - - - - - - - \n",
      "1 - A - - - - - - - - \n",
      "2 - - - - - - - - - - \n",
      "3 - - - - - - - - - - \n",
      "4 - - - - - - - - - - \n",
      "5 - - - - - - C - - - \n",
      "6 - - - - - - - - - - \n",
      "7 - - - - B - - - D - \n",
      "8 - - - - - - - - - - \n",
      "9 - - - - - - - - - - \n"
     ]
    }
   ],
   "source": [
    "# (x, y) coordinates of a map, a random example\n",
    "\n",
    "# we can put tuples as the key of a dictionary because they are immutable\n",
    "coordinates = {\n",
    "    (1, 1): \"A\",   # key : tuple\n",
    "    (7, 4): \"B\",\n",
    "    (5, 6): \"C\",\n",
    "    (7, 8): \"D\",\n",
    "}\n",
    "\n",
    "# You don't have to understand this code, it's just to print the map\n",
    "widht = 10\n",
    "height = 10\n",
    "\n",
    "print(\"  0 1 2 3 4 5 6 7 8 9\")\n",
    "for x in range(widht):\n",
    "    print(x, end=\" \")\n",
    "    for y in range(height):\n",
    "        if (x, y) in coordinates:\n",
    "            print(f\"{coordinates[(x, y)]} \", end=\"\") #end: without this, everything will break\n",
    "        else:\n",
    "            print(\"- \", end=\"\")\n",
    "    print()"
   ]
  },
  {
   "cell_type": "code",
   "execution_count": 138,
   "metadata": {},
   "outputs": [
    {
     "name": "stdout",
     "output_type": "stream",
     "text": [
      "  0 1 2 3 4 5 6 7 8 9\n",
      "0 - \n",
      "- \n",
      "- \n",
      "- \n",
      "- \n",
      "- \n",
      "- \n",
      "- \n",
      "- \n",
      "- \n",
      "\n",
      "1 - \n",
      "A \n",
      "- \n",
      "- \n",
      "- \n",
      "- \n",
      "- \n",
      "- \n",
      "- \n",
      "- \n",
      "\n",
      "2 - \n",
      "- \n",
      "- \n",
      "- \n",
      "- \n",
      "- \n",
      "- \n",
      "- \n",
      "- \n",
      "- \n",
      "\n",
      "3 - \n",
      "- \n",
      "- \n",
      "- \n",
      "- \n",
      "- \n",
      "- \n",
      "- \n",
      "- \n",
      "- \n",
      "\n",
      "4 - \n",
      "- \n",
      "- \n",
      "- \n",
      "- \n",
      "- \n",
      "- \n",
      "- \n",
      "- \n",
      "- \n",
      "\n",
      "5 - \n",
      "- \n",
      "- \n",
      "- \n",
      "- \n",
      "- \n",
      "C \n",
      "- \n",
      "- \n",
      "- \n",
      "\n",
      "6 - \n",
      "- \n",
      "- \n",
      "- \n",
      "- \n",
      "- \n",
      "- \n",
      "- \n",
      "- \n",
      "- \n",
      "\n",
      "7 - \n",
      "- \n",
      "- \n",
      "- \n",
      "B \n",
      "- \n",
      "- \n",
      "- \n",
      "D \n",
      "- \n",
      "\n",
      "8 - \n",
      "- \n",
      "- \n",
      "- \n",
      "- \n",
      "- \n",
      "- \n",
      "- \n",
      "- \n",
      "- \n",
      "\n",
      "9 - \n",
      "- \n",
      "- \n",
      "- \n",
      "- \n",
      "- \n",
      "- \n",
      "- \n",
      "- \n",
      "- \n",
      "\n"
     ]
    }
   ],
   "source": [
    "# (x, y) coordinates of a map, a random example\n",
    "\n",
    "# we can put tuples as the key of a dictionary because they are immutable\n",
    "coordinates = {\n",
    "    (1, 1): \"A\",   # key : tuple\n",
    "    (7, 4): \"B\",\n",
    "    (5, 6): \"C\",\n",
    "    (7, 8): \"D\",\n",
    "}\n",
    "\n",
    "# You don't have to understand this code, it's just to print the map\n",
    "widht = 10\n",
    "height = 10\n",
    "\n",
    "print(\"  0 1 2 3 4 5 6 7 8 9\")\n",
    "for x in range(widht):\n",
    "    print(x, end=\" \")\n",
    "    for y in range(height):\n",
    "        if (x, y) in coordinates:\n",
    "            print(f\"{coordinates[(x, y)]} \") #without end=\n",
    "        else:\n",
    "            print(\"- \")\n",
    "    print()"
   ]
  },
  {
   "cell_type": "markdown",
   "metadata": {},
   "source": [
    "## 3. Sets\n",
    "\n",
    "Sets are unordered collections of unique elements. Meaning there can only be one representative of the same object. They are useful when you want to avoid duplicates. They are also used to perform mathematical operations like union, intersection, difference, and symmetric difference.\n",
    "\n",
    "Sets are created with curly braces:\n",
    "\n",
    "```python\n",
    "my_set = {1, 2, 3}\n",
    "```"
   ]
  },
  {
   "cell_type": "code",
   "execution_count": 160,
   "metadata": {},
   "outputs": [
    {
     "name": "stdout",
     "output_type": "stream",
     "text": [
      "<class 'set'>\n",
      "{1, 2, 3, 4, 5}\n"
     ]
    }
   ],
   "source": [
    "my_set = {1, 2, 3, 4, 5}\n",
    "\n",
    "print(type(my_set))\n",
    "print(my_set)"
   ]
  },
  {
   "cell_type": "code",
   "execution_count": null,
   "metadata": {},
   "outputs": [
    {
     "ename": "TypeError",
     "evalue": "'set' object is not subscriptable",
     "output_type": "error",
     "traceback": [
      "\u001b[0;31m---------------------------------------------------------------------------\u001b[0m",
      "\u001b[0;31mTypeError\u001b[0m                                 Traceback (most recent call last)",
      "Cell \u001b[0;32mIn[4], line 1\u001b[0m\n\u001b[0;32m----> 1\u001b[0m my_set[\u001b[39m0\u001b[39;49m]\n",
      "\u001b[0;31mTypeError\u001b[0m: 'set' object is not subscriptable"
     ]
    }
   ],
   "source": [
    "my_set[0]       # sets are unordered, so this will give an error"
   ]
  },
  {
   "cell_type": "code",
   "execution_count": 147,
   "metadata": {},
   "outputs": [
    {
     "ename": "TypeError",
     "evalue": "'set' object does not support item assignment",
     "output_type": "error",
     "traceback": [
      "\u001b[1;31m---------------------------------------------------------------------------\u001b[0m",
      "\u001b[1;31mTypeError\u001b[0m                                 Traceback (most recent call last)",
      "\u001b[1;32mc:\\Users\\Nico\\Documents\\Code - EAE Business School\\eae_ipld\\ipld_day03.ipynb Cell 46\u001b[0m line \u001b[0;36m1\n\u001b[1;32m----> <a href='vscode-notebook-cell:/c%3A/Users/Nico/Documents/Code%20-%20EAE%20Business%20School/eae_ipld/ipld_day03.ipynb#X53sZmlsZQ%3D%3D?line=0'>1</a>\u001b[0m my_set[\u001b[39m0\u001b[39;49m] \u001b[39m=\u001b[39m \u001b[39m10\u001b[39m    \u001b[39m# sets are mutable, but they dont have indexes so this will give an error\u001b[39;00m\n",
      "\u001b[1;31mTypeError\u001b[0m: 'set' object does not support item assignment"
     ]
    }
   ],
   "source": [
    "my_set[0] = 10    # sets are mutable, but they dont have indexes so this will give an error"
   ]
  },
  {
   "cell_type": "code",
   "execution_count": 148,
   "metadata": {},
   "outputs": [
    {
     "name": "stdout",
     "output_type": "stream",
     "text": [
      "1\n",
      "2\n",
      "3\n",
      "4\n",
      "5\n"
     ]
    }
   ],
   "source": [
    "for element in my_set:          # we can access to the elements of a set with a for loop\n",
    "    print(element)"
   ]
  },
  {
   "cell_type": "code",
   "execution_count": 161,
   "metadata": {},
   "outputs": [
    {
     "name": "stdout",
     "output_type": "stream",
     "text": [
      "{1, 2, 3, 4, 5}\n",
      "{1, 2, 3, 4, 5, 6}\n"
     ]
    }
   ],
   "source": [
    "print (my_set)\n",
    "\n",
    "my_set.add(6)\n",
    "\n",
    "print(my_set)"
   ]
  },
  {
   "cell_type": "code",
   "execution_count": 163,
   "metadata": {},
   "outputs": [
    {
     "data": {
      "text/plain": [
       "{1, 2, 4, 5}"
      ]
     },
     "execution_count": 163,
     "metadata": {},
     "output_type": "execute_result"
    }
   ],
   "source": [
    "my_set.remove(6)\n",
    "\n",
    "my_set"
   ]
  },
  {
   "cell_type": "code",
   "execution_count": 164,
   "metadata": {},
   "outputs": [
    {
     "data": {
      "text/plain": [
       "{'a', 'b', 'c', 'def'}"
      ]
     },
     "execution_count": 164,
     "metadata": {},
     "output_type": "execute_result"
    }
   ],
   "source": [
    "my_set2 = {\"a\", \"b\", \"c\"}\n",
    "\n",
    "my_set2.add(\"def\")\n",
    "\n",
    "my_set2"
   ]
  },
  {
   "cell_type": "code",
   "execution_count": 166,
   "metadata": {},
   "outputs": [
    {
     "data": {
      "text/plain": [
       "{'b', 'c', 'def'}"
      ]
     },
     "execution_count": 166,
     "metadata": {},
     "output_type": "execute_result"
    }
   ],
   "source": [
    "my_set2.remove(\"a\")\n",
    "\n",
    "my_set2"
   ]
  },
  {
   "cell_type": "code",
   "execution_count": 170,
   "metadata": {},
   "outputs": [
    {
     "name": "stdout",
     "output_type": "stream",
     "text": [
      "10 cities\n",
      "['Madrid', 'Barcelona', 'Paris', 'London', 'Berlin', 'Madrid', 'Paris', 'Madrid', 'London', 'London']\n",
      "\n",
      "5 unique cities\n",
      "{'London', 'Berlin', 'Madrid', 'Paris', 'Barcelona'}\n"
     ]
    }
   ],
   "source": [
    "cities = [\"Madrid\", \"Barcelona\", \"Paris\", \"London\", \"Berlin\", \"Madrid\", \"Paris\", \"Madrid\", \"London\", \"London\"]\n",
    "\n",
    "print(len(cities), \"cities\")\n",
    "print(cities)\n",
    "print()\n",
    "\n",
    "unique_cities = set(cities)\n",
    "print(len(unique_cities), \"unique cities\")\n",
    "print(unique_cities)\n",
    "\n",
    "# [] are used for lists\n",
    "# {} are used for sets\n"
   ]
  },
  {
   "cell_type": "code",
   "execution_count": 169,
   "metadata": {},
   "outputs": [
    {
     "data": {
      "text/plain": [
       "['London', 'Berlin', 'Madrid', 'Paris', 'Barcelona']"
      ]
     },
     "execution_count": 169,
     "metadata": {},
     "output_type": "execute_result"
    }
   ],
   "source": [
    "list(unique_cities)"
   ]
  },
  {
   "cell_type": "code",
   "execution_count": 178,
   "metadata": {},
   "outputs": [
    {
     "name": "stdout",
     "output_type": "stream",
     "text": [
      "{'1/1': 30, '2/1': 27, '3/1': 26}\n"
     ]
    }
   ],
   "source": [
    "temps = {\n",
    "    \"1/1\": 30,\n",
    "    \"2/1\": 27,\n",
    "    \"3/1\": 26,\n",
    "}\n",
    "print(temp)"
   ]
  },
  {
   "cell_type": "code",
   "execution_count": 177,
   "metadata": {},
   "outputs": [],
   "source": [
    "temp_date = [\"1/1\", \"2/1\", \"3/1\"]\n",
    "temp_values = [30, 27, 26]\n"
   ]
  },
  {
   "cell_type": "code",
   "execution_count": 183,
   "metadata": {},
   "outputs": [
    {
     "name": "stdout",
     "output_type": "stream",
     "text": [
      "(10, 4, 5) : 30\n",
      "(10, 4, 5) : 27\n",
      "(10, 4, 5) : 26\n"
     ]
    }
   ],
   "source": [
    "for k, v in temps.items():\n",
    "    print(t, \":\", v)"
   ]
  },
  {
   "cell_type": "code",
   "execution_count": 186,
   "metadata": {},
   "outputs": [],
   "source": [
    "t_d = []\n",
    "t_v = []\n",
    "\n",
    "for k in temps:\n",
    "    t_d.append(k)\n",
    "    t_v.append(temps[k])"
   ]
  },
  {
   "cell_type": "code",
   "execution_count": 189,
   "metadata": {},
   "outputs": [
    {
     "name": "stdout",
     "output_type": "stream",
     "text": [
      "['1/1', '2/1', '3/1'] [30, 27, 26]\n"
     ]
    }
   ],
   "source": [
    "print(t_d, t_v)"
   ]
  },
  {
   "cell_type": "code",
   "execution_count": 217,
   "metadata": {},
   "outputs": [],
   "source": [
    "# Create a dictionary from the following 2 lists, where the keys are the temp_dates and the values are the temp_values\n",
    "\n",
    "temp_dates = [\"1/1\", \"2/1\", \"3/1\"]\n",
    "temp_values = [30, 27, 26]"
   ]
  },
  {
   "cell_type": "code",
   "execution_count": 201,
   "metadata": {},
   "outputs": [
    {
     "data": {
      "text/plain": [
       "dict"
      ]
     },
     "execution_count": 201,
     "metadata": {},
     "output_type": "execute_result"
    }
   ],
   "source": [
    "type({}) #para chequear si es dict o no"
   ]
  },
  {
   "cell_type": "code",
   "execution_count": 218,
   "metadata": {},
   "outputs": [
    {
     "data": {
      "text/plain": [
       "{'1/1': 30, '2/1': 27, '3/1': 26}"
      ]
     },
     "execution_count": 218,
     "metadata": {},
     "output_type": "execute_result"
    }
   ],
   "source": [
    "dict(zip(temp_dates, temp_values))"
   ]
  },
  {
   "cell_type": "code",
   "execution_count": 220,
   "metadata": {},
   "outputs": [
    {
     "data": {
      "text/plain": [
       "{'1/1': 30, '2/1': 27, '3/1': 26}"
      ]
     },
     "execution_count": 220,
     "metadata": {},
     "output_type": "execute_result"
    }
   ],
   "source": [
    "if len(temp_dates) == len(temp_values):\n",
    "    temps_dicts = {}                                        # checking if the dic is ok\n",
    "    for i in range(len(temp_dates)):\n",
    "        temps_dicts[temp_dates[i]] = temp_values[i]\n",
    "\n",
    "else:\n",
    "    print(\"error! Dates and values have different lenghts\") # si agrego un valor arriba en date y no values me tira este error\n",
    "\n",
    "temps_dicts"
   ]
  },
  {
   "cell_type": "markdown",
   "metadata": {},
   "source": [
    "## 4. File I/O\n",
    "\n",
    "In Python, you can read from and write to files using built-in functions. The most common functions are open(), read(), write(), and close().\n",
    "\n",
    "Here's a basic overview:\n",
    "\n",
    "open(): This function is used to open a file. It returns a file object and is most commonly used with two arguments: open(filename, mode). The filename is the name of the file (and possibly the full path if the file isn't located in the same directory as the Python script). The mode argument is a string that indicates how the file will be opened. The modes are:\n",
    "\n",
    "'r' for reading (default)\n",
    "'w' for writing (creates a new file if it doesn't exist or truncates the file if it does)\n",
    "'a' for appending (creates a new file if it doesn't exist)\n",
    "'b' for binary mode\n",
    "'+' for updating (reading and writing)\n",
    "read(): This method reads the content of a file as a string. If you call it without arguments, it reads the entire file. If you provide a numerical argument, it reads up to that number of characters.\n",
    "\n",
    "write(): This method writes a string to the file. If the file was opened in text mode, it writes a string, and if it was opened in binary mode, it should be bytes.\n",
    "\n",
    "close(): This method closes the file. A closed file cannot be read or written anymore. It's important to close files as soon as you're done with them, as it's a best practice and helps free up system resources."
   ]
  },
  {
   "cell_type": "code",
   "execution_count": 222,
   "metadata": {},
   "outputs": [],
   "source": [
    "# Open a file for writing\n",
    "my_file = open(\"test.txt\", 'w')\n",
    "\n",
    "# Write some text to the file\n",
    "my_file.write(\"Hello, World!\")\n",
    "\n",
    "# Close the file\n",
    "my_file.close()\n",
    "\n",
    "# after running it you can see it in open new file\n"
   ]
  },
  {
   "cell_type": "code",
   "execution_count": 227,
   "metadata": {},
   "outputs": [
    {
     "name": "stdout",
     "output_type": "stream",
     "text": [
      "Hello, World!\n",
      "This is new!!!\n",
      "\n",
      "aadasdasadssdaadsasdsad\n"
     ]
    }
   ],
   "source": [
    "# Open the file for reading\n",
    "f = open(\"test.txt\", 'r') #r for reading, w for writing\n",
    "\n",
    "# Read the entire contents of the file\n",
    "print(f.read())"
   ]
  },
  {
   "cell_type": "code",
   "execution_count": null,
   "metadata": {},
   "outputs": [
    {
     "name": "stdout",
     "output_type": "stream",
     "text": [
      "Hello, World!\n"
     ]
    }
   ],
   "source": [
    "filename = \"test.txt\"\n",
    "\n",
    "with open(filename, \"r\") as f:\n",
    "    text = f.read()\n",
    "\n",
    "print(text)"
   ]
  },
  {
   "cell_type": "code",
   "execution_count": null,
   "metadata": {},
   "outputs": [],
   "source": []
  },
  {
   "cell_type": "code",
   "execution_count": null,
   "metadata": {},
   "outputs": [],
   "source": []
  },
  {
   "cell_type": "markdown",
   "metadata": {},
   "source": [
    "## 5. Intro to Classes and Object Oriented Programming\n",
    "\n",
    "Object Oriented Programming (OOP) allows programmers to create their own objects that have methods and attributes. \n",
    "\n",
    "Almost everything in Python is an object, with its properties and methods.\n",
    "\n",
    "A Class is like an object constructor, or a \"blueprint\" for creating objects.\n",
    "\n",
    "A Class can have attributes (variables) and methods (functions).\n",
    "\n",
    "Class names should be written in PascalCase, in contrast to function and variable names which should be written in snake_case.\n",
    "\n"
   ]
  },
  {
   "cell_type": "code",
   "execution_count": 228,
   "metadata": {},
   "outputs": [],
   "source": [
    "class Point:        # this is the class definition\n",
    "    x = 5\n",
    "    y = 10"
   ]
  },
  {
   "cell_type": "markdown",
   "metadata": {},
   "source": [
    "This is different that variables and functions"
   ]
  },
  {
   "cell_type": "code",
   "execution_count": 229,
   "metadata": {},
   "outputs": [
    {
     "name": "stdout",
     "output_type": "stream",
     "text": [
      "x: 5\n",
      "y: 10\n"
     ]
    }
   ],
   "source": [
    "p1 = Point()        # p1 is an object of type Point\n",
    "\n",
    "print(\"x:\", p1.x)\n",
    "print(\"y:\", p1.y)"
   ]
  },
  {
   "cell_type": "code",
   "execution_count": 230,
   "metadata": {},
   "outputs": [
    {
     "name": "stdout",
     "output_type": "stream",
     "text": [
      "x: 5\n",
      "y: 10\n"
     ]
    }
   ],
   "source": [
    "p2 = Point()        # p2 is another object of type Point\n",
    "\n",
    "print(\"x:\", p2.x)\n",
    "print(\"y:\", p2.y)"
   ]
  },
  {
   "cell_type": "code",
   "execution_count": null,
   "metadata": {},
   "outputs": [],
   "source": []
  },
  {
   "cell_type": "code",
   "execution_count": 274,
   "metadata": {},
   "outputs": [],
   "source": [
    "class User:\n",
    "\n",
    "    def __init__(self, name, age, city):    # this is the constructor, assigning the attributes\n",
    "        self.name = name                       \n",
    "        self.age = age                      # self in Javascrypt is this\n",
    "        self.city = city\n",
    "\n",
    "    def say_hello(self):                    # this is a method\n",
    "        print(f\"Hello, my name is {self.name} and I'm {self.age} years old.\")\n",
    "\n",
    "    def getting_older(self, years=1):\n",
    "        self.age += years\n",
    "        print(f\"Now I'm {self.age} years old.\")\n",
    "\n",
    "    def change_city(self, new_city):\n",
    "        self.city = new_city\n",
    "        print(f\"I moved to {self.city}.\")\n"
   ]
  },
  {
   "cell_type": "code",
   "execution_count": 232,
   "metadata": {},
   "outputs": [
    {
     "name": "stdout",
     "output_type": "stream",
     "text": [
      "<class 'type'>\n",
      "<class '__main__.User'>\n"
     ]
    }
   ],
   "source": [
    "print(type(User))\n",
    "print(User)"
   ]
  },
  {
   "cell_type": "code",
   "execution_count": 233,
   "metadata": {},
   "outputs": [
    {
     "name": "stdout",
     "output_type": "stream",
     "text": [
      "<class '__main__.User'>\n"
     ]
    }
   ],
   "source": [
    "user1 = User(\"John\", 30, \"New York\")        # user1 is an object of type User\n",
    "\n",
    "print(type(user1))"
   ]
  },
  {
   "cell_type": "code",
   "execution_count": 234,
   "metadata": {},
   "outputs": [
    {
     "name": "stdout",
     "output_type": "stream",
     "text": [
      "<__main__.User object at 0x0000018BFFC2F290>\n"
     ]
    }
   ],
   "source": [
    "print(user1)"
   ]
  },
  {
   "cell_type": "code",
   "execution_count": 276,
   "metadata": {},
   "outputs": [
    {
     "name": "stdout",
     "output_type": "stream",
     "text": [
      "John\n",
      "36\n",
      "Barcelona\n"
     ]
    }
   ],
   "source": [
    "# We can access to the attributes of the object user1\n",
    "print(user1.name)\n",
    "print(user1.age)\n",
    "print(user1.city)"
   ]
  },
  {
   "cell_type": "code",
   "execution_count": 239,
   "metadata": {},
   "outputs": [
    {
     "name": "stdout",
     "output_type": "stream",
     "text": [
      "Hello, my name is John and I'm 30 years old.\n"
     ]
    }
   ],
   "source": [
    "# Let's try the User methods\n",
    "\n",
    "user1.say_hello()"
   ]
  },
  {
   "cell_type": "code",
   "execution_count": 240,
   "metadata": {},
   "outputs": [
    {
     "name": "stdout",
     "output_type": "stream",
     "text": [
      "Now I'm 31 years old.\n"
     ]
    }
   ],
   "source": [
    "user1.getting_older()"
   ]
  },
  {
   "cell_type": "code",
   "execution_count": 241,
   "metadata": {},
   "outputs": [
    {
     "data": {
      "text/plain": [
       "31"
      ]
     },
     "execution_count": 241,
     "metadata": {},
     "output_type": "execute_result"
    }
   ],
   "source": [
    "user1.age"
   ]
  },
  {
   "cell_type": "code",
   "execution_count": 242,
   "metadata": {},
   "outputs": [
    {
     "name": "stdout",
     "output_type": "stream",
     "text": [
      "Now I'm 36 years old.\n"
     ]
    }
   ],
   "source": [
    "user1.getting_older(5)"
   ]
  },
  {
   "cell_type": "code",
   "execution_count": 244,
   "metadata": {},
   "outputs": [
    {
     "data": {
      "text/plain": [
       "36"
      ]
     },
     "execution_count": 244,
     "metadata": {},
     "output_type": "execute_result"
    }
   ],
   "source": [
    "user1.age"
   ]
  },
  {
   "cell_type": "code",
   "execution_count": 243,
   "metadata": {},
   "outputs": [
    {
     "name": "stdout",
     "output_type": "stream",
     "text": [
      "I moved to Barcelona.\n"
     ]
    }
   ],
   "source": [
    "user1.change_city(\"Barcelona\")"
   ]
  },
  {
   "cell_type": "code",
   "execution_count": 245,
   "metadata": {},
   "outputs": [
    {
     "data": {
      "text/plain": [
       "'Barcelona'"
      ]
     },
     "execution_count": 245,
     "metadata": {},
     "output_type": "execute_result"
    }
   ],
   "source": [
    "user1.city"
   ]
  },
  {
   "cell_type": "code",
   "execution_count": null,
   "metadata": {},
   "outputs": [],
   "source": []
  },
  {
   "cell_type": "code",
   "execution_count": 246,
   "metadata": {},
   "outputs": [],
   "source": [
    "# Let's create more objects of the class User\n",
    "\n",
    "user2 = User(\"Mary\", 26, \"Paris\")\n",
    "user3 = User(\"Bob\", 38, \"Sao Paulo\")"
   ]
  },
  {
   "cell_type": "code",
   "execution_count": 247,
   "metadata": {},
   "outputs": [
    {
     "name": "stdout",
     "output_type": "stream",
     "text": [
      "Hello, my name is Mary and I'm 26 years old.\n",
      "Hello, my name is Bob and I'm 38 years old.\n"
     ]
    }
   ],
   "source": [
    "user2.say_hello()\n",
    "user3.say_hello()"
   ]
  },
  {
   "cell_type": "code",
   "execution_count": null,
   "metadata": {},
   "outputs": [],
   "source": []
  },
  {
   "cell_type": "markdown",
   "metadata": {},
   "source": [
    "## 6. Exercises"
   ]
  },
  {
   "cell_type": "markdown",
   "metadata": {},
   "source": [
    "#### Ex 1.\n",
    "\n",
    "Create a function that receives a list with different numbers and returns a list with the unique numbers, removing the repeated ones."
   ]
  },
  {
   "cell_type": "code",
   "execution_count": 12,
   "metadata": {},
   "outputs": [
    {
     "name": "stdout",
     "output_type": "stream",
     "text": [
      "15 numbers\n",
      "[1, 2, 3, 4, 5, 6, 7, 8, 9, 3, 4, 6, 7, 8, 5]\n",
      "\n",
      "9 unique numbers\n",
      "{1, 2, 3, 4, 5, 6, 7, 8, 9}\n"
     ]
    }
   ],
   "source": [
    "# Your code here\n",
    "Numbers = [1,2,3,4,5,6,7,8,9,3,4,6,7,8,5]\n",
    "\n",
    "print(len(Numbers), \"numbers\")\n",
    "print(Numbers)\n",
    "print()\n",
    "\n",
    "unique_numbers = set(Numbers)\n",
    "print(len(unique_numbers), \"unique numbers\")\n",
    "print(unique_numbers)\n",
    "\n",
    "# [] are used for lists\n",
    "# {} are used for sets"
   ]
  },
  {
   "cell_type": "markdown",
   "metadata": {},
   "source": [
    "#### Ex 2.\n",
    "\n",
    "Word counter dictionary: create a function that receives a text string and returns a dictionary, being every key a different word in the text and every value the number of times each word appears in the string. The string won't have any punctuation marks, only words and spaces.\n",
    "\n",
    "For example, if the input is \"This blue ball is blue\" the output should be {\"This\": 1, \"blue\": 2, \"ball\": 1, \"is\": 1}."
   ]
  },
  {
   "cell_type": "code",
   "execution_count": 13,
   "metadata": {},
   "outputs": [],
   "source": [
    "example_text = \"\"\"There are so many cars in that street. Every car is parked next to other cars. My car is red but it looks fine.\"\"\"\n",
    "\n",
    "# Your code here"
   ]
  },
  {
   "cell_type": "code",
   "execution_count": 15,
   "metadata": {},
   "outputs": [
    {
     "name": "stdout",
     "output_type": "stream",
     "text": [
      "{'There': 1, 'are': 1, 'so': 1, 'many': 1, 'cars': 1, 'in': 1, 'that': 1, 'street.': 1, 'Every': 1, 'car': 2, 'is': 2, 'parked': 1, 'next': 1, 'to': 1, 'other': 1, 'cars.': 1, 'My': 1, 'red': 1, 'but': 1, 'it': 1, 'looks': 1, 'fine.': 1}\n"
     ]
    }
   ],
   "source": [
    "def text_words(text):\n",
    "    word_count = {}\n",
    "    words = text.split()\n",
    "    for word in words:\n",
    "        if word in word_count:\n",
    "            word_count[word] += 1 \n",
    "        else:\n",
    "            word_count[word] = 1\n",
    "    return word_count\n",
    "print(text_words(example_text))"
   ]
  },
  {
   "cell_type": "markdown",
   "metadata": {},
   "source": [
    "#### Ex 3. \n",
    "\n",
    "Run the following cell to create the file for the exercise. The file contains at every line, the name of the company and its price, separated by a colon \":\" sign and at the end has the \"dollars\" string as the units. After running the cell you should see a stocks_prices.txt file in your folder.\n",
    "\n",
    "Your task is to end up with a dictionary with every company name as the key of every element and the value to be the float value of its price.\n",
    "\n",
    "To do it, you can open the file, read the entire content of it into a variable and split that long string by the new line character \"\\n\". Then you will have a list with every company information in a string. After that you can split that string of every line by the \":\" having the company name at the first position of that second list, and the rest of the string in the position 1. Then get the stock price value split again the second part of the line to remove the \"dollars\" part and you will have the price as a string, Convert the string into a float and you will be able to create the dictionary with the company name as the key and the value as the price in float type.\n"
   ]
  },
  {
   "cell_type": "code",
   "execution_count": 16,
   "metadata": {},
   "outputs": [],
   "source": [
    "# Don't change this code, just make sure to run the cell before solving the exercise. \n",
    "\n",
    "stocks = \"\"\"Apple: 12.5 dollars\n",
    "Amazon: 5.0 dollars\n",
    "Nokia: 2 dollars\n",
    "Meta: 3.1 dollars\n",
    "Google: 7.1 dollars\n",
    "Tesla: 8.5 dollars \n",
    "Microsoft: 4.5 dollars\n",
    "Alibaba: 2.5 dollars\n",
    "Intel: 3.8 dollars\n",
    "ASML: 11.2 dollars\n",
    "\"\"\"\n",
    "\n",
    "with open(\"stocks_prices.txt\", \"w\") as f:\n",
    "    f.write(stocks)"
   ]
  },
  {
   "cell_type": "code",
   "execution_count": 17,
   "metadata": {},
   "outputs": [
    {
     "name": "stdout",
     "output_type": "stream",
     "text": [
      "Apple: 12.5 dollars\n",
      "Amazon: 5.0 dollars\n",
      "Nokia: 2 dollars\n",
      "Meta: 3.1 dollars\n",
      "Google: 7.1 dollars\n",
      "Tesla: 8.5 dollars \n",
      "Microsoft: 4.5 dollars\n",
      "Alibaba: 2.5 dollars\n",
      "Intel: 3.8 dollars\n",
      "ASML: 11.2 dollars\n",
      "\n"
     ]
    }
   ],
   "source": [
    "# Your code here\n",
    "\n",
    "f = open(\"stocks_prices.txt\", \"r\") #the f is the file\n",
    "\n",
    "stock_info = f.read()\n",
    "\n",
    "print(stock_info) # a single string with multiple lines"
   ]
  },
  {
   "cell_type": "code",
   "execution_count": 18,
   "metadata": {},
   "outputs": [
    {
     "data": {
      "text/plain": [
       "['Apple: 12.5 dollars',\n",
       " 'Amazon: 5.0 dollars',\n",
       " 'Nokia: 2 dollars',\n",
       " 'Meta: 3.1 dollars',\n",
       " 'Google: 7.1 dollars',\n",
       " 'Tesla: 8.5 dollars ',\n",
       " 'Microsoft: 4.5 dollars',\n",
       " 'Alibaba: 2.5 dollars',\n",
       " 'Intel: 3.8 dollars',\n",
       " 'ASML: 11.2 dollars',\n",
       " '']"
      ]
     },
     "execution_count": 18,
     "metadata": {},
     "output_type": "execute_result"
    }
   ],
   "source": [
    "# I use another code line to not read the file everytime\n",
    "# I want to separate every line here\n",
    "\n",
    "stock_info_lines = stock_info.split(\"\\n\")\n",
    "\n",
    "stock_info_lines"
   ]
  },
  {
   "cell_type": "code",
   "execution_count": 19,
   "metadata": {},
   "outputs": [
    {
     "name": "stdout",
     "output_type": "stream",
     "text": [
      "['Apple', '12.5 dollars']\n",
      "12.5\n",
      "['Amazon', '5.0 dollars']\n",
      "5.0\n",
      "['Nokia', '2 dollars']\n",
      "2\n",
      "['Meta', '3.1 dollars']\n",
      "3.1\n",
      "['Google', '7.1 dollars']\n",
      "7.1\n",
      "['Tesla', '8.5 dollars ']\n",
      "8.5\n",
      "['Microsoft', '4.5 dollars']\n",
      "4.5\n",
      "['Alibaba', '2.5 dollars']\n",
      "2.5\n",
      "['Intel', '3.8 dollars']\n",
      "3.8\n",
      "['ASML', '11.2 dollars']\n",
      "11.2\n"
     ]
    },
    {
     "data": {
      "text/plain": [
       "{'Apple': 12.5,\n",
       " 'Amazon': 5.0,\n",
       " 'Nokia': 2.0,\n",
       " 'Meta': 3.1,\n",
       " 'Google': 7.1,\n",
       " 'Tesla': 8.5,\n",
       " 'Microsoft': 4.5,\n",
       " 'Alibaba': 2.5,\n",
       " 'Intel': 3.8,\n",
       " 'ASML': 11.2}"
      ]
     },
     "execution_count": 19,
     "metadata": {},
     "output_type": "execute_result"
    }
   ],
   "source": [
    "stock_info_dict = {}\n",
    "\n",
    "for line in stock_info_lines:\n",
    "    if line != \"\":\n",
    "        company_info = (line.split(\": \"))\n",
    "        print(company_info)\n",
    "        #break  ---------------------               # here you can use the break to see if its working, like adding a comment\n",
    "        company_name = company_info[0]              # the company name is the first of both\n",
    "        price = company_info[1].strip(\" dollars\")\n",
    "        print (price)\n",
    "        price = float(price)                        # the float is used to convert the text to a number so it can be multiplied for example\n",
    "                                                    # as seen in class day02\n",
    "                                                    # - **float()**: normally used to convert an integer into a float or a string with character numbers into a float.\n",
    "        stock_info_dict[company_name] = price\n",
    "\n",
    "stock_info_dict"
   ]
  },
  {
   "cell_type": "code",
   "execution_count": 20,
   "metadata": {},
   "outputs": [
    {
     "data": {
      "text/plain": [
       "3.8"
      ]
     },
     "execution_count": 20,
     "metadata": {},
     "output_type": "execute_result"
    }
   ],
   "source": [
    "stock_info_dict[\"Intel\"]"
   ]
  },
  {
   "cell_type": "markdown",
   "metadata": {},
   "source": [
    "#### Ex 4.\n",
    "\n",
    "Create a Class Animal with the following attributes and methods:\n",
    "\n",
    "- attributes: name, age, weight, sound, species\n",
    "\n",
    "- methods:  \n",
    "    - eat: *gains 1kg*\n",
    "    - sleep: *prints \"zzz\"*\n",
    "    - run: *loses 1kg* \n",
    "    - make_sound: *prints the sound of the animal*"
   ]
  },
  {
   "cell_type": "code",
   "execution_count": 22,
   "metadata": {},
   "outputs": [],
   "source": [
    "class Animal:\n",
    "\n",
    "    def __init__(self, name, age, weight, sound, species):    # this is the constructor, assigning the attributes\n",
    "        self.name = name                       \n",
    "        self.age = age                                        # self in Javascrypt is this\n",
    "        self.weight = weight\n",
    "        self.sound = sound\n",
    "        self.species = species\n",
    "        \n",
    "\n",
    "    def eat(self):                                            # this is a method\n",
    "        # This will increase the weight of the animal by 1 kg\n",
    "        self.weight += 1\n",
    "        print(f\"{self.name} is eating. Weight is now {self.weight}kg\")\n",
    "\n",
    "    def sleep(self):\n",
    "        # This wil print \"zzz\" as it sleeps\n",
    "        print(f\"zzz\")\n",
    "\n",
    "    def run(self):\n",
    "        # This will make the animal lose 1kg when it runs\n",
    "        self.weight -= 1\n",
    "        print(f\"{self.name} is running. Weight is now {self.weight}kg\")\n",
    "\n",
    "    def make_sound(self):\n",
    "        # This will print the sound of the animal\n",
    "        print(f\"{self.name} says {self.sound}\")"
   ]
  },
  {
   "cell_type": "markdown",
   "metadata": {},
   "source": [
    "#### Ex 5. \n",
    "\n",
    "Crate 3 objects of the previous class: a dog, a cat and a cow.\n",
    "\n",
    "Then make them eat, sleep, run and make sound."
   ]
  },
  {
   "cell_type": "code",
   "execution_count": 23,
   "metadata": {},
   "outputs": [],
   "source": [
    "dog = Animal(name=\"Figo\", age=6, weight=30, sound=\"Woof\", species=\"Dog\")\n",
    "cat = Animal(name=\"Michi\", age=8, weight=8, sound=\"Meow\", species=\"Cat\")\n",
    "cow = Animal(name=\"Sunny\", age=2, weight=800, sound=\"Moo\", species=\"Cow\")"
   ]
  },
  {
   "cell_type": "code",
   "execution_count": 24,
   "metadata": {},
   "outputs": [
    {
     "name": "stdout",
     "output_type": "stream",
     "text": [
      "Figo is eating. Weight is now 31kg\n"
     ]
    }
   ],
   "source": [
    "dog.eat()"
   ]
  },
  {
   "cell_type": "code",
   "execution_count": 303,
   "metadata": {},
   "outputs": [
    {
     "name": "stdout",
     "output_type": "stream",
     "text": [
      "zzz\n"
     ]
    }
   ],
   "source": [
    "dog.sleep()\n"
   ]
  },
  {
   "cell_type": "code",
   "execution_count": 304,
   "metadata": {},
   "outputs": [
    {
     "name": "stdout",
     "output_type": "stream",
     "text": [
      "Figo is running. Weight is now 30kg\n"
     ]
    }
   ],
   "source": [
    "dog.run()\n"
   ]
  },
  {
   "cell_type": "code",
   "execution_count": 305,
   "metadata": {},
   "outputs": [
    {
     "name": "stdout",
     "output_type": "stream",
     "text": [
      "Figo says Woof\n"
     ]
    }
   ],
   "source": [
    "dog.make_sound()\n"
   ]
  },
  {
   "cell_type": "code",
   "execution_count": 306,
   "metadata": {},
   "outputs": [
    {
     "name": "stdout",
     "output_type": "stream",
     "text": [
      "Michi is eating. Weight is now 9kg\n"
     ]
    }
   ],
   "source": [
    "cat.eat()\n"
   ]
  },
  {
   "cell_type": "code",
   "execution_count": 307,
   "metadata": {},
   "outputs": [
    {
     "name": "stdout",
     "output_type": "stream",
     "text": [
      "zzz\n"
     ]
    }
   ],
   "source": [
    "cat.sleep()\n"
   ]
  },
  {
   "cell_type": "code",
   "execution_count": 308,
   "metadata": {},
   "outputs": [
    {
     "name": "stdout",
     "output_type": "stream",
     "text": [
      "Michi is running. Weight is now 8kg\n"
     ]
    }
   ],
   "source": [
    "cat.run()\n"
   ]
  },
  {
   "cell_type": "code",
   "execution_count": 309,
   "metadata": {},
   "outputs": [
    {
     "name": "stdout",
     "output_type": "stream",
     "text": [
      "Michi says Meow\n"
     ]
    }
   ],
   "source": [
    "cat.make_sound()\n"
   ]
  },
  {
   "cell_type": "code",
   "execution_count": 310,
   "metadata": {},
   "outputs": [
    {
     "name": "stdout",
     "output_type": "stream",
     "text": [
      "Sunny is eating. Weight is now 801kg\n"
     ]
    }
   ],
   "source": [
    "cow.eat()"
   ]
  },
  {
   "cell_type": "code",
   "execution_count": 311,
   "metadata": {},
   "outputs": [
    {
     "name": "stdout",
     "output_type": "stream",
     "text": [
      "zzz\n"
     ]
    }
   ],
   "source": [
    "cow.sleep()\n"
   ]
  },
  {
   "cell_type": "code",
   "execution_count": 312,
   "metadata": {},
   "outputs": [
    {
     "name": "stdout",
     "output_type": "stream",
     "text": [
      "Sunny is running. Weight is now 800kg\n"
     ]
    }
   ],
   "source": [
    "cow.run()\n"
   ]
  },
  {
   "cell_type": "code",
   "execution_count": 313,
   "metadata": {},
   "outputs": [
    {
     "name": "stdout",
     "output_type": "stream",
     "text": [
      "Sunny says Moo\n"
     ]
    }
   ],
   "source": [
    "cow.make_sound()\n"
   ]
  }
 ],
 "metadata": {
  "kernelspec": {
   "display_name": "venv",
   "language": "python",
   "name": "python3"
  },
  "language_info": {
   "codemirror_mode": {
    "name": "ipython",
    "version": 3
   },
   "file_extension": ".py",
   "mimetype": "text/x-python",
   "name": "python",
   "nbconvert_exporter": "python",
   "pygments_lexer": "ipython3",
   "version": "3.11.6"
  }
 },
 "nbformat": 4,
 "nbformat_minor": 2
}
