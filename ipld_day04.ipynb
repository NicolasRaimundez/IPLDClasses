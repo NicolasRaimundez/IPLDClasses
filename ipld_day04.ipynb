{
 "cells": [
  {
   "cell_type": "markdown",
   "metadata": {},
   "source": [
    "## EAE - Introduction to Programming Languages for Data \n",
    "## Day 4 - 30/11/2023\n",
    "\n",
    "### Instructor:  \n",
    "Enric Domingo  \n",
    "*Machine Learning and Software Engineer at ERNI*  \n",
    "edomingod@professional.eae.es\n",
    "\n",
    "#### Python Libraries for Data:\n",
    "\n",
    "- Finish prev. session\n",
    "0. Recap\n",
    "1. Intro to Libraries\n",
    "2. Creating and using our first module\n",
    "3. The Python Standard Library\n",
    "4. The pip package installer and using external libraries\n",
    "5. Exercisises"
   ]
  },
  {
   "cell_type": "markdown",
   "metadata": {},
   "source": [
    "---\n",
    "## 0. Recap\n",
    "\n",
    "In the previous session we saw: \n",
    "1. Dictionaries\n",
    "2. Tuples\n",
    "3. Sets\n",
    "4. File I/O\n",
    "5. Intro to Classes and Object Oriented Programming"
   ]
  },
  {
   "cell_type": "markdown",
   "metadata": {},
   "source": [
    "---\n",
    "## 1. Intro to Python Libraries\n",
    "\n",
    "Python libraries are reusable chunks of code that perform specific tasks or a set of related tasks. These libraries save developers from having to write code from scratch for every single function or feature they want to implement. They are essentially modules or packages that are designed to be used in other programs.\n",
    "\n",
    "Python libraries can be built-in, like the Python Standard Library that comes with the Python installation, or they can be third-party libraries that are developed and maintained by independent developers or organizations. These libraries can be used for a wide range of applications, including web development, data science, machine learning, automation, and many more. Examples of popular Python libraries that we will se in future days include:\n",
    "\n",
    "- **NumPy** for numerical computations \n",
    "  \n",
    "- **Pandas** for data manipulation\n",
    "  \n",
    "- **Matplotlib** for data visualization\n",
    "\n",
    "Some other popular ones are Tensorflow and Pytorch to create Deep Learning models, Scikit-learn for Machine Learning, Streamlit for basic data web apps, etc.\n",
    "\n",
    "To use a library in a Python program, you simply need to import it using the import statement. Once imported, you can use any functions, methods, and types provided by the library in your code.\n",
    "\n",
    "The concept of library is a general used term for Python modules, packages, and frameworks. In this tutorial, we’ll use the term library to refer to any of these: \n",
    "\n",
    "- A **module** is a single Python file that can be imported. \n",
    "\n",
    "- A **package** is a directory of Python modules. \n",
    "\n",
    "- A **framework** is a collection of packages."
   ]
  },
  {
   "cell_type": "markdown",
   "metadata": {},
   "source": [
    "---\n",
    "## 2. Creating and using our first module\n",
    "\n",
    "The best way to understand what is a library or a module in Python is to break the black box, create our own module and use it in our code. \n",
    "\n",
    "To do it, we will need to create a new Python file in that can be in the same directory (folder) as our main program or in a different one. Then we will develop there some functions, classes, variables or anything useful and reusable that we will use in our main program.\n",
    "\n",
    "After that, we will need to import the module in our main program and use it.\n",
    "\n",
    "Let's see an example:\n"
   ]
  },
  {
   "cell_type": "code",
   "execution_count": 1,
   "metadata": {},
   "outputs": [],
   "source": [
    "# Hello module example (hello_module.py)\n",
    "\n",
    "# def hello()\n",
    "    # print(\"Hello from the module!\")"
   ]
  },
  {
   "cell_type": "code",
   "execution_count": 2,
   "metadata": {},
   "outputs": [
    {
     "name": "stdout",
     "output_type": "stream",
     "text": [
      "Hello from the module\n"
     ]
    }
   ],
   "source": [
    "from hello_module import hello #para esto tenes que abrir el hello_module.py en otro tab\n",
    "\n",
    "hello()"
   ]
  },
  {
   "cell_type": "code",
   "execution_count": 3,
   "metadata": {},
   "outputs": [
    {
     "data": {
      "text/plain": [
       "5"
      ]
     },
     "execution_count": 3,
     "metadata": {},
     "output_type": "execute_result"
    }
   ],
   "source": [
    "from hello_module import hello, add\n",
    "\n",
    "add (2, 3)"
   ]
  },
  {
   "cell_type": "code",
   "execution_count": 4,
   "metadata": {},
   "outputs": [
    {
     "data": {
      "text/plain": [
       "7"
      ]
     },
     "execution_count": 4,
     "metadata": {},
     "output_type": "execute_result"
    }
   ],
   "source": [
    "from hello_module import *\n",
    "\n",
    "add(3, 4)\n",
    "\n",
    "#adds everything from hello_module and below"
   ]
  },
  {
   "cell_type": "code",
   "execution_count": 5,
   "metadata": {},
   "outputs": [],
   "source": [
    "import hello_module"
   ]
  },
  {
   "cell_type": "code",
   "execution_count": 6,
   "metadata": {},
   "outputs": [],
   "source": [
    "# A more useful example:\n",
    "\n",
    "# 1. In this same folder, create a new file and call it my_module.py\n",
    "\n",
    "# 2. In that file, define a function named multiply_in_range(nums_list, start, stop) that takes a list of numbers\n",
    "# and returns de product (multipliction) of all the numbers between start (inclusive) and stop (not inclusive).\n",
    "# (you can try to develop it first here in the following cell and when it is working, copy and paste it to that file)\n",
    "\n",
    "# 3. Then, save that file and in the next code cell, import it as "
   ]
  },
  {
   "cell_type": "code",
   "execution_count": 7,
   "metadata": {},
   "outputs": [
    {
     "name": "stdout",
     "output_type": "stream",
     "text": [
      "2\n",
      "8\n",
      "48\n"
     ]
    },
    {
     "data": {
      "text/plain": [
       "48"
      ]
     },
     "execution_count": 7,
     "metadata": {},
     "output_type": "execute_result"
    }
   ],
   "source": [
    "#esto va al my_module.py\n",
    "\n",
    "nums_list = [1, 2, 4, 6, 8]\n",
    "start = 2\n",
    "stop = 7\n",
    "\n",
    "# result = 2*4*6 = 48\n",
    "\n",
    "def multiply_in_range(nums_list, start, stop):\n",
    "    final_prod = None\n",
    "\n",
    "    for num in nums_list:\n",
    "        if start <= num < stop:\n",
    "            if not final_prod:\n",
    "                final_prod = 1\n",
    "\n",
    "            final_prod *= num\n",
    "            print(final_prod)\n",
    "\n",
    "    return final_prod\n",
    "\n",
    "\n",
    "multiply_in_range([1, 2, 4, 6, 8], 2, 7)"
   ]
  },
  {
   "cell_type": "code",
   "execution_count": 8,
   "metadata": {},
   "outputs": [
    {
     "name": "stdout",
     "output_type": "stream",
     "text": [
      "2\n",
      "8\n",
      "48\n",
      "2\n",
      "8\n",
      "48\n"
     ]
    },
    {
     "data": {
      "text/plain": [
       "48"
      ]
     },
     "execution_count": 8,
     "metadata": {},
     "output_type": "execute_result"
    }
   ],
   "source": [
    "import my_module\n",
    "\n",
    "# 3 ways of calling the function\n",
    "my_module.multiply_in_range(nums_list=nums_list, start=start, stop=stop) # one way to call the function\n",
    "# my_module.multiply_in_range(nums_list, start, stop)\n",
    "# my_module.multiply_in_range([1,2,4,6,8], 2, 7)\n"
   ]
  },
  {
   "cell_type": "code",
   "execution_count": 9,
   "metadata": {},
   "outputs": [
    {
     "name": "stdout",
     "output_type": "stream",
     "text": [
      "2\n",
      "8\n",
      "48\n"
     ]
    },
    {
     "data": {
      "text/plain": [
       "48"
      ]
     },
     "execution_count": 9,
     "metadata": {},
     "output_type": "execute_result"
    }
   ],
   "source": [
    "import my_module\n",
    "\n",
    "my_module.multiply_in_range([1,2,4,6,8], 2, 7)"
   ]
  },
  {
   "cell_type": "code",
   "execution_count": 10,
   "metadata": {},
   "outputs": [
    {
     "name": "stdout",
     "output_type": "stream",
     "text": [
      "14\n",
      "70\n",
      "560\n"
     ]
    },
    {
     "data": {
      "text/plain": [
       "560"
      ]
     },
     "execution_count": 10,
     "metadata": {},
     "output_type": "execute_result"
    }
   ],
   "source": [
    "# Try to develop here the multiply_in_range function\n",
    "\n",
    "def multiply_in_range(nums_list, start, stop):\n",
    "    final_prod = None\n",
    "\n",
    "    for num in nums_list:\n",
    "        if start <= num < stop:\n",
    "            if not final_prod:\n",
    "                final_prod = 1\n",
    "\n",
    "            final_prod *= num\n",
    "            print(final_prod)\n",
    "\n",
    "    return final_prod\n",
    "\n",
    "\n",
    "multiply_in_range([14, 5, 20, 8, 16], 4, 15)\n",
    "            \n"
   ]
  },
  {
   "cell_type": "code",
   "execution_count": 11,
   "metadata": {},
   "outputs": [
    {
     "name": "stdout",
     "output_type": "stream",
     "text": [
      "2\n",
      "6\n",
      "24\n"
     ]
    },
    {
     "data": {
      "text/plain": [
       "24"
      ]
     },
     "execution_count": 11,
     "metadata": {},
     "output_type": "execute_result"
    }
   ],
   "source": [
    "import my_module\n",
    "\n",
    "my_module.multiply_in_range([1,2,3,4,5], 2, 5)  # this example should return 24"
   ]
  },
  {
   "cell_type": "code",
   "execution_count": 12,
   "metadata": {},
   "outputs": [
    {
     "name": "stdout",
     "output_type": "stream",
     "text": [
      "14\n",
      "70\n",
      "560\n"
     ]
    },
    {
     "data": {
      "text/plain": [
       "560"
      ]
     },
     "execution_count": 12,
     "metadata": {},
     "output_type": "execute_result"
    }
   ],
   "source": [
    "from my_module import multiply_in_range\n",
    "\n",
    "my_module.multiply_in_range([14, 5, 20, 8, 16], 4, 15)  # this example should return 560"
   ]
  },
  {
   "cell_type": "code",
   "execution_count": null,
   "metadata": {},
   "outputs": [],
   "source": []
  },
  {
   "cell_type": "code",
   "execution_count": null,
   "metadata": {},
   "outputs": [],
   "source": []
  },
  {
   "cell_type": "markdown",
   "metadata": {},
   "source": [
    "---\n",
    "## 3. The Python Standard Library\n",
    "\n",
    "The Python Standard Library is a collection of modules and packages that are intended to be used with the Python programming language. It is distributed with the Python installation, so you don’t need to install any external packages to use it.\n",
    "\n",
    "You can check all list of available modules in the Python Standard Library in the official documentation: https://docs.python.org/3/library/index.html\n",
    "\n",
    "Let's check some of the most useful ones:\n",
    "\n",
    "- **os**: This module provides a portable way of using operating system dependent functionality. It allows you to access the underlying operating system’s functionality without having to deal with the differences between operating systems. It also provides some useful functions to manipulate files and directories.\n",
    "\n",
    "- **math**: This module provides access to the mathematical functions defined by the C standard.\n",
    "\n",
    "- **random**: This module implements pseudo-random number generators for various distributions.\n",
    "\n",
    "- **time**: This module provides various time-related functions.\n"
   ]
  },
  {
   "cell_type": "code",
   "execution_count": 13,
   "metadata": {},
   "outputs": [
    {
     "data": {
      "text/plain": [
       "'/Users/nicolasraimundez/Documents/Code - EAE Business School/eae_ipld'"
      ]
     },
     "execution_count": 13,
     "metadata": {},
     "output_type": "execute_result"
    }
   ],
   "source": [
    "# os module\n",
    "\n",
    "import os\n",
    "\n",
    "os.getcwd()     # get current working directory"
   ]
  },
  {
   "cell_type": "code",
   "execution_count": 23,
   "metadata": {},
   "outputs": [
    {
     "name": "stdout",
     "output_type": "stream",
     "text": [
      "['spotify-2023.csv', 'my_module.py', 'hello.py', '.DS_Store', 'house_data.csv', 'weatherAUS.csv', '__pycache__', 'Excercise1day4.py', 'ipld_day07.ipynb', 'stocks_prices.txt', 'cat_img.jpg', 'expensive_houses.csv', 'ipld_day05.ipynb', 'hello_module.py', 'ipld_day01.ipynb', 'ipld_day03.ipynb', 'inverted_image.jpg', 'expensive_houses.xlsx', 'ipld_day04.ipynb', 'ipld_day06.ipynb', 'ipld_day02.ipynb', 'sales.csv']\n",
      "\n",
      "None\n",
      "\n",
      "['spotify-2023.csv', 'my_module.py', 'hello.py', '.DS_Store', 'test', 'house_data.csv', 'weatherAUS.csv', '__pycache__', 'Excercise1day4.py', 'ipld_day07.ipynb', 'stocks_prices.txt', 'cat_img.jpg', 'expensive_houses.csv', 'ipld_day05.ipynb', 'hello_module.py', 'ipld_day01.ipynb', 'ipld_day03.ipynb', 'inverted_image.jpg', 'expensive_houses.xlsx', 'ipld_day04.ipynb', 'ipld_day06.ipynb', 'ipld_day02.ipynb', 'sales.csv']\n"
     ]
    }
   ],
   "source": [
    "print(os.listdir())         # list all files in current directory\n",
    "print()\n",
    "print(os.mkdir(\"test\"))     # create a new directory\n",
    "print()\n",
    "print(os.listdir())         # let's see if the folder was created...\n"
   ]
  },
  {
   "cell_type": "code",
   "execution_count": 24,
   "metadata": {},
   "outputs": [
    {
     "ename": "FileNotFoundError",
     "evalue": "[Errno 2] No such file or directory: 'c:/Users/Nico/Downloads'",
     "output_type": "error",
     "traceback": [
      "\u001b[0;31m---------------------------------------------------------------------------\u001b[0m",
      "\u001b[0;31mFileNotFoundError\u001b[0m                         Traceback (most recent call last)",
      "Cell \u001b[0;32mIn[24], line 2\u001b[0m\n\u001b[1;32m      1\u001b[0m \u001b[38;5;66;03m# lists the downloads folder\u001b[39;00m\n\u001b[0;32m----> 2\u001b[0m \u001b[43mos\u001b[49m\u001b[38;5;241;43m.\u001b[39;49m\u001b[43mlistdir\u001b[49m\u001b[43m(\u001b[49m\u001b[38;5;124;43m\"\u001b[39;49m\u001b[38;5;124;43mc:/Users/Nico/Downloads\u001b[39;49m\u001b[38;5;124;43m\"\u001b[39;49m\u001b[43m)\u001b[49m\n",
      "\u001b[0;31mFileNotFoundError\u001b[0m: [Errno 2] No such file or directory: 'c:/Users/Nico/Downloads'"
     ]
    }
   ],
   "source": [
    "# lists the downloads folder\n",
    "os.listdir(\"c:/Users/Nico/Downloads\")"
   ]
  },
  {
   "cell_type": "code",
   "execution_count": 1,
   "metadata": {},
   "outputs": [
    {
     "ename": "NameError",
     "evalue": "name 'os' is not defined",
     "output_type": "error",
     "traceback": [
      "\u001b[0;31m---------------------------------------------------------------------------\u001b[0m",
      "\u001b[0;31mNameError\u001b[0m                                 Traceback (most recent call last)",
      "Cell \u001b[0;32mIn[1], line 1\u001b[0m\n\u001b[0;32m----> 1\u001b[0m \u001b[38;5;28mprint\u001b[39m(\u001b[43mos\u001b[49m\u001b[38;5;241m.\u001b[39mname)        \u001b[38;5;66;03m# get the name of the operating system dependent module imported\u001b[39;00m\n",
      "\u001b[0;31mNameError\u001b[0m: name 'os' is not defined"
     ]
    }
   ],
   "source": [
    "print(os.name)        # get the name of the operating system dependent module imported"
   ]
  },
  {
   "cell_type": "code",
   "execution_count": null,
   "metadata": {},
   "outputs": [],
   "source": []
  },
  {
   "cell_type": "code",
   "execution_count": 2,
   "metadata": {},
   "outputs": [
    {
     "name": "stdout",
     "output_type": "stream",
     "text": [
      "3.141592653589793\n"
     ]
    }
   ],
   "source": [
    "# math module\n",
    "\n",
    "import math\n",
    "\n",
    "print(math.pi)        # get the value of pi"
   ]
  },
  {
   "cell_type": "code",
   "execution_count": 3,
   "metadata": {},
   "outputs": [
    {
     "name": "stdout",
     "output_type": "stream",
     "text": [
      "my res: 3.1416\n"
     ]
    }
   ],
   "source": [
    "print(f\"my res: {math.pi:.4f}\") # get value of pi with 4 decimals only"
   ]
  },
  {
   "cell_type": "code",
   "execution_count": 57,
   "metadata": {},
   "outputs": [
    {
     "data": {
      "text/plain": [
       "3.1416"
      ]
     },
     "execution_count": 57,
     "metadata": {},
     "output_type": "execute_result"
    }
   ],
   "source": [
    "p = math.pi\n",
    "p.__round__(4)      # another way to get value of pi with 4 decimals only"
   ]
  },
  {
   "cell_type": "code",
   "execution_count": 5,
   "metadata": {},
   "outputs": [
    {
     "name": "stdout",
     "output_type": "stream",
     "text": [
      "2.995732273553991\n"
     ]
    }
   ],
   "source": [
    "print(math.log(20))         # get the natural logarithm of 20"
   ]
  },
  {
   "cell_type": "code",
   "execution_count": 6,
   "metadata": {},
   "outputs": [
    {
     "name": "stdout",
     "output_type": "stream",
     "text": [
      "1.0\n"
     ]
    }
   ],
   "source": [
    "print(math.sin(math.pi/2))      # get the sine of pi/2"
   ]
  },
  {
   "cell_type": "code",
   "execution_count": null,
   "metadata": {},
   "outputs": [],
   "source": []
  },
  {
   "cell_type": "code",
   "execution_count": 7,
   "metadata": {},
   "outputs": [
    {
     "name": "stdout",
     "output_type": "stream",
     "text": [
      "0.9863071914765612\n"
     ]
    }
   ],
   "source": [
    "# random module\n",
    "\n",
    "import random\n",
    "\n",
    "print(random.random())      # get a random number between 0 and 1"
   ]
  },
  {
   "cell_type": "code",
   "execution_count": 8,
   "metadata": {},
   "outputs": [
    {
     "data": {
      "text/plain": [
       "13.610410490134301"
      ]
     },
     "execution_count": 8,
     "metadata": {},
     "output_type": "execute_result"
    }
   ],
   "source": [
    "random.random() * 20"
   ]
  },
  {
   "cell_type": "code",
   "execution_count": 9,
   "metadata": {},
   "outputs": [
    {
     "data": {
      "text/plain": [
       "0"
      ]
     },
     "execution_count": 9,
     "metadata": {},
     "output_type": "execute_result"
    }
   ],
   "source": [
    "int(random.random() * 20)"
   ]
  },
  {
   "cell_type": "code",
   "execution_count": 10,
   "metadata": {},
   "outputs": [
    {
     "name": "stdout",
     "output_type": "stream",
     "text": [
      "8\n"
     ]
    }
   ],
   "source": [
    "print(random.randint(1, 10))    # get a random integer between 1 and 10"
   ]
  },
  {
   "cell_type": "code",
   "execution_count": 11,
   "metadata": {},
   "outputs": [
    {
     "name": "stdout",
     "output_type": "stream",
     "text": [
      "melon\n"
     ]
    }
   ],
   "source": [
    "my_list = [\"apple\", \"banana\", \"cherry\", \"pear\", \"melon\"]\n",
    "\n",
    "print(random.choice(my_list))   # get a random element from a list"
   ]
  },
  {
   "cell_type": "code",
   "execution_count": 12,
   "metadata": {},
   "outputs": [
    {
     "name": "stdout",
     "output_type": "stream",
     "text": [
      "2.9903164762889896\n"
     ]
    }
   ],
   "source": [
    "print(random.uniform(1, 10))       # get a random number between 1 and 10"
   ]
  },
  {
   "cell_type": "code",
   "execution_count": 13,
   "metadata": {},
   "outputs": [],
   "source": [
    "# Let's create a simulated random list of temperature reads between 10 and 20 degrees\n",
    "\n",
    "sim_temps = []\n",
    "\n",
    "for i in range(10):\n",
    "    sim_temps.append(random.uniform(10, 20))"
   ]
  },
  {
   "cell_type": "code",
   "execution_count": null,
   "metadata": {},
   "outputs": [],
   "source": []
  },
  {
   "cell_type": "code",
   "execution_count": 14,
   "metadata": {},
   "outputs": [
    {
     "name": "stdout",
     "output_type": "stream",
     "text": [
      "1702656812.7986848\n"
     ]
    }
   ],
   "source": [
    "# time module\n",
    "\n",
    "import time\n",
    "\n",
    "print(time.time())      # get the current time in seconds since 1/1/1970\n",
    "                        # every system uses this date to align time"
   ]
  },
  {
   "cell_type": "code",
   "execution_count": 15,
   "metadata": {},
   "outputs": [
    {
     "name": "stdout",
     "output_type": "stream",
     "text": [
      "2.2774620056152344 seconds\n"
     ]
    }
   ],
   "source": [
    "# Let's measure the time it takes to run a function\n",
    "# This is used a lot in Data Science to understand how much every code takes\n",
    "# Ex: this code takes 4 hours, lets try to make it faster, or more efficient\n",
    "\n",
    "start = time.time()\n",
    "\n",
    "nums = []\n",
    "for i in range(1000):\n",
    "    nums.append(i)\n",
    "    for num in nums:\n",
    "        num = num ** num\n",
    "\n",
    "end = time.time()\n",
    "\n",
    "print(end - start, \"seconds\")      # get the time it took to run the code above"
   ]
  },
  {
   "cell_type": "code",
   "execution_count": 16,
   "metadata": {},
   "outputs": [
    {
     "name": "stdout",
     "output_type": "stream",
     "text": [
      "Print immediately.\n",
      "Print after 4 seconds.\n"
     ]
    }
   ],
   "source": [
    "# its to measure time from one line to another one for example\n",
    "\n",
    "delay_s = 4\n",
    "\n",
    "print(\"Print immediately.\")\n",
    "\n",
    "time.sleep(delay_s)\n",
    "print(f\"Print after {delay_s} seconds.\")"
   ]
  },
  {
   "cell_type": "code",
   "execution_count": 17,
   "metadata": {},
   "outputs": [
    {
     "name": "stdout",
     "output_type": "stream",
     "text": [
      "2023-12-15 17:13:39\n"
     ]
    }
   ],
   "source": [
    "# Example: this can be used to name files and have the time as a title\n",
    "# https://docs.python.org/3/library/time.html --- here you can see the different letters to name the times\n",
    "\n",
    "t = time.localtime()\n",
    "\n",
    "print(time.strftime(\"%Y-%m-%d %H:%M:%S\", t))        # get the current time in a readable format"
   ]
  },
  {
   "cell_type": "code",
   "execution_count": null,
   "metadata": {},
   "outputs": [],
   "source": []
  },
  {
   "cell_type": "markdown",
   "metadata": {},
   "source": [
    "---\n",
    "## 4. The pip package installer and external libraries\n",
    "\n",
    "The Python Standard Library is a great resource for learning Python and getting things done quickly. However, it is not the only library available for Python. There are thousands of third-party libraries that you can install and use in your programs.\n",
    "\n",
    "The most popular way to install third-party libraries in Python is with the pip package installer. pip is a command-line utility that you can use to install, uninstall, and manage Python packages. It is included with the Python installation, so you don’t need to install it separately.\n",
    "\n",
    "To install a package with pip, you can use the following command in the terminal:\n",
    "\n",
    "```python\n",
    "pip install package_name\n",
    "```"
   ]
  },
  {
   "cell_type": "markdown",
   "metadata": {
    "vscode": {
     "languageId": "plaintext"
    }
   },
   "source": [
    "Let's check if \n",
    "In the terminal:\n",
    "\n",
    "$ pip --version   \n",
    "\n",
    "for mac (pip3 instead of pip, always):\n",
    "$ pip3 --version"
   ]
  },
  {
   "cell_type": "code",
   "execution_count": 36,
   "metadata": {},
   "outputs": [
    {
     "name": "stderr",
     "output_type": "stream",
     "text": [
      "770.45s - pydevd: Sending message related to process being replaced timed-out after 5 seconds\n"
     ]
    },
    {
     "name": "stdout",
     "output_type": "stream",
     "text": [
      "pip 21.2.4 from /Library/Developer/CommandLineTools/Library/Frameworks/Python3.framework/Versions/3.9/lib/python3.9/site-packages/pip (python 3.9)\n"
     ]
    }
   ],
   "source": [
    "# You can also run terminal commands from a Jupyter Notebook using the ! symbol\n",
    "\n",
    "!pip3 --version"
   ]
  },
  {
   "cell_type": "code",
   "execution_count": 54,
   "metadata": {},
   "outputs": [
    {
     "name": "stderr",
     "output_type": "stream",
     "text": [
      "3233.29s - pydevd: Sending message related to process being replaced timed-out after 5 seconds\n"
     ]
    },
    {
     "name": "stdout",
     "output_type": "stream",
     "text": [
      "Defaulting to user installation because normal site-packages is not writeable\n",
      "Requirement already satisfied: numpy in /Users/nicolasraimundez/Library/Python/3.9/lib/python/site-packages (1.26.2)\n",
      "\u001b[33mWARNING: You are using pip version 21.2.4; however, version 23.3.1 is available.\n",
      "You should consider upgrading via the '/Library/Developer/CommandLineTools/usr/bin/python3 -m pip install --upgrade pip' command.\u001b[0m\n"
     ]
    }
   ],
   "source": [
    "!pip3 install numpy"
   ]
  },
  {
   "cell_type": "code",
   "execution_count": 55,
   "metadata": {},
   "outputs": [],
   "source": [
    "import numpy"
   ]
  },
  {
   "cell_type": "markdown",
   "metadata": {
    "vscode": {
     "languageId": "plaintext"
    }
   },
   "source": [
    "Install numpy\n",
    "\n",
    "$ pip install numpy"
   ]
  },
  {
   "cell_type": "markdown",
   "metadata": {
    "vscode": {
     "languageId": "plaintext"
    }
   },
   "source": [
    "Uninstall numpy\n",
    "\n",
    "$ pip uninstall numpy"
   ]
  },
  {
   "cell_type": "markdown",
   "metadata": {
    "vscode": {
     "languageId": "plaintext"
    }
   },
   "source": [
    "Upgrade numpy \n",
    "\n",
    "$ pip install --upgrade numpy"
   ]
  },
  {
   "cell_type": "markdown",
   "metadata": {},
   "source": [
    "Check all installed libraries\n",
    "\n",
    "$ pip list"
   ]
  },
  {
   "cell_type": "markdown",
   "metadata": {},
   "source": [
    "Also with freeze\n",
    "\n",
    "$ pip freeze\n",
    "\n",
    " pip3 in mac "
   ]
  },
  {
   "cell_type": "markdown",
   "metadata": {},
   "source": [
    "Freeze is useful to export the list of packages installed in your environment to a file, usually called requirements.txt. This file can then be used by others to install the same packages in their own environment.\n",
    "\n",
    "$ pip freeze > requirements.txt\n",
    "\n",
    "$ pip3 freeze > requirements.txt in mac"
   ]
  },
  {
   "cell_type": "code",
   "execution_count": 42,
   "metadata": {},
   "outputs": [
    {
     "name": "stderr",
     "output_type": "stream",
     "text": [
      "2367.44s - pydevd: Sending message related to process being replaced timed-out after 5 seconds\n"
     ]
    },
    {
     "name": "stdout",
     "output_type": "stream",
     "text": [
      "Defaulting to user installation because normal site-packages is not writeable\n",
      "Requirement already satisfied: numpy in /Users/nicolasraimundez/Library/Python/3.9/lib/python/site-packages (1.26.2)\n",
      "\u001b[33mWARNING: You are using pip version 21.2.4; however, version 23.3.1 is available.\n",
      "You should consider upgrading via the '/Library/Developer/CommandLineTools/usr/bin/python3 -m pip install --upgrade pip' command.\u001b[0m\n"
     ]
    }
   ],
   "source": [
    "!pip3 install --upgrade numpy"
   ]
  },
  {
   "cell_type": "code",
   "execution_count": 44,
   "metadata": {},
   "outputs": [
    {
     "name": "stderr",
     "output_type": "stream",
     "text": [
      "2496.94s - pydevd: Sending message related to process being replaced timed-out after 5 seconds\n"
     ]
    },
    {
     "name": "stdout",
     "output_type": "stream",
     "text": [
      "Excercise1day4.py      inverted_image.jpg     my_module.py\n",
      "\u001b[34m__pycache__\u001b[m\u001b[m/           ipld_day01.ipynb       sales.csv\n",
      "cat_img.jpg            ipld_day02.ipynb       spotify-2023.csv\n",
      "expensive_houses.csv   ipld_day03.ipynb       stocks_prices.txt\n",
      "expensive_houses.xlsx  ipld_day04.ipynb       \u001b[34mtest\u001b[m\u001b[m/\n",
      "hello.py               ipld_day05.ipynb       test.ipynb\n",
      "hello_module.py        ipld_day06.ipynb       test.txt\n",
      "house_data.csv         ipld_day07.ipynb       weatherAUS.csv\n"
     ]
    }
   ],
   "source": [
    "ls"
   ]
  },
  {
   "cell_type": "code",
   "execution_count": 52,
   "metadata": {},
   "outputs": [
    {
     "name": "stderr",
     "output_type": "stream",
     "text": [
      "2880.20s - pydevd: Sending message related to process being replaced timed-out after 5 seconds\n"
     ]
    },
    {
     "name": "stdout",
     "output_type": "stream",
     "text": [
      "zsh:1: command not found: pip\n"
     ]
    }
   ],
   "source": [
    "! pip list\n"
   ]
  },
  {
   "cell_type": "code",
   "execution_count": 58,
   "metadata": {},
   "outputs": [
    {
     "name": "stdout",
     "output_type": "stream",
     "text": [
      "[Errno 2] No such file or directory: 'path/to/your/project'\n",
      "/Users/nicolasraimundez/Documents/Code - EAE Business School/eae_ipld\n"
     ]
    },
    {
     "name": "stderr",
     "output_type": "stream",
     "text": [
      "/Users/nicolasraimundez/Library/Python/3.9/lib/python/site-packages/IPython/core/magics/osm.py:393: UserWarning: using bookmarks requires you to install the `pickleshare` library.\n",
      "  bkms = self.shell.db.get('bookmarks', {})\n"
     ]
    }
   ],
   "source": [
    "cd path/to/your/project\n"
   ]
  },
  {
   "cell_type": "code",
   "execution_count": 53,
   "metadata": {},
   "outputs": [
    {
     "name": "stderr",
     "output_type": "stream",
     "text": [
      "2890.45s - pydevd: Sending message related to process being replaced timed-out after 5 seconds\n"
     ]
    },
    {
     "name": "stdout",
     "output_type": "stream",
     "text": [
      "Defaulting to user installation because normal site-packages is not writeable\n",
      "\u001b[31mERROR: Could not open requirements file: [Errno 2] No such file or directory: '/path/to/your/project/requirements.txt'\u001b[0m\n",
      "\u001b[33mWARNING: You are using pip version 21.2.4; however, version 23.3.1 is available.\n",
      "You should consider upgrading via the '/Library/Developer/CommandLineTools/usr/bin/python3 -m pip install --upgrade pip' command.\u001b[0m\n",
      "Note: you may need to restart the kernel to use updated packages.\n"
     ]
    }
   ],
   "source": [
    "pip install -r /path/to/your/project/requirements.txt"
   ]
  },
  {
   "cell_type": "code",
   "execution_count": 56,
   "metadata": {},
   "outputs": [
    {
     "name": "stderr",
     "output_type": "stream",
     "text": [
      "3386.03s - pydevd: Sending message related to process being replaced timed-out after 5 seconds\n"
     ]
    },
    {
     "name": "stdout",
     "output_type": "stream",
     "text": [
      "Defaulting to user installation because normal site-packages is not writeable\n",
      "\u001b[33mWARNING: You are using pip version 21.2.4; however, version 23.3.1 is available.\n",
      "You should consider upgrading via the '/Library/Developer/CommandLineTools/usr/bin/python3 -m pip install --upgrade pip' command.\u001b[0m\n"
     ]
    }
   ],
   "source": [
    "!pip3 install -r requirements.txt # install all pip libraries needed for the project in a single command"
   ]
  },
  {
   "cell_type": "markdown",
   "metadata": {},
   "source": [
    "---\n",
    "## 5. Exercises"
   ]
  },
  {
   "cell_type": "markdown",
   "metadata": {
    "vscode": {
     "languageId": "plaintext"
    }
   },
   "source": [
    "#### Ex 1.\n",
    "\n",
    "Create a new module that will have 2 functions:\n",
    "- **separate_odd_even(nums)**: The first one will receive a list of integer numbers and return two separate list, one with the odd numbers and the other one with the even ones.\n",
    "\n",
    "    for example: separate_odd_even([1,2,3,4,5,6,7,8,9]) -> [1,3,5,7,9], [2,4,6,8]\n",
    "\n",
    "- **search_max_char(text)**: The second function will be receive a text and output the most common letter character in that text and how many times it appears.\n",
    "\n",
    "    for example: most_common_letter(\"Hello World\") -> \"l\", 3\n",
    "\n",
    "Then import that module in the following cell and call them with two basic examples.\n",
    "\n",
    "Make sure to submit the module python file to the assignment submission!!"
   ]
  },
  {
   "cell_type": "code",
   "execution_count": null,
   "metadata": {},
   "outputs": [],
   "source": [
    "# Your code here\n",
    "# make new module like the class example and do the 2 functions"
   ]
  },
  {
   "cell_type": "code",
   "execution_count": 1,
   "metadata": {},
   "outputs": [
    {
     "name": "stdout",
     "output_type": "stream",
     "text": [
      "2\n",
      "8\n",
      "48\n"
     ]
    },
    {
     "data": {
      "text/plain": [
       "48"
      ]
     },
     "execution_count": 1,
     "metadata": {},
     "output_type": "execute_result"
    }
   ],
   "source": [
    "nums_list = [1, 2, 4, 6, 8]\n",
    "start = 2\n",
    "stop = 7\n",
    "\n",
    "# result = 2*4*6 = 48\n",
    "\n",
    "def multiply_in_range(nums_list, start, stop):\n",
    "    final_prod = None\n",
    "\n",
    "    for num in nums_list:\n",
    "        if start <= num < stop:\n",
    "            if not final_prod:\n",
    "                final_prod = 1\n",
    "\n",
    "            final_prod *= num\n",
    "            print(final_prod)\n",
    "\n",
    "    return final_prod\n",
    "\n",
    "\n",
    "multiply_in_range([1, 2, 4, 6, 8], 2, 7)"
   ]
  },
  {
   "cell_type": "code",
   "execution_count": null,
   "metadata": {},
   "outputs": [],
   "source": []
  },
  {
   "cell_type": "markdown",
   "metadata": {
    "vscode": {
     "languageId": "plaintext"
    }
   },
   "source": [
    "#### Ex 2.\n",
    "\n",
    "Install the pandas library using pip, import it in the following cell and then run the following line to create a dataframe and prove that it works.\n",
    "\n",
    "```python   \n",
    "# <do something to install and import pandas>\n",
    "\n",
    "df = pd.DataFrame({\"col1\": [1, 2], \"col2\": [3, 4]})"
   ]
  },
  {
   "cell_type": "code",
   "execution_count": 59,
   "metadata": {},
   "outputs": [
    {
     "name": "stderr",
     "output_type": "stream",
     "text": [
      "155671.16s - pydevd: Sending message related to process being replaced timed-out after 5 seconds\n"
     ]
    },
    {
     "name": "stdout",
     "output_type": "stream",
     "text": [
      "Defaulting to user installation because normal site-packages is not writeable\n",
      "Requirement already satisfied: pandas in /Users/nicolasraimundez/Library/Python/3.9/lib/python/site-packages (2.1.4)\n",
      "Requirement already satisfied: python-dateutil>=2.8.2 in /Users/nicolasraimundez/Library/Python/3.9/lib/python/site-packages (from pandas) (2.8.2)\n",
      "Requirement already satisfied: pytz>=2020.1 in /Users/nicolasraimundez/Library/Python/3.9/lib/python/site-packages (from pandas) (2023.3.post1)\n",
      "Requirement already satisfied: numpy<2,>=1.22.4 in /Users/nicolasraimundez/Library/Python/3.9/lib/python/site-packages (from pandas) (1.26.2)\n",
      "Requirement already satisfied: tzdata>=2022.1 in /Users/nicolasraimundez/Library/Python/3.9/lib/python/site-packages (from pandas) (2023.3)\n",
      "Requirement already satisfied: six>=1.5 in /Applications/Xcode.app/Contents/Developer/Library/Frameworks/Python3.framework/Versions/3.9/lib/python3.9/site-packages (from python-dateutil>=2.8.2->pandas) (1.15.0)\n",
      "\u001b[33mWARNING: You are using pip version 21.2.4; however, version 23.3.1 is available.\n",
      "You should consider upgrading via the '/Applications/Xcode.app/Contents/Developer/usr/bin/python3 -m pip install --upgrade pip' command.\u001b[0m\n"
     ]
    }
   ],
   "source": [
    "!pip3 install pandas"
   ]
  },
  {
   "cell_type": "code",
   "execution_count": 60,
   "metadata": {},
   "outputs": [],
   "source": [
    "import pandas"
   ]
  },
  {
   "cell_type": "code",
   "execution_count": 61,
   "metadata": {},
   "outputs": [],
   "source": [
    "import pandas as pd "
   ]
  },
  {
   "cell_type": "code",
   "execution_count": 63,
   "metadata": {},
   "outputs": [],
   "source": [
    "# Your code here\n",
    "\n",
    "import pandas as pd                 # choosing the alias of pandas to pd, everyone uses pd for panda\n",
    "\n",
    "df = pd.DataFrame({\"col1\": [1, 2], \"col2\": [3, 4]})"
   ]
  },
  {
   "cell_type": "code",
   "execution_count": 65,
   "metadata": {},
   "outputs": [
    {
     "data": {
      "text/html": [
       "<div>\n",
       "<style scoped>\n",
       "    .dataframe tbody tr th:only-of-type {\n",
       "        vertical-align: middle;\n",
       "    }\n",
       "\n",
       "    .dataframe tbody tr th {\n",
       "        vertical-align: top;\n",
       "    }\n",
       "\n",
       "    .dataframe thead th {\n",
       "        text-align: right;\n",
       "    }\n",
       "</style>\n",
       "<table border=\"1\" class=\"dataframe\">\n",
       "  <thead>\n",
       "    <tr style=\"text-align: right;\">\n",
       "      <th></th>\n",
       "      <th>col1</th>\n",
       "      <th>col2</th>\n",
       "    </tr>\n",
       "  </thead>\n",
       "  <tbody>\n",
       "    <tr>\n",
       "      <th>0</th>\n",
       "      <td>1</td>\n",
       "      <td>3</td>\n",
       "    </tr>\n",
       "    <tr>\n",
       "      <th>1</th>\n",
       "      <td>2</td>\n",
       "      <td>4</td>\n",
       "    </tr>\n",
       "  </tbody>\n",
       "</table>\n",
       "</div>"
      ],
      "text/plain": [
       "   col1  col2\n",
       "0     1     3\n",
       "1     2     4"
      ]
     },
     "execution_count": 65,
     "metadata": {},
     "output_type": "execute_result"
    }
   ],
   "source": [
    "df"
   ]
  },
  {
   "cell_type": "code",
   "execution_count": null,
   "metadata": {},
   "outputs": [],
   "source": []
  },
  {
   "cell_type": "code",
   "execution_count": null,
   "metadata": {},
   "outputs": [],
   "source": []
  },
  {
   "cell_type": "code",
   "execution_count": null,
   "metadata": {},
   "outputs": [],
   "source": []
  },
  {
   "cell_type": "code",
   "execution_count": null,
   "metadata": {},
   "outputs": [],
   "source": []
  },
  {
   "cell_type": "code",
   "execution_count": null,
   "metadata": {},
   "outputs": [],
   "source": []
  },
  {
   "cell_type": "code",
   "execution_count": null,
   "metadata": {},
   "outputs": [],
   "source": []
  },
  {
   "cell_type": "code",
   "execution_count": null,
   "metadata": {},
   "outputs": [],
   "source": []
  },
  {
   "cell_type": "code",
   "execution_count": null,
   "metadata": {},
   "outputs": [],
   "source": []
  },
  {
   "cell_type": "code",
   "execution_count": null,
   "metadata": {},
   "outputs": [],
   "source": []
  }
 ],
 "metadata": {
  "kernelspec": {
   "display_name": "Python 3",
   "language": "python",
   "name": "python3"
  },
  "language_info": {
   "codemirror_mode": {
    "name": "ipython",
    "version": 3
   },
   "file_extension": ".py",
   "mimetype": "text/x-python",
   "name": "python",
   "nbconvert_exporter": "python",
   "pygments_lexer": "ipython3",
   "version": "3.9.6"
  }
 },
 "nbformat": 4,
 "nbformat_minor": 2
}
