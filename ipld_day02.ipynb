{
 "cells": [
  {
   "cell_type": "markdown",
   "metadata": {},
   "source": [
    "## EAE - Introduction to Programming Languages for Data \n",
    "## Day 2 - 27/11/2023\n",
    "\n",
    "### Instructor:  \n",
    "Enric Domingo  \n",
    "*Machine Learning and Software Engineer at ERNI*  \n",
    "edomingod@professional.eae.es\n",
    "\n",
    "#### Python fundamentals:\n",
    "\n",
    "0. Recap\n",
    "1. Data types conversion\n",
    "2. String methods\n",
    "3. Lists\n",
    "4. Comparison operators\n",
    "5. Conditional statements\n",
    "   - if\n",
    "   - elif\n",
    "   - else\n",
    "6. Loops\n",
    "   - for\n",
    "   - while\n",
    "   - break\n",
    "   - continue\n",
    "7. Functions\n",
    "8. Exercises"
   ]
  },
  {
   "cell_type": "markdown",
   "metadata": {},
   "source": [
    "---\n",
    "## 0. Recap\n",
    "\n",
    "Let's do a quick refresh of the previous session."
   ]
  },
  {
   "cell_type": "markdown",
   "metadata": {},
   "source": [
    "And now, let's put it in practice with this exercise:\n",
    "\n",
    "Write a program that asks one number to the user, then another number, converts each of them to float with float() and then prints the sum, the difference, the product and the division of both numbers.\n",
    "\n",
    "For example, if the user inputs num1 as 10 and num2 as 3, the program should print:\n",
    "\n",
    "    You have entered 10 and 3  \n",
    "    The sum is 13.0  \n",
    "    The difference is 7.0  \n",
    "    The product is 30.0  \n",
    "    The quotient is 3.3333333333333335  \n"
   ]
  },
  {
   "cell_type": "code",
   "execution_count": 87,
   "metadata": {},
   "outputs": [
    {
     "name": "stdout",
     "output_type": "stream",
     "text": [
      "You have entered 10.0 and 3.0\n",
      "The sum is 13.0\n",
      "The difference is 7.0\n",
      "The product is 30.0\n",
      "The quotient is 3.3333333333333335\n"
     ]
    }
   ],
   "source": [
    "num1 = float(input(\"Write your first number\")) \n",
    "num2 = float(input(\"Write your second number\")) \n",
    "\n",
    "print(\"You have entered\", num1, \"and\", num2)\n",
    "print(\"The sum is\", num1 + num2)\n",
    "print(\"The difference is\", num1 - num2)\n",
    "print(\"The product is\", num1 * num2)\n",
    "print(\"The quotient is\", num1 / num2)"
   ]
  },
  {
   "cell_type": "code",
   "execution_count": 88,
   "metadata": {},
   "outputs": [
    {
     "name": "stdout",
     "output_type": "stream",
     "text": [
      "You have entered 1.0 and 1.0\n",
      "The sum is 2.0\n",
      "The difference is 0.0\n",
      "The product is 1.0\n",
      "The quotient is 1.0\n"
     ]
    }
   ],
   "source": [
    "# ChatGpt solution with comments / if / and a more detailed explanation\n",
    "\n",
    "# Get user input for the first number\n",
    "num1 = float(input(\"Enter the first number: \"))\n",
    "\n",
    "# Get user input for the second number\n",
    "num2 = float(input(\"Enter the second number: \"))\n",
    "\n",
    "# Perform calculations\n",
    "sum_result = num1 + num2\n",
    "difference_result = num1 - num2\n",
    "product_result = num1 * num2\n",
    "\n",
    "# Check if num2 is not zero for division\n",
    "if num2 != 0:\n",
    "    quotient_result = num1 / num2\n",
    "else:\n",
    "    quotient_result = \"Undefined (division by zero)\"\n",
    "\n",
    "# Print the results\n",
    "print(f\"You have entered {num1} and {num2}\")\n",
    "print(f\"The sum is {sum_result}\")\n",
    "print(f\"The difference is {difference_result}\")\n",
    "print(f\"The product is {product_result}\")\n",
    "print(f\"The quotient is {quotient_result}\")\n"
   ]
  },
  {
   "cell_type": "markdown",
   "metadata": {},
   "source": [
    "---\n",
    "## 1. Data types conversion\n",
    "\n",
    "Every data type has a constructor that can be used to convert it into a different data type. The most common data types conversions are:\n",
    "- **int()**: normally used to convert a float into an integer or a string with character numbers into an integer. \n",
    "  \n",
    "- **float()**: normally used to convert an integer into a float or a string with character numbers into a float.\n",
    "\n",
    "- **str()**: normally used to convert an integer or a float into a string.\n",
    "\n",
    "- **bool()**: normally used to convert an integer or a float into a boolean. Zero is converted into False and any other number into True. Also, an empty string is converted into False and any other string into True."
   ]
  },
  {
   "cell_type": "code",
   "execution_count": 89,
   "metadata": {},
   "outputs": [
    {
     "name": "stdout",
     "output_type": "stream",
     "text": [
      "123 <class 'str'>\n",
      "123 <class 'int'>\n"
     ]
    }
   ],
   "source": [
    "# int()\n",
    "\n",
    "num = \"123\"\n",
    "print(num, type(num))\n",
    "\n",
    "num = int(num)    # converting the string to integer\n",
    "print(num, type(num))"
   ]
  },
  {
   "cell_type": "code",
   "execution_count": 90,
   "metadata": {},
   "outputs": [
    {
     "data": {
      "text/plain": [
       "128"
      ]
     },
     "execution_count": 90,
     "metadata": {},
     "output_type": "execute_result"
    }
   ],
   "source": [
    "num + 5"
   ]
  },
  {
   "cell_type": "code",
   "execution_count": 91,
   "metadata": {},
   "outputs": [
    {
     "name": "stdout",
     "output_type": "stream",
     "text": [
      "3 3\n",
      "0 1\n"
     ]
    }
   ],
   "source": [
    "print(int(3.14), int(3.99))     # converting float to integer\n",
    "print(int(False), int(True))    # converting boolean to integer"
   ]
  },
  {
   "cell_type": "code",
   "execution_count": 92,
   "metadata": {},
   "outputs": [],
   "source": [
    "# We cannot convert a string with letters, special characters or numbers with decimal points into an integer\n",
    "# Uncomment and run the following lines one by one to see the error messages:\n",
    "\n",
    "# print(int(\"3.14\"))    # ValueError: invalid literal for int() with base 10: '3.14'\n",
    "# print(int(\"3+4\"))     # ValueError: invalid literal for int() with base 10: '3+4'\n",
    "# print(int(\"abc\"))     # ValueError: invalid literal for int() with base 10: 'abc'"
   ]
  },
  {
   "cell_type": "code",
   "execution_count": null,
   "metadata": {},
   "outputs": [],
   "source": []
  },
  {
   "cell_type": "code",
   "execution_count": 93,
   "metadata": {},
   "outputs": [
    {
     "name": "stdout",
     "output_type": "stream",
     "text": [
      "123 <class 'int'>\n",
      "123.0 <class 'float'>\n"
     ]
    }
   ],
   "source": [
    "# float()\n",
    "\n",
    "num = 123\n",
    "print(num, type(num))\n",
    "\n",
    "num = float(num)    # converting the integer to float\n",
    "print(num, type(num))"
   ]
  },
  {
   "cell_type": "code",
   "execution_count": 94,
   "metadata": {},
   "outputs": [
    {
     "name": "stdout",
     "output_type": "stream",
     "text": [
      "12.34 3.0\n",
      "0.0 1.0\n"
     ]
    }
   ],
   "source": [
    "print(float(\"12.34\"), float(\"3\"))     # converting string to float\n",
    "print(float(False), float(True))      # converting boolean to float"
   ]
  },
  {
   "cell_type": "code",
   "execution_count": null,
   "metadata": {},
   "outputs": [],
   "source": []
  },
  {
   "cell_type": "code",
   "execution_count": 95,
   "metadata": {},
   "outputs": [
    {
     "name": "stdout",
     "output_type": "stream",
     "text": [
      "123 <class 'int'>\n",
      "123 <class 'str'>\n"
     ]
    }
   ],
   "source": [
    "# str()\n",
    "\n",
    "num = 123\n",
    "print(num, type(num))\n",
    "\n",
    "num = str(num)    # converting the integer to string\n",
    "print(num, type(num))"
   ]
  },
  {
   "cell_type": "code",
   "execution_count": 96,
   "metadata": {},
   "outputs": [
    {
     "name": "stdout",
     "output_type": "stream",
     "text": [
      "3.14\n",
      "False True\n"
     ]
    }
   ],
   "source": [
    "print(str(3.14))                # converting float to string\n",
    "print(str(False), str(True))    # converting boolean to string"
   ]
  },
  {
   "cell_type": "code",
   "execution_count": null,
   "metadata": {},
   "outputs": [],
   "source": []
  },
  {
   "cell_type": "code",
   "execution_count": 97,
   "metadata": {},
   "outputs": [
    {
     "name": "stdout",
     "output_type": "stream",
     "text": [
      "False True True True\n",
      "False True True\n",
      "False True True True True\n"
     ]
    }
   ],
   "source": [
    "# bool()\n",
    "# boolean\n",
    "\n",
    "print(bool(0), bool(1), bool(2), bool(-5))                              # converting integer to boolean\n",
    "\n",
    "print(bool(0.0), bool(0.1), bool(-20.41))                               # converting float to boolean\n",
    "\n",
    "print(bool(\"\"), bool(\"False\"), bool(\" \"), bool(\"True\"), bool(\"abc\"))    # converting string to boolean \n",
    "\n",
    "# only 0, 0.0 and \"\" will convert to False, rest all will convert to True"
   ]
  },
  {
   "cell_type": "code",
   "execution_count": null,
   "metadata": {},
   "outputs": [],
   "source": []
  },
  {
   "cell_type": "markdown",
   "metadata": {},
   "source": [
    "---\n",
    "## 2. Strings methods\n",
    "\n",
    "#### 2.1. Common methods\n",
    "\n",
    "In the previous lesson we saw what are strings and how to concatenate and print them. In this section we will see some other useful methods and operation that can be applied to strings:\n",
    "\n",
    "- **len()**: returns the length of the string.\n",
    "\n",
    "- **upper()**: returns the string in uppercase.\n",
    "\n",
    "- **lower()**: returns the string in lowercase.\n",
    "\n",
    "- **replace()**: replaces a substring with another substring.\n",
    "\n",
    "- **split()**: splits the string into a list of substrings.\n",
    "\n",
    "- **join()**: joins a list of substrings into a string.\n",
    "\n",
    "- **strip()**: removes the leading and trailing characters of a string.\n",
    "\n",
    "- **find()**: returns the index of the first occurrence of a substring.\n",
    "\n",
    "- **count()**: returns the number of occurrences of a substring.\n",
    "\n",
    "- **in**: returns True if a substring is contained in the string.\n",
    "\n",
    "These are some of the most common methods, but there are more. You don't need to remember all of them, but you should know that they exist and how to find them when you need them."
   ]
  },
  {
   "cell_type": "code",
   "execution_count": 98,
   "metadata": {},
   "outputs": [
    {
     "name": "stdout",
     "output_type": "stream",
     "text": [
      "3\n",
      "5\n",
      "3\n",
      "6\n"
     ]
    }
   ],
   "source": [
    "# len(<str>)\n",
    "\n",
    "print(len(\"abc\"))\n",
    "print(len(\"a b c\")) # it counts the blank spaces\n",
    "print(len(\"123\")) \n",
    "print(len(\"123.45\")) # it counts the . also"
   ]
  },
  {
   "cell_type": "code",
   "execution_count": 99,
   "metadata": {},
   "outputs": [
    {
     "name": "stdout",
     "output_type": "stream",
     "text": [
      "The length of the name is 12 characters\n"
     ]
    }
   ],
   "source": [
    "name = \"Isaac Newton\"       # it also works with variables\n",
    "print(\"The length of the name is\", len(name), \"characters\")"
   ]
  },
  {
   "cell_type": "code",
   "execution_count": 100,
   "metadata": {},
   "outputs": [
    {
     "name": "stdout",
     "output_type": "stream",
     "text": [
      "GREAT!\n",
      "JOHN SMITH\n"
     ]
    }
   ],
   "source": [
    "# <str>.upper()\n",
    "\n",
    "print(\"great!\".upper())\n",
    "print(\"John Smith\".upper())"
   ]
  },
  {
   "cell_type": "code",
   "execution_count": 101,
   "metadata": {},
   "outputs": [
    {
     "name": "stdout",
     "output_type": "stream",
     "text": [
      "john smith\n",
      "the number 123\n"
     ]
    }
   ],
   "source": [
    "# <str>.lower()\n",
    "\n",
    "print(\"John Smith\".lower())\n",
    "print(\"THE NUMBER 123\".lower())"
   ]
  },
  {
   "cell_type": "code",
   "execution_count": 102,
   "metadata": {},
   "outputs": [
    {
     "data": {
      "text/plain": [
       "('Apple', 'apple', 'APPLE')"
      ]
     },
     "execution_count": 102,
     "metadata": {},
     "output_type": "execute_result"
    }
   ],
   "source": [
    "\"Apple\", \"apple\", \"APPLE\""
   ]
  },
  {
   "cell_type": "code",
   "execution_count": 103,
   "metadata": {},
   "outputs": [
    {
     "name": "stdout",
     "output_type": "stream",
     "text": [
      "James Bond\n"
     ]
    }
   ],
   "source": [
    "# <str>.replace(<old>, <new>)\n",
    "print(\"James Stark\".replace(\"Stark\", \"Bond\"))"
   ]
  },
  {
   "cell_type": "code",
   "execution_count": 104,
   "metadata": {},
   "outputs": [
    {
     "name": "stdout",
     "output_type": "stream",
     "text": [
      "This is good good good!\n"
     ]
    }
   ],
   "source": [
    "print(\"This is bad bad bad!\".replace(\"bad\", \"good\"))   # it replaces all the occurrences of the old string"
   ]
  },
  {
   "cell_type": "code",
   "execution_count": 105,
   "metadata": {},
   "outputs": [
    {
     "name": "stdout",
     "output_type": "stream",
     "text": [
      "We can fix this replacing dots with spaces\n"
     ]
    }
   ],
   "source": [
    "text = \"We.can.fix.this.replacing.dots.with.spaces\"\n",
    "# you can replace for examples SKUs when you have a big data base with a lot of numbers\n",
    "\n",
    "print(text.replace(\".\", \" \"))"
   ]
  },
  {
   "cell_type": "code",
   "execution_count": 106,
   "metadata": {},
   "outputs": [
    {
     "name": "stdout",
     "output_type": "stream",
     "text": [
      "Wecanalsoremoveallspaces\n"
     ]
    }
   ],
   "source": [
    "text = \"We can also remove all spaces\"\n",
    "\n",
    "print(text.replace(\" \", \"\"))    # it can also be used to remove all the occurrences of a character if we replace it with an empty string"
   ]
  },
  {
   "cell_type": "code",
   "execution_count": 107,
   "metadata": {},
   "outputs": [
    {
     "name": "stdout",
     "output_type": "stream",
     "text": [
      "['I', 'want', 'every', 'word', 'of', 'this', 'sentence', 'a', 'part']\n"
     ]
    }
   ],
   "source": [
    "# <str>.split(<sep>)\n",
    "\n",
    "text = \"I want every word of this sentence a part\"\n",
    "\n",
    "print(text.split())  # by default it splits on spaces"
   ]
  },
  {
   "cell_type": "code",
   "execution_count": 108,
   "metadata": {},
   "outputs": [
    {
     "name": "stdout",
     "output_type": "stream",
     "text": [
      "['I want every word of ', ' sentence a part']\n"
     ]
    }
   ],
   "source": [
    "print(text.split(\"this\"))  # we can specify the separator"
   ]
  },
  {
   "cell_type": "code",
   "execution_count": 109,
   "metadata": {},
   "outputs": [
    {
     "name": "stdout",
     "output_type": "stream",
     "text": [
      "I want every word of this list in a sentence\n"
     ]
    }
   ],
   "source": [
    "# <sep>.join(<list>)\n",
    "\n",
    "print(\" \".join([\"I\", \"want\", \"every\", \"word\", \"of\", \"this\", \"list\", \"in\", \"a\", \"sentence\"]))    # we can specify the separator before the .join() function"
   ]
  },
  {
   "cell_type": "code",
   "execution_count": 110,
   "metadata": {},
   "outputs": [
    {
     "name": "stdout",
     "output_type": "stream",
     "text": [
      "I have a lot of spaces before and after\n"
     ]
    }
   ],
   "source": [
    "# <str>.strip(<chars_to_delete>)\n",
    "\n",
    "print(\"   I have a lot of spaces before and after   \".strip())    # by default it removes all the spaces before and after the string"
   ]
  },
  {
   "cell_type": "code",
   "execution_count": 111,
   "metadata": {},
   "outputs": [
    {
     "name": "stdout",
     "output_type": "stream",
     "text": [
      "It can also remove initial or final characters\n",
      "It can also remove initial or final characters\n"
     ]
    }
   ],
   "source": [
    "print(\"It can also remove initial or final characters,\".strip(\",\"))\n",
    "print(\"...It can also remove initial or final characters...\".strip(\".\"))          # we can specify the characters to be removed"
   ]
  },
  {
   "cell_type": "code",
   "execution_count": 112,
   "metadata": {},
   "outputs": [
    {
     "name": "stdout",
     "output_type": "stream",
     "text": [
      "12\n"
     ]
    }
   ],
   "source": [
    "# <str>.find()\n",
    "\n",
    "print(\"There is an apple in the fridge, bring the apple, please\".find(\"apple\"))    \n",
    "# it returns the index of the first occurrence of the substring\n",
    "# its 12 including the spaces"
   ]
  },
  {
   "cell_type": "code",
   "execution_count": 113,
   "metadata": {},
   "outputs": [
    {
     "name": "stdout",
     "output_type": "stream",
     "text": [
      "-1\n"
     ]
    }
   ],
   "source": [
    "# <str>.find()\n",
    "\n",
    "print(\"There is an apple in the fridge, bring the apple, please\".find(\"pear\"))    \n",
    "# if its -1 it doesnt exist"
   ]
  },
  {
   "cell_type": "code",
   "execution_count": 114,
   "metadata": {},
   "outputs": [
    {
     "name": "stdout",
     "output_type": "stream",
     "text": [
      "2\n"
     ]
    }
   ],
   "source": [
    "# <str>.count()\n",
    "\n",
    "print(\"There is an apple in the fridge, bring the apple, please\".count(\"apple\"))   # it returns the number of occurrences of the substring"
   ]
  },
  {
   "cell_type": "code",
   "execution_count": 115,
   "metadata": {},
   "outputs": [
    {
     "name": "stdout",
     "output_type": "stream",
     "text": [
      "True\n",
      "False\n"
     ]
    }
   ],
   "source": [
    "# <substr> in <str>\n",
    "\n",
    "text = \"My vehicles are a bike, a car, and a truck\"\n",
    "\n",
    "is_car = \"car\" in text\n",
    "is_bus = \"bus\" in text\n",
    "\n",
    "print(is_car)\n",
    "print(is_bus)"
   ]
  },
  {
   "cell_type": "code",
   "execution_count": null,
   "metadata": {},
   "outputs": [],
   "source": []
  },
  {
   "cell_type": "markdown",
   "metadata": {},
   "source": [
    "#### 2.2. Special Characters in Strings\n",
    "\n",
    "There are some special characters that can be used in strings. The most common are:\n",
    "\n",
    "```python\t\n",
    "- \\n: new line\n",
    "- \\t: tab\n",
    "- \\\\: backslash\n",
    "- \\': single quote\n",
    "- \\\": double quote\n",
    "```"
   ]
  },
  {
   "cell_type": "code",
   "execution_count": 404,
   "metadata": {},
   "outputs": [
    {
     "name": "stdout",
     "output_type": "stream",
     "text": [
      "The first line\n",
      "The second line\n",
      "The third line\n"
     ]
    }
   ],
   "source": [
    "# New line character \\n\n",
    "# the / is for a normal character, like a . and ,\n",
    "\n",
    "text = \"The first line\\nThe second line\\nThe third line\"\n",
    "\n",
    "print(text)"
   ]
  },
  {
   "cell_type": "code",
   "execution_count": 117,
   "metadata": {},
   "outputs": [
    {
     "name": "stdout",
     "output_type": "stream",
     "text": [
      "The first column\tThe second column\tThe third column\n"
     ]
    }
   ],
   "source": [
    "# Tab character \\t\n",
    "\n",
    "text = \"The first column\\tThe second column\\tThe third column\"\n",
    "\n",
    "print(text)"
   ]
  },
  {
   "cell_type": "code",
   "execution_count": 118,
   "metadata": {},
   "outputs": [
    {
     "name": "stdout",
     "output_type": "stream",
     "text": [
      "We need to use two backslashes like this \\\n"
     ]
    }
   ],
   "source": [
    "# Backslash character \\ to print special characters\n",
    "\n",
    "print(\"We need to use two backslashes like this \\\\\")"
   ]
  },
  {
   "cell_type": "code",
   "execution_count": 119,
   "metadata": {},
   "outputs": [
    {
     "name": "stdout",
     "output_type": "stream",
     "text": [
      "We can also print a double quote like this \", like in \"Hello\" \n",
      "And if we use single quotes, we need to use a backslash to print a single quote like this ', like in don't\n"
     ]
    }
   ],
   "source": [
    "print(\"We can also print a double quote like this \\\", like in \\\"Hello\\\" \")\n",
    "\n",
    "print('And if we use single quotes, we need to use a backslash to print a single quote like this \\', like in don\\'t')"
   ]
  },
  {
   "cell_type": "code",
   "execution_count": 120,
   "metadata": {},
   "outputs": [
    {
     "name": "stdout",
     "output_type": "stream",
     "text": [
      "don't\n"
     ]
    }
   ],
   "source": [
    "print ('don\\'t') # when you replace \"\" with '' for strings"
   ]
  },
  {
   "cell_type": "markdown",
   "metadata": {},
   "source": [
    "#### 2.3. String formatting\n",
    "\n",
    "There are different ways to format strings in Python. The most common are:\n",
    "\n",
    "**str.format()**: This method is used to format strings by replacing the placeholders with the values of the variables. The placeholders are defined with curly brackets and the variables are passed as arguments to the method.\n",
    "\n",
    "**f-strings**: This method is used to format strings by adding the variables directly into the string. The variables are defined with curly brackets and the string is preceded by the letter f."
   ]
  },
  {
   "cell_type": "code",
   "execution_count": 121,
   "metadata": {},
   "outputs": [
    {
     "name": "stdout",
     "output_type": "stream",
     "text": [
      "The sum of 2 and 3 is 5\n"
     ]
    }
   ],
   "source": [
    "# str.format()\n",
    "\n",
    "a = 2\n",
    "b = 3\n",
    "result = a + b\n",
    "text = \"The sum of {} and {} is {}\".format(a, b, result)\n",
    "# the first {} is for the first letter in the format\n",
    "print(text)"
   ]
  },
  {
   "cell_type": "code",
   "execution_count": 122,
   "metadata": {},
   "outputs": [
    {
     "name": "stdout",
     "output_type": "stream",
     "text": [
      "The sum of 2 and 3 is 5\n"
     ]
    }
   ],
   "source": [
    "# f-strings\n",
    "# this is better to understand which variables are being sumed up\n",
    "# its more readable\n",
    "\n",
    "a = 2\n",
    "b = 3\n",
    "text = f\"The sum of {a} and {b} is {a+b}\"\n",
    "print(text)"
   ]
  },
  {
   "cell_type": "code",
   "execution_count": 123,
   "metadata": {},
   "outputs": [
    {
     "name": "stdout",
     "output_type": "stream",
     "text": [
      "john_report_27-11-23.txt\n"
     ]
    }
   ],
   "source": [
    "# A useful application of this could be to customize file names:\n",
    "# This is useful to not manually put the name in each file\n",
    "\n",
    "employee = \"John\"\n",
    "date = \"27-11-23\" #this can be made automatically within a company so they can fetch the date without adding manually\n",
    "\n",
    "filename = f\"{employee.lower()}_report_{date}.txt\"\n",
    "\n",
    "print(filename)"
   ]
  },
  {
   "cell_type": "code",
   "execution_count": null,
   "metadata": {},
   "outputs": [],
   "source": []
  },
  {
   "cell_type": "markdown",
   "metadata": {},
   "source": [
    "#### 2.4. String indexing and slicing\n",
    "\n",
    "Strings are sequences of characters, so they can be indexed and sliced. The indexing starts at 0 and the last character has index -1. The slicing is done with the notation [start:stop:step]. If the step is not specified, it is assumed to be 1. If the start is not specified, it is assumed to be 0. If the stop is not specified, it is assumed to be the length of the string."
   ]
  },
  {
   "cell_type": "code",
   "execution_count": 124,
   "metadata": {},
   "outputs": [
    {
     "name": "stdout",
     "output_type": "stream",
     "text": [
      "P\n"
     ]
    }
   ],
   "source": [
    "word = \"Python\"\n",
    "\n",
    "print(word[0])    \n",
    "# first character\n",
    "# In Python the first is always 0, then second is 1, etc..."
   ]
  },
  {
   "cell_type": "code",
   "execution_count": 125,
   "metadata": {},
   "outputs": [
    {
     "name": "stdout",
     "output_type": "stream",
     "text": [
      "y\n",
      "t\n",
      "h\n",
      "o\n",
      "n\n"
     ]
    }
   ],
   "source": [
    "print(word[1]) #y\n",
    "print(word[2]) #t\n",
    "print(word[3]) #h\n",
    "print(word[4]) #o\n",
    "print(word[5]) #n\n",
    "# accesing in a Database, for example, with an element"
   ]
  },
  {
   "cell_type": "code",
   "execution_count": 126,
   "metadata": {},
   "outputs": [
    {
     "name": "stdout",
     "output_type": "stream",
     "text": [
      "n\n"
     ]
    }
   ],
   "source": [
    "print(word[-1])   \n",
    "# last character\n",
    "# in Python -1 is last character, -2 anteultimo, etc"
   ]
  },
  {
   "cell_type": "code",
   "execution_count": 127,
   "metadata": {},
   "outputs": [
    {
     "name": "stdout",
     "output_type": "stream",
     "text": [
      "Python\n"
     ]
    }
   ],
   "source": [
    "text = \"Python is a great language\"\n",
    "\n",
    "print(text[0:6])   \n",
    "#first 6 characters\n",
    "# the last letter is not included, meaning if the word is Python is 6 words, you put from 0 (which is one)\n",
    "# till 6 (which is n)"
   ]
  },
  {
   "cell_type": "code",
   "execution_count": 128,
   "metadata": {},
   "outputs": [
    {
     "name": "stdout",
     "output_type": "stream",
     "text": [
      "great\n"
     ]
    }
   ],
   "source": [
    "print(text[12:17])      # characters from index 12 to 16"
   ]
  },
  {
   "cell_type": "code",
   "execution_count": 129,
   "metadata": {},
   "outputs": [
    {
     "name": "stdout",
     "output_type": "stream",
     "text": [
      "Python is a great \n"
     ]
    }
   ],
   "source": [
    "print(text[:-8]) # putting the first : at the beginning is different than putting it after"
   ]
  },
  {
   "cell_type": "code",
   "execution_count": 130,
   "metadata": {},
   "outputs": [
    {
     "name": "stdout",
     "output_type": "stream",
     "text": [
      "language\n"
     ]
    }
   ],
   "source": [
    "print(text[-8:])"
   ]
  },
  {
   "cell_type": "markdown",
   "metadata": {},
   "source": [
    "#### 2.5. Multiline strings\n",
    "\n",
    "Multiline strings are defined with triple quotes. They are useful to define long strings that span multiple lines."
   ]
  },
  {
   "cell_type": "code",
   "execution_count": 131,
   "metadata": {},
   "outputs": [
    {
     "name": "stdout",
     "output_type": "stream",
     "text": [
      "This text is a document.\n",
      "\n",
      "It has multiple lines.\n",
      "Using triple quotes makes it easier to write long texts.\n"
     ]
    }
   ],
   "source": [
    "my_long_text = \"\"\"This text is a document.\n",
    "\n",
    "It has multiple lines.\n",
    "Using triple quotes makes it easier to write long texts.\"\"\"\n",
    "\n",
    "print(my_long_text) # this is better for paragraphs than the slash in the examples seen before"
   ]
  },
  {
   "cell_type": "code",
   "execution_count": 132,
   "metadata": {},
   "outputs": [
    {
     "name": "stdout",
     "output_type": "stream",
     "text": [
      "This works too\n"
     ]
    }
   ],
   "source": [
    "# We can also use triple quotes to write a string in a single line\n",
    "\n",
    "text = \"\"\"This works too\"\"\"\n",
    "\n",
    "print(text)"
   ]
  },
  {
   "cell_type": "code",
   "execution_count": 133,
   "metadata": {},
   "outputs": [
    {
     "name": "stdout",
     "output_type": "stream",
     "text": [
      "The company ABC \n",
      "is located in New York.\n"
     ]
    }
   ],
   "source": [
    "# Multiline strings can also use f-strings\n",
    "\n",
    "company_name = \"ABC\"\n",
    "city = \"New York\"\n",
    "\n",
    "long_text = f\"\"\"The company {company_name} \n",
    "is located in {city}.\"\"\"\n",
    "\n",
    "print(long_text)"
   ]
  },
  {
   "cell_type": "markdown",
   "metadata": {},
   "source": [
    "---\n",
    "## 3. Lists\n",
    "\n",
    "Lists are ordered sequences of elements. They are defined with square brackets and the elements are separated by commas. The elements can be of any data type and they can be repeated. Lists are mutable, so they can be modified after they are created."
   ]
  },
  {
   "cell_type": "code",
   "execution_count": 134,
   "metadata": {},
   "outputs": [
    {
     "name": "stdout",
     "output_type": "stream",
     "text": [
      "['pen', 'notebook', 'phone', 'keys', 'wallet']\n"
     ]
    }
   ],
   "source": [
    "my_bag = [\"pen\", \"notebook\", \"phone\", \"keys\", \"wallet\"]\n",
    "\n",
    "print(my_bag)"
   ]
  },
  {
   "cell_type": "code",
   "execution_count": 135,
   "metadata": {},
   "outputs": [],
   "source": [
    "empty = [1]"
   ]
  },
  {
   "cell_type": "markdown",
   "metadata": {},
   "source": [
    "Lists can contain any data type, including other lists:"
   ]
  },
  {
   "cell_type": "code",
   "execution_count": 136,
   "metadata": {},
   "outputs": [
    {
     "name": "stdout",
     "output_type": "stream",
     "text": [
      "['a', 1, True, 3.14, 'b', False, 2.71, 'c']\n",
      "[[1, 2, 3], [4, 5, 6], [7, 8, 9]]\n",
      "[[1, 2, 3], [4, 5, 6], [7, 8, 9]]\n"
     ]
    }
   ],
   "source": [
    "random_list = [\"a\", 1, True, 3.14, \"b\", False, 2.71, \"c\"] #it can have any type, a string a boolean, an integre\n",
    "print(random_list)\n",
    "\n",
    "list_of_lists = [[1, 2, 3], [4, 5, 6], [7, 8, 9]]\n",
    "print(list_of_lists)\n",
    "\n",
    "# Sometimes it's better to write a list in multiple lines to make it more readable\n",
    "list_of_lists = [\n",
    "    [1, 2, 3], \n",
    "    [4, 5, 6], \n",
    "    [7, 8, 9]\n",
    "]\n",
    "print(list_of_lists)"
   ]
  },
  {
   "cell_type": "code",
   "execution_count": 137,
   "metadata": {},
   "outputs": [],
   "source": [
    "# Try to create a list with four lists in it:\n",
    "# The first one containing the Q1 months of the year [Jan, Feb, Mar], the second one containing the Q2 months of the year [Apr, May, Jun], and so on."
   ]
  },
  {
   "cell_type": "code",
   "execution_count": 138,
   "metadata": {},
   "outputs": [
    {
     "name": "stdout",
     "output_type": "stream",
     "text": [
      "[['Jan', 'Feb', 'Mar'], ['Apr', 'May', 'Jun'], ['Jul', 'Aug', 'Sep'], ['Oct', 'Nov', 'Dec']]\n",
      "[['Jan', 'Feb', 'Mar'], ['Apr', 'May', 'Jun'], ['Jul', 'Aug', 'Sep'], ['Oct', 'Nov', 'Dec']]\n"
     ]
    }
   ],
   "source": [
    "year = [[\"Jan\", \"Feb\", \"Mar\"], [\"Apr\", \"May\", \"Jun\"], [\"Jul\", \"Aug\", \"Sep\"], [\"Oct\", \"Nov\", \"Dec\"]]\n",
    "print(year)\n",
    "\n",
    "# Sometimes it's better to write a list in multiple lines to make it more readable\n",
    "year = [\n",
    "    [\"Jan\", \"Feb\", \"Mar\"], \n",
    "    [\"Apr\", \"May\", \"Jun\"], \n",
    "    [\"Jul\", \"Aug\", \"Sep\"],\n",
    "    [\"Oct\", \"Nov\", \"Dec\"]\n",
    "    ]\n",
    "print(year)"
   ]
  },
  {
   "cell_type": "markdown",
   "metadata": {},
   "source": [
    "#### 3.1. Indexing and slicing of lists\n",
    "\n",
    "Lists, similarly to strings, are sequences of elements. So they can be also indexed and sliced. The indexing starts at 0 and the last element has index -1. The slicing is done with the notation [start:stop:step]. If the step is not specified, it is assumed to be 1. If the start is not specified, it is assumed to be 0. If the stop is not specified, it is assumed to be the length of the list."
   ]
  },
  {
   "cell_type": "code",
   "execution_count": 139,
   "metadata": {},
   "outputs": [
    {
     "name": "stdout",
     "output_type": "stream",
     "text": [
      "football\n"
     ]
    }
   ],
   "source": [
    "sports_offer = [\"football\", \"basketball\", \"tennis\", \"volleyball\", \"baseball\"]\n",
    "\n",
    "# indexing\n",
    "print(sports_offer[0])"
   ]
  },
  {
   "cell_type": "code",
   "execution_count": 140,
   "metadata": {},
   "outputs": [
    {
     "name": "stdout",
     "output_type": "stream",
     "text": [
      "o\n"
     ]
    }
   ],
   "source": [
    "sports_offer = [\"football\", \"basketball\", \"tennis\", \"volleyball\", \"baseball\"]\n",
    "\n",
    "# indexing\n",
    "print(sports_offer[0][1]) # another [] to select the second letter (o) in the first word (football)"
   ]
  },
  {
   "cell_type": "code",
   "execution_count": 141,
   "metadata": {},
   "outputs": [
    {
     "name": "stdout",
     "output_type": "stream",
     "text": [
      "basketball\n",
      "tennis\n"
     ]
    }
   ],
   "source": [
    "print(sports_offer[1])\n",
    "print(sports_offer[2])"
   ]
  },
  {
   "cell_type": "code",
   "execution_count": 142,
   "metadata": {},
   "outputs": [
    {
     "name": "stdout",
     "output_type": "stream",
     "text": [
      "baseball\n",
      "volleyball\n"
     ]
    }
   ],
   "source": [
    "print(sports_offer[-1])\n",
    "print(sports_offer[-2])"
   ]
  },
  {
   "cell_type": "code",
   "execution_count": 143,
   "metadata": {},
   "outputs": [
    {
     "name": "stdout",
     "output_type": "stream",
     "text": [
      "['football', 'basketball']\n",
      "['basketball', 'tennis', 'volleyball']\n"
     ]
    }
   ],
   "source": [
    "# slicing [start:stop:step]\n",
    "print(sports_offer[0:2]) #its the first 2 words, not the third because its \"0\" and \"1\", NOT the \"2\"\n",
    "print(sports_offer[1:4])"
   ]
  },
  {
   "cell_type": "code",
   "execution_count": 144,
   "metadata": {},
   "outputs": [
    {
     "name": "stdout",
     "output_type": "stream",
     "text": [
      "['tennis', 'volleyball', 'baseball']\n"
     ]
    }
   ],
   "source": [
    "print(sports_offer[2:])   # from index 2 to the end, equivalent to [2:len(sports_offer)]"
   ]
  },
  {
   "cell_type": "code",
   "execution_count": 145,
   "metadata": {},
   "outputs": [
    {
     "name": "stdout",
     "output_type": "stream",
     "text": [
      "['volleyball', 'baseball']\n"
     ]
    }
   ],
   "source": [
    "print(sports_offer[-2:])   # from index -2 to the end, printing the last two elements"
   ]
  },
  {
   "cell_type": "code",
   "execution_count": 146,
   "metadata": {},
   "outputs": [
    {
     "data": {
      "text/plain": [
       "[1, 4, 7]"
      ]
     },
     "execution_count": 146,
     "metadata": {},
     "output_type": "execute_result"
    }
   ],
   "source": [
    "list_of_N = [1,2,3,4,5,6,7]\n",
    "list_of_N [::3] # you are skipping number 3"
   ]
  },
  {
   "cell_type": "code",
   "execution_count": 147,
   "metadata": {},
   "outputs": [
    {
     "name": "stdout",
     "output_type": "stream",
     "text": [
      "['football', 'tennis']\n"
     ]
    }
   ],
   "source": [
    "print(sports_offer[0:-1:2])    # from index 0 to the last element, step 2\n",
    "# sports_offer = [\"football\", \"basketball\", \"tennis\", \"volleyball\", \"baseball\"]"
   ]
  },
  {
   "cell_type": "code",
   "execution_count": 148,
   "metadata": {},
   "outputs": [
    {
     "name": "stdout",
     "output_type": "stream",
     "text": [
      "['football', 'tennis', 'baseball']\n"
     ]
    }
   ],
   "source": [
    "print(sports_offer[::2])      # this will do the same, by default start is 0 and stop is len(sports_offer)"
   ]
  },
  {
   "cell_type": "code",
   "execution_count": 149,
   "metadata": {},
   "outputs": [
    {
     "name": "stdout",
     "output_type": "stream",
     "text": [
      "['banana', 'orange', 'grape', 'kiwi']\n"
     ]
    }
   ],
   "source": [
    "fruits = [\"apple\", \"banana\", \"orange\", \"grape\", \"kiwi\", \"pineapple\"]\n",
    "\n",
    "# all the fruits except the first and the last\n",
    "print(fruits[1:-1])"
   ]
  },
  {
   "cell_type": "code",
   "execution_count": 150,
   "metadata": {},
   "outputs": [],
   "source": [
    "# try printing the last 3 fruits"
   ]
  },
  {
   "cell_type": "code",
   "execution_count": 151,
   "metadata": {},
   "outputs": [
    {
     "name": "stdout",
     "output_type": "stream",
     "text": [
      "['grape', 'kiwi', 'pineapple']\n"
     ]
    }
   ],
   "source": [
    "print(fruits[-3:])"
   ]
  },
  {
   "cell_type": "markdown",
   "metadata": {},
   "source": [
    "#### 3.2. Changing elements in a list\n",
    "\n",
    "Lists are mutable, so they can be modified after they are created. The elements of a list can be changed by assigning a new value to the element."
   ]
  },
  {
   "cell_type": "code",
   "execution_count": 152,
   "metadata": {},
   "outputs": [
    {
     "name": "stdout",
     "output_type": "stream",
     "text": [
      "['sweater', 't-shirt', 'jeans', 'jacket', 'socks', 'shoes']\n"
     ]
    }
   ],
   "source": [
    "inventory = [\"shirt\", \"t-shirt\", \"jeans\", \"jacket\", \"socks\", \"shoes\"]\n",
    "\n",
    "inventory[0] = \"sweater\"    # we can change the value of an element accessing it by its index\n",
    "print(inventory)"
   ]
  },
  {
   "cell_type": "code",
   "execution_count": 153,
   "metadata": {},
   "outputs": [],
   "source": [
    "# try changing the value of the last element to \"boots\" using negative indexing"
   ]
  },
  {
   "cell_type": "code",
   "execution_count": 154,
   "metadata": {},
   "outputs": [
    {
     "name": "stdout",
     "output_type": "stream",
     "text": [
      "['shirt', 't-shirt', 'jeans', 'jacket', 'socks', 'boots']\n"
     ]
    }
   ],
   "source": [
    "inventory = [\"shirt\", \"t-shirt\", \"jeans\", \"jacket\", \"socks\", \"shoes\"]\n",
    "\n",
    "inventory[-1] = \"boots\"    # we can change the value of an element accessing it by its index\n",
    "print(inventory)"
   ]
  },
  {
   "cell_type": "markdown",
   "metadata": {},
   "source": [
    "#### 3.3. List functions\n",
    "\n",
    "There are some functions that can be applied to lists, the most common are:\n",
    "\n",
    "- **len()**: returns the length of the list.\n",
    "\n",
    "- **max()**: returns the maximum value of the list.\n",
    "\n",
    "- **min()**: returns the minimum value of the list.\n",
    "\n",
    "- **sum()**: returns the sum of the values of the list.ç\n",
    "  \n",
    "- **sorted()**: returns a sorted copy of the list.\n",
    "\n",
    "- **list()**: returns a list from a sequence.\n",
    "\n",
    "- **in()**: returns True if an element is contained in the list.\n",
    "\n",
    "- **append()**: adds an element to the end of the list.\n",
    "\n",
    "- **extend()**: adds the elements of a list to the end of the list.\n",
    "\n",
    "- **insert()**: inserts an element at the specified index.\n",
    "\n",
    "- **remove()**: removes the first occurrence of an element.\n",
    "\n",
    "- **pop()**: removes the element at the specified index.\n",
    "\n",
    "- **clear()**: removes all the elements of the list.\n",
    "\n",
    "- **count()**: returns the number of occurrences of an element.\n",
    "\n",
    "- **index()**: returns the index of the first occurrence of an element."
   ]
  },
  {
   "cell_type": "code",
   "execution_count": 406,
   "metadata": {},
   "outputs": [
    {
     "data": {
      "text/plain": [
       "9"
      ]
     },
     "execution_count": 406,
     "metadata": {},
     "output_type": "execute_result"
    }
   ],
   "source": [
    "prime_numbers = [2, 3, 5, 7, 11, 13, 17, 19, 23] #len works for integers\n",
    "colors = [\"red\", \"green\", \"blue\", \"yellow\", \"orange\", \"purple\"] #and also for strings\n",
    "\n",
    "# len()\n",
    "\n",
    "len(prime_numbers)    # length of the list"
   ]
  },
  {
   "cell_type": "code",
   "execution_count": 156,
   "metadata": {},
   "outputs": [
    {
     "data": {
      "text/plain": [
       "6"
      ]
     },
     "execution_count": 156,
     "metadata": {},
     "output_type": "execute_result"
    }
   ],
   "source": [
    "len(colors)"
   ]
  },
  {
   "cell_type": "code",
   "execution_count": 157,
   "metadata": {},
   "outputs": [
    {
     "data": {
      "text/plain": [
       "23"
      ]
     },
     "execution_count": 157,
     "metadata": {},
     "output_type": "execute_result"
    }
   ],
   "source": [
    "# max()\n",
    "\n",
    "max(prime_numbers)    # maximum value of the list"
   ]
  },
  {
   "cell_type": "code",
   "execution_count": 158,
   "metadata": {},
   "outputs": [
    {
     "data": {
      "text/plain": [
       "'yellow'"
      ]
     },
     "execution_count": 158,
     "metadata": {},
     "output_type": "execute_result"
    }
   ],
   "source": [
    "max(colors)           # maximum value of the list (alphabetically)"
   ]
  },
  {
   "cell_type": "code",
   "execution_count": 159,
   "metadata": {},
   "outputs": [
    {
     "data": {
      "text/plain": [
       "2"
      ]
     },
     "execution_count": 159,
     "metadata": {},
     "output_type": "execute_result"
    }
   ],
   "source": [
    "# min()\n",
    "\n",
    "min(prime_numbers)    # minimum value of the list"
   ]
  },
  {
   "cell_type": "code",
   "execution_count": 160,
   "metadata": {},
   "outputs": [
    {
     "data": {
      "text/plain": [
       "'blue'"
      ]
     },
     "execution_count": 160,
     "metadata": {},
     "output_type": "execute_result"
    }
   ],
   "source": [
    "min(colors)           # minimum value of the list (alphabetically)"
   ]
  },
  {
   "cell_type": "code",
   "execution_count": 161,
   "metadata": {},
   "outputs": [
    {
     "data": {
      "text/plain": [
       "100"
      ]
     },
     "execution_count": 161,
     "metadata": {},
     "output_type": "execute_result"
    }
   ],
   "source": [
    "# sum()\n",
    "\n",
    "sum(prime_numbers)    # sum of all the elements of the list"
   ]
  },
  {
   "cell_type": "code",
   "execution_count": 162,
   "metadata": {},
   "outputs": [
    {
     "ename": "TypeError",
     "evalue": "unsupported operand type(s) for +: 'int' and 'str'",
     "output_type": "error",
     "traceback": [
      "\u001b[1;31m---------------------------------------------------------------------------\u001b[0m",
      "\u001b[1;31mTypeError\u001b[0m                                 Traceback (most recent call last)",
      "\u001b[1;32mc:\\Users\\Nico\\Documents\\Code - EAE Business School\\eae_ipld\\ipld_day02.ipynb Cell 96\u001b[0m line \u001b[0;36m1\n\u001b[1;32m----> <a href='vscode-notebook-cell:/c%3A/Users/Nico/Documents/Code%20-%20EAE%20Business%20School/eae_ipld/ipld_day02.ipynb#Y154sZmlsZQ%3D%3D?line=0'>1</a>\u001b[0m \u001b[39msum\u001b[39;49m(colors)         \u001b[39m# this will give an error, because we cannot sum strings\u001b[39;00m\n",
      "\u001b[1;31mTypeError\u001b[0m: unsupported operand type(s) for +: 'int' and 'str'"
     ]
    }
   ],
   "source": [
    "sum(colors)         # this will give an error, because we cannot sum strings"
   ]
  },
  {
   "cell_type": "code",
   "execution_count": 165,
   "metadata": {},
   "outputs": [
    {
     "data": {
      "text/plain": [
       "[2.89, 5.22, 12.34, 34.56, 45.76, 67.89, 105.27]"
      ]
     },
     "execution_count": 165,
     "metadata": {},
     "output_type": "execute_result"
    }
   ],
   "source": [
    "revenue = [45.76, 5.22, 12.34, 105.27, 34.56, 2.89, 67.89]\n",
    "\n",
    "# sorted()\n",
    "\n",
    "sorted(revenue)     # returns a new list with the elements sorted in ascending order b"
   ]
  },
  {
   "cell_type": "code",
   "execution_count": 166,
   "metadata": {},
   "outputs": [
    {
     "name": "stdout",
     "output_type": "stream",
     "text": [
      "[45.76, 5.22, 12.34, 105.27, 34.56, 2.89, 67.89]\n",
      "[2.89, 5.22, 12.34, 34.56, 45.76, 67.89, 105.27]\n"
     ]
    }
   ],
   "source": [
    "new_revenue = sorted(revenue)\n",
    "\n",
    "print (revenue)\n",
    "print (new_revenue)"
   ]
  },
  {
   "cell_type": "code",
   "execution_count": 174,
   "metadata": {},
   "outputs": [
    {
     "data": {
      "text/plain": [
       "(105.27, 34.56)"
      ]
     },
     "execution_count": 174,
     "metadata": {},
     "output_type": "execute_result"
    }
   ],
   "source": [
    "revenue [3], new_revenue [3] #to select different values of the two lists"
   ]
  },
  {
   "cell_type": "code",
   "execution_count": null,
   "metadata": {},
   "outputs": [
    {
     "data": {
      "text/plain": [
       "['blue', 'green', 'orange', 'purple', 'red', 'yellow']"
      ]
     },
     "execution_count": 26,
     "metadata": {},
     "output_type": "execute_result"
    }
   ],
   "source": [
    "sorted(colors)      # returns a new list with the elements sorted in alphabetical order"
   ]
  },
  {
   "cell_type": "code",
   "execution_count": 170,
   "metadata": {},
   "outputs": [
    {
     "data": {
      "text/plain": [
       "[105.27, 67.89, 45.76, 34.56, 12.34, 5.22, 2.89]"
      ]
     },
     "execution_count": 170,
     "metadata": {},
     "output_type": "execute_result"
    }
   ],
   "source": [
    "sorted(revenue, reverse=True)    # returns a new list with the elements sorted in descending order"
   ]
  },
  {
   "cell_type": "code",
   "execution_count": 168,
   "metadata": {},
   "outputs": [
    {
     "data": {
      "text/plain": [
       "[2.89, 5.22, 12.34, 34.56, 45.76, 67.89, 105.27]"
      ]
     },
     "execution_count": 168,
     "metadata": {},
     "output_type": "execute_result"
    }
   ],
   "source": [
    "sorted(revenue, reverse=False)    # returns the list in ascending order (as default)"
   ]
  },
  {
   "cell_type": "code",
   "execution_count": 175,
   "metadata": {},
   "outputs": [
    {
     "data": {
      "text/plain": [
       "['P', 'y', 't', 'h', 'o', 'n']"
      ]
     },
     "execution_count": 175,
     "metadata": {},
     "output_type": "execute_result"
    }
   ],
   "source": [
    "# list()\n",
    "\n",
    "list(\"Python\")      # converts a string into a list of characters"
   ]
  },
  {
   "cell_type": "code",
   "execution_count": 179,
   "metadata": {},
   "outputs": [
    {
     "data": {
      "text/plain": [
       "[0, 1, 2, 3, 4]"
      ]
     },
     "execution_count": 179,
     "metadata": {},
     "output_type": "execute_result"
    }
   ],
   "source": [
    "list(range(5))      \n",
    "# creates a list of numbers from 0 to 4 using the range function, which we will see later\n",
    "# 5 is NOT included"
   ]
  },
  {
   "cell_type": "code",
   "execution_count": 178,
   "metadata": {},
   "outputs": [
    {
     "data": {
      "text/plain": [
       "[2, 5, 8, 11, 14, 17, 20, 23, 26, 29, 32, 35, 38, 41, 44, 47]"
      ]
     },
     "execution_count": 178,
     "metadata": {},
     "output_type": "execute_result"
    }
   ],
   "source": [
    "list(range(2, 50, 3))      # range with steps"
   ]
  },
  {
   "cell_type": "code",
   "execution_count": 180,
   "metadata": {},
   "outputs": [
    {
     "data": {
      "text/plain": [
       "True"
      ]
     },
     "execution_count": 180,
     "metadata": {},
     "output_type": "execute_result"
    }
   ],
   "source": [
    "# in()\n",
    "\n",
    "\"red\" in colors     \n",
    "# returns True if the element is in the list\n",
    "# its good for example to see a name in a very long list of people"
   ]
  },
  {
   "cell_type": "code",
   "execution_count": 182,
   "metadata": {},
   "outputs": [
    {
     "name": "stdout",
     "output_type": "stream",
     "text": [
      "['red', 'green', 'blue', 'yellow', 'orange', 'purple']\n",
      "['red', 'green', 'blue', 'yellow', 'orange', 'purple', 'black']\n"
     ]
    }
   ],
   "source": [
    "# append()\n",
    "# append = to add something\n",
    "\n",
    "colors = [\"red\", \"green\", \"blue\", \"yellow\", \"orange\", \"purple\"]\n",
    "print(colors)\n",
    "\n",
    "colors.append(\"black\")    # adds an element at the end of the list\n",
    "\n",
    "print(colors)\n"
   ]
  },
  {
   "cell_type": "code",
   "execution_count": 186,
   "metadata": {},
   "outputs": [
    {
     "name": "stdout",
     "output_type": "stream",
     "text": [
      "['red', 'green', 'blue', 'yellow', 'orange', 'purple']\n",
      "['red', 'green', 'blue', 'yellow', 'orange', 'purple', 'black', 'white']\n"
     ]
    }
   ],
   "source": [
    "# extend()\n",
    "\n",
    "colors = [\"red\", \"green\", \"blue\", \"yellow\", \"orange\", \"purple\"]\n",
    "print(colors)\n",
    "\n",
    "colors.extend([\"black\", \"white\"])    # adds multiple elements from another list at the end of the list\n",
    "print(colors)"
   ]
  },
  {
   "cell_type": "code",
   "execution_count": 184,
   "metadata": {},
   "outputs": [
    {
     "name": "stdout",
     "output_type": "stream",
     "text": [
      "['red', 'green', 'blue', 'yellow', 'orange', 'purple', ['black', 'white']]\n"
     ]
    }
   ],
   "source": [
    "colors = [\"red\", \"green\", \"blue\", \"yellow\", \"orange\", \"purple\"]\n",
    "\n",
    "colors.append([\"black\", \"white\"])    # this will add another list to the list, not its elements as in extend()\n",
    "print(colors)\n",
    "# append doesnt work to put multiple words, it adds them liek seen below"
   ]
  },
  {
   "cell_type": "code",
   "execution_count": null,
   "metadata": {},
   "outputs": [],
   "source": []
  },
  {
   "cell_type": "code",
   "execution_count": 198,
   "metadata": {},
   "outputs": [
    {
     "name": "stdout",
     "output_type": "stream",
     "text": [
      "['red', 'green', 'blue', 'yellow', 'orange', 'purple']\n",
      "['red', 'green', 'magenta', 'blue', 'yellow', 'orange', 'purple']\n"
     ]
    }
   ],
   "source": [
    "# insert(<index>, <element>)\n",
    "\n",
    "colors = [\"red\", \"green\", \"blue\", \"yellow\", \"orange\", \"purple\"]\n",
    "print(colors)\n",
    "\n",
    "colors.insert(2, \"magenta\")    # adds an element at the specified index\n",
    "print(colors)"
   ]
  },
  {
   "cell_type": "code",
   "execution_count": 199,
   "metadata": {},
   "outputs": [
    {
     "name": "stdout",
     "output_type": "stream",
     "text": [
      "['red', 'green', 'magenta', 'blue', 'yellow', 'orange', 'purple']\n",
      "['red', 'green', 'magenta', 'blue', 'orange', 'purple']\n"
     ]
    }
   ],
   "source": [
    "# remove(<element>)\n",
    "\n",
    "print(colors)\n",
    "\n",
    "colors.remove(\"yellow\")    \n",
    "\n",
    "# removes the first occurrence of the element\n",
    "# in this example if theres 2 yellows, it deletes only the first one\n",
    "\n",
    "#if you run it 2 times, the second one is an error because it already removed it\n",
    "\n",
    "print(colors)"
   ]
  },
  {
   "cell_type": "code",
   "execution_count": 200,
   "metadata": {},
   "outputs": [
    {
     "name": "stdout",
     "output_type": "stream",
     "text": [
      "['red', 'green', 'magenta', 'blue', 'orange', 'purple']\n",
      "['red', 'green', 'blue', 'orange', 'purple']\n",
      "magenta\n"
     ]
    }
   ],
   "source": [
    "# pop(<index>)\n",
    "\n",
    "print(colors)\n",
    "\n",
    "used_color = colors.pop(2)    # removes the element at the specified index\n",
    "\n",
    "print(colors)\n",
    "print(used_color)"
   ]
  },
  {
   "cell_type": "code",
   "execution_count": 201,
   "metadata": {},
   "outputs": [
    {
     "name": "stdout",
     "output_type": "stream",
     "text": [
      "['red', 'green', 'blue', 'orange', 'purple']\n",
      "['red', 'green', 'blue', 'orange']\n",
      "purple\n"
     ]
    }
   ],
   "source": [
    "print(colors)\n",
    "\n",
    "used_color2 = colors.pop()    # removes the last element if no index is specified\n",
    "\n",
    "print(colors)\n",
    "print(used_color2)"
   ]
  },
  {
   "cell_type": "code",
   "execution_count": 195,
   "metadata": {},
   "outputs": [
    {
     "name": "stdout",
     "output_type": "stream",
     "text": [
      "['red', 'green', 'blue', 'orange']\n"
     ]
    }
   ],
   "source": [
    "colors.pop()\n",
    "\n",
    "print(colors)"
   ]
  },
  {
   "cell_type": "code",
   "execution_count": 163,
   "metadata": {},
   "outputs": [
    {
     "name": "stdout",
     "output_type": "stream",
     "text": [
      "[]\n"
     ]
    }
   ],
   "source": [
    "# clear()\n",
    "\n",
    "revenue = [45.76, 5.22, 12.34, 105.27, 34.56, 2.89, 67.89]\n",
    "\n",
    "revenue.clear()    # removes all the elements of the list\n",
    "\n",
    "print(revenue)"
   ]
  },
  {
   "cell_type": "code",
   "execution_count": 207,
   "metadata": {},
   "outputs": [
    {
     "name": "stdout",
     "output_type": "stream",
     "text": [
      "5\n"
     ]
    }
   ],
   "source": [
    "# count(<element>)\n",
    "\n",
    "animals_observed = [\"cat\", \"dog\", \"bird\", \"cat\", \"cat\", \"dog\", \"bird\", \"cat\", \"dog\", \"dog\", \"cat\", \"fish\"]\n",
    "\n",
    "print(animals_observed.count(\"cat\"))    # returns the number of occurrences of the element"
   ]
  },
  {
   "cell_type": "code",
   "execution_count": 208,
   "metadata": {},
   "outputs": [
    {
     "name": "stdout",
     "output_type": "stream",
     "text": [
      "2\n"
     ]
    }
   ],
   "source": [
    "# index(<element>)\n",
    "\n",
    "print(animals_observed.index(\"bird\"))    \n",
    "\n",
    "# returns the index of the first occurrence of the element\n",
    "# in which position is the element in"
   ]
  },
  {
   "cell_type": "code",
   "execution_count": null,
   "metadata": {},
   "outputs": [],
   "source": []
  },
  {
   "cell_type": "markdown",
   "metadata": {},
   "source": [
    "---\n",
    "## 4. Comparison operators\n",
    "\n",
    "Comparison operators are used to compare two values. They return a boolean value (True or False) depending on the result of the comparison. The most common comparison operators are:\n",
    "\n",
    "- equal (==)  \n",
    "- not equal (!=)  \n",
    "- greater than (>)  \n",
    "- less than (<)  \n",
    "- greater than or equal (>=)  \n",
    "- less than or equal (<=)  "
   ]
  },
  {
   "cell_type": "code",
   "execution_count": 209,
   "metadata": {},
   "outputs": [
    {
     "name": "stdout",
     "output_type": "stream",
     "text": [
      "False\n",
      "True\n",
      "False\n",
      "True\n",
      "False\n",
      "True\n"
     ]
    }
   ],
   "source": [
    "a = 3\n",
    "b = 5\n",
    "\n",
    "print(a == b)\n",
    "print(a != b) # its the difference (el igual tachado)\n",
    "print(a > b)\n",
    "print(a < b)\n",
    "print(a >= b)\n",
    "print(a <= b)"
   ]
  },
  {
   "cell_type": "code",
   "execution_count": null,
   "metadata": {},
   "outputs": [],
   "source": []
  },
  {
   "cell_type": "markdown",
   "metadata": {},
   "source": [
    "#### 4.1. Combining Boolean Values\n",
    "\n",
    "As we saw in the previous lesson, Boolean values can be combined with the logical operators **and**, **or** and **not**. The **and** operator returns True if both values are True. The **or** operator returns True if at least one of the values is True. The **not** operator returns the opposite of the value."
   ]
  },
  {
   "cell_type": "code",
   "execution_count": 210,
   "metadata": {},
   "outputs": [
    {
     "name": "stdout",
     "output_type": "stream",
     "text": [
      "True\n"
     ]
    }
   ],
   "source": [
    "# We can build complex logics considering multiple conditions combined\n",
    "\n",
    "have_umbrella = True\n",
    "rain_level = 3\n",
    "have_hood = False\n",
    "is_workday = True\n",
    "\n",
    "prepared_for_weather = have_umbrella or rain_level < 5 and have_hood or not rain_level > 0 and is_workday\n",
    "\n",
    "print(prepared_for_weather)"
   ]
  },
  {
   "cell_type": "code",
   "execution_count": null,
   "metadata": {},
   "outputs": [
    {
     "name": "stdout",
     "output_type": "stream",
     "text": [
      "True or True and False or not True and True\n"
     ]
    }
   ],
   "source": [
    "print(f\"{have_umbrella} or {rain_level < 5} and {have_hood} or not {rain_level > 0} and {is_workday}\")"
   ]
  },
  {
   "cell_type": "code",
   "execution_count": null,
   "metadata": {},
   "outputs": [],
   "source": []
  },
  {
   "cell_type": "markdown",
   "metadata": {},
   "source": [
    "---\n",
    "## 5. Conditional statements\n",
    "\n",
    "Conditional statements are used to execute different blocks of code depending on the result of a comparison. We have 3 conditional statements (if, elif and else) and we can combine them in the following ways:\n",
    "\n",
    "- if \n",
    "\n",
    "- if - else\n",
    "\n",
    "- if - elif - else\n",
    "\n",
    "- if - elif - elif - ... - else"
   ]
  },
  {
   "cell_type": "code",
   "execution_count": 252,
   "metadata": {},
   "outputs": [],
   "source": [
    "rain_level = 3 # este es el unico numero que debe ser rellenado, los demas no se tocan"
   ]
  },
  {
   "cell_type": "code",
   "execution_count": 253,
   "metadata": {},
   "outputs": [],
   "source": [
    "if rain_level > 3:\n",
    "    print(\"Bring an umbrella\")"
   ]
  },
  {
   "cell_type": "code",
   "execution_count": 254,
   "metadata": {},
   "outputs": [
    {
     "name": "stdout",
     "output_type": "stream",
     "text": [
      "Leave the umbrella at home\n"
     ]
    }
   ],
   "source": [
    "if rain_level > 3:\n",
    "    print(\"Bring an umbrella\")\n",
    "else:\n",
    "    print(\"Leave the umbrella at home\")"
   ]
  },
  {
   "cell_type": "code",
   "execution_count": 255,
   "metadata": {},
   "outputs": [
    {
     "name": "stdout",
     "output_type": "stream",
     "text": [
      "Leave the umbrella at home\n"
     ]
    }
   ],
   "source": [
    "if rain_level <= 3:\n",
    "    print(\"Leave the umbrella at home\")\n",
    "elif rain_level <= 8:\n",
    "    print(\"Bring an umbrella\")\n",
    "else:\n",
    "    print(\"Better bring the kayak...\")"
   ]
  },
  {
   "cell_type": "code",
   "execution_count": 256,
   "metadata": {},
   "outputs": [
    {
     "name": "stdout",
     "output_type": "stream",
     "text": [
      "Leave the umbrella at home\n"
     ]
    }
   ],
   "source": [
    "if rain_level <= 3:  #its a common mistake to put a number higher here than the next \n",
    "    print(\"Leave the umbrella at home\")\n",
    "elif rain_level <= 8:   \n",
    "    print(\"Bring an umbrella\")\n",
    "elif rain_level <= 10:\n",
    "    print(\"Better bring the kayak...\")\n",
    "else:\n",
    "    print(\"ERROR: Your rain sensor is broken!\")"
   ]
  },
  {
   "cell_type": "code",
   "execution_count": null,
   "metadata": {},
   "outputs": [],
   "source": []
  },
  {
   "cell_type": "code",
   "execution_count": 241,
   "metadata": {},
   "outputs": [
    {
     "name": "stdout",
     "output_type": "stream",
     "text": [
      "Welcome John!\n"
     ]
    }
   ],
   "source": [
    "user = \"John\"\n",
    "password = \"1234\"\n",
    "\n",
    "if user == \"John\" and password == \"1234\":     # Both conditions must be True # AND is a * in a way\n",
    "    print(\"Welcome John!\")\n",
    "else:\n",
    "    print(\"Wrong credentials!\")"
   ]
  },
  {
   "cell_type": "code",
   "execution_count": null,
   "metadata": {},
   "outputs": [],
   "source": []
  },
  {
   "cell_type": "code",
   "execution_count": 242,
   "metadata": {},
   "outputs": [
    {
     "name": "stdout",
     "output_type": "stream",
     "text": [
      "Better luck next time...\n"
     ]
    }
   ],
   "source": [
    "my_number = 123\n",
    "lottery_winners = [358, 909, 344, 278]\n",
    "\n",
    "if my_number in lottery_winners:\n",
    "    print(\"You won the lottery!\")\n",
    "else:\n",
    "    print(\"Better luck next time...\")"
   ]
  },
  {
   "cell_type": "code",
   "execution_count": 244,
   "metadata": {},
   "outputs": [
    {
     "name": "stdout",
     "output_type": "stream",
     "text": [
      "You won the lottery!\n"
     ]
    }
   ],
   "source": [
    "my_number = 123\n",
    "lottery_winners = [358, 909, 344, 278]\n",
    "\n",
    "if True:\n",
    "    print(\"You won the lottery!\")\n",
    "else:\n",
    "    print(\"Better luck next time...\") # va en gris porque sabe que con esa logica nunca puede ser real"
   ]
  },
  {
   "cell_type": "code",
   "execution_count": 245,
   "metadata": {},
   "outputs": [
    {
     "name": "stdout",
     "output_type": "stream",
     "text": [
      "Hello there!\n"
     ]
    }
   ],
   "source": [
    "is_employee = False\n",
    "\n",
    "if is_employee:\n",
    "    print(\"Welcome to the company!\")    # this will be printed only if is_employee is True\n",
    "\n",
    "print(\"Hello there!\")                   # this will be always printed"
   ]
  },
  {
   "cell_type": "markdown",
   "metadata": {},
   "source": [
    "---\n",
    "## 6. Loops\n",
    "\n",
    "Loops are used to execute a block of code multiple times without having to write it for each iteration. We have 2 types of loops:\n",
    "\n",
    "- **for**: executes a block of code for each element in a sequence.\n",
    "\n",
    "- **while**: executes a block of code while a condition is True."
   ]
  },
  {
   "cell_type": "markdown",
   "metadata": {},
   "source": [
    "#### 6.1. For Loops"
   ]
  },
  {
   "cell_type": "code",
   "execution_count": 409,
   "metadata": {},
   "outputs": [
    {
     "name": "stdout",
     "output_type": "stream",
     "text": [
      "I have a hammer\n",
      "I have a screwdriver\n",
      "I have a wrench\n",
      "I have a saw\n"
     ]
    }
   ],
   "source": [
    "tools = [\"hammer\", \"screwdriver\", \"wrench\", \"saw\"]\n",
    "\n",
    "for tool in tools:\n",
    "    print(f\"I have a {tool}\")"
   ]
  },
  {
   "cell_type": "code",
   "execution_count": 260,
   "metadata": {},
   "outputs": [
    {
     "name": "stdout",
     "output_type": "stream",
     "text": [
      "I have a hammer\n",
      "------\n",
      "I have a screwdriver\n",
      "------\n",
      "I have a wrench\n",
      "------\n",
      "I have a saw\n",
      "------\n",
      "finish\n"
     ]
    }
   ],
   "source": [
    "tools = [\"hammer\", \"screwdriver\", \"wrench\", \"saw\"]\n",
    "\n",
    "for tool in tools:\n",
    "    print(f\"I have a {tool}\")   #this\n",
    "    print(\"------\")             #and this are inside the loop\n",
    "\n",
    "print(\"finish\") #this is outside the loop"
   ]
  },
  {
   "cell_type": "code",
   "execution_count": 262,
   "metadata": {},
   "outputs": [
    {
     "name": "stdout",
     "output_type": "stream",
     "text": [
      "1\n",
      "2\n",
      "4\n",
      "6\n"
     ]
    }
   ],
   "source": [
    "for n in [1, 2, 4, 6]:\n",
    "    print (n)"
   ]
  },
  {
   "cell_type": "code",
   "execution_count": 264,
   "metadata": {},
   "outputs": [
    {
     "data": {
      "text/plain": [
       "[0, 1, 2, 3, 4]"
      ]
     },
     "execution_count": 264,
     "metadata": {},
     "output_type": "execute_result"
    }
   ],
   "source": [
    "# The range() function\n",
    "\n",
    "# range(<start>, <stop>, <step>)\n",
    "# we need to create a list from the range() function to see the values\n",
    "\n",
    "list(range(5))"
   ]
  },
  {
   "cell_type": "code",
   "execution_count": 263,
   "metadata": {},
   "outputs": [
    {
     "data": {
      "text/plain": [
       "[0, 1, 2, 3, 4, 5, 6, 7, 8, 9]"
      ]
     },
     "execution_count": 263,
     "metadata": {},
     "output_type": "execute_result"
    }
   ],
   "source": [
    "list(range(10))"
   ]
  },
  {
   "cell_type": "code",
   "execution_count": 271,
   "metadata": {},
   "outputs": [
    {
     "name": "stdout",
     "output_type": "stream",
     "text": [
      "0\n",
      "1 is odd\n",
      "2\n",
      "3 is odd\n",
      "4\n",
      "5 is odd\n",
      "6\n",
      "7 is odd\n",
      "8\n",
      "9 is odd\n"
     ]
    }
   ],
   "source": [
    "# Printing all even numbers from 0 to 9\n",
    "\n",
    "for i in range(10):\n",
    "    if i % 2 == 0:   #all even numbers\n",
    "        print(i)\n",
    "    else:            #every other number (prime numbers in this example)\n",
    "        print(f\"{i} is odd\")\n",
    "        #print(i, \"is odd\")  --- another way of typing the above"
   ]
  },
  {
   "cell_type": "code",
   "execution_count": 273,
   "metadata": {},
   "outputs": [
    {
     "name": "stdout",
     "output_type": "stream",
     "text": [
      "hello 34347 is a nice number\n"
     ]
    }
   ],
   "source": [
    "my_var = 34347\n",
    "\n",
    "print (f\"hello {my_var} is a nice number\")"
   ]
  },
  {
   "cell_type": "code",
   "execution_count": 274,
   "metadata": {},
   "outputs": [
    {
     "name": "stdout",
     "output_type": "stream",
     "text": [
      "hello 34347 is abc number\n"
     ]
    }
   ],
   "source": [
    "my_var = 34347\n",
    "a = \"abc\"\n",
    "\n",
    "print (f\"hello {my_var} is {a} number\")"
   ]
  },
  {
   "cell_type": "code",
   "execution_count": 275,
   "metadata": {},
   "outputs": [
    {
     "name": "stdout",
     "output_type": "stream",
     "text": [
      "Hello\n",
      "Hello\n",
      "Hello\n",
      "Hello\n"
     ]
    }
   ],
   "source": [
    "# Simply repeating something n times\n",
    "\n",
    "for _ in range(4):\n",
    "    print(\"Hello\")"
   ]
  },
  {
   "cell_type": "code",
   "execution_count": 281,
   "metadata": {},
   "outputs": [
    {
     "data": {
      "text/plain": [
       "False"
      ]
     },
     "execution_count": 281,
     "metadata": {},
     "output_type": "execute_result"
    }
   ],
   "source": [
    "\"a\" == \"A\" #this is false because in Python upper letter case and lower case are different"
   ]
  },
  {
   "cell_type": "code",
   "execution_count": 282,
   "metadata": {},
   "outputs": [
    {
     "name": "stdout",
     "output_type": "stream",
     "text": [
      "['Mary', 'Jane', 'Mark', 'Alice']\n"
     ]
    }
   ],
   "source": [
    "all_names = [\"John\", \"Mary\", \"Peter\", \"Jane\", \"Mark\", \"Chris\", \"Alice\", \"Bob\"]\n",
    "\n",
    "names_with_a = []\n",
    "\n",
    "for name in all_names:\n",
    "    if (\"a\" in name) or (\"A\" in name): #one is true or both with the or\n",
    "        names_with_a.append(name)\n",
    "\n",
    "print(names_with_a)"
   ]
  },
  {
   "cell_type": "code",
   "execution_count": 288,
   "metadata": {},
   "outputs": [
    {
     "name": "stdout",
     "output_type": "stream",
     "text": [
      "['Mary', 'Jane', 'Mark', 'Alice']\n"
     ]
    }
   ],
   "source": [
    "all_names = [\"John\", \"Mary\", \"Peter\", \"Jane\", \"Mark\", \"Chris\", \"Alice\", \"Bob\"]\n",
    "\n",
    "names_with_a = []\n",
    "\n",
    "for name in all_names:\n",
    "    l_name = name.lower() #l.name because Enric doesnt want to change the original name variable\n",
    "    if \"a\" in name.lower():\n",
    "            names_with_a.append(name)\n",
    "print(names_with_a)"
   ]
  },
  {
   "cell_type": "code",
   "execution_count": 297,
   "metadata": {},
   "outputs": [
    {
     "data": {
      "text/plain": [
       "[1.1, 5.5, 6.6000000000000005, 8.8, 5.5]"
      ]
     },
     "execution_count": 297,
     "metadata": {},
     "output_type": "execute_result"
    }
   ],
   "source": [
    "nums = [1, 5, 6, 8, 5]\n",
    "tax = 1.1 #110%\n",
    "\n",
    "final_nums = []\n",
    "for num in nums:\n",
    "    final_num = num * tax\n",
    "    final_nums.append(final_num)\n",
    "\n",
    "final_nums #in notebooks you can put directly the variable without putting print\n",
    "\n",
    "# the 6.60000000000005 is an error that happens in Python / Javascrypt"
   ]
  },
  {
   "cell_type": "markdown",
   "metadata": {},
   "source": [
    "#### 6.2. While Loops\n",
    "\n",
    "```python\t\n",
    "while <condition>:\n",
    "    <instructions>\n",
    "```"
   ]
  },
  {
   "cell_type": "code",
   "execution_count": 300,
   "metadata": {},
   "outputs": [
    {
     "data": {
      "text/plain": [
       "1"
      ]
     },
     "execution_count": 300,
     "metadata": {},
     "output_type": "execute_result"
    }
   ],
   "source": [
    "i = 0\n",
    "i = i + 1\n",
    "\n",
    "i"
   ]
  },
  {
   "cell_type": "code",
   "execution_count": 305,
   "metadata": {},
   "outputs": [
    {
     "name": "stdout",
     "output_type": "stream",
     "text": [
      "0\n",
      "1\n",
      "2\n",
      "3\n",
      "4\n",
      "5\n",
      "6\n"
     ]
    }
   ],
   "source": [
    "i = 0\n",
    "while i < 7: #its basically a loop while THIS rule/condition is not met\n",
    "    print(i)\n",
    "    i += 1 #your adding 1 every time until its less than 7"
   ]
  },
  {
   "cell_type": "code",
   "execution_count": 308,
   "metadata": {},
   "outputs": [
    {
     "name": "stdout",
     "output_type": "stream",
     "text": [
      "0\n",
      "1\n",
      "2\n",
      "3\n",
      "4\n",
      "5\n",
      "6\n",
      "7\n"
     ]
    }
   ],
   "source": [
    "i = 0\n",
    "while i <= 7: #same as before but its 7 equal or lower\n",
    "    print(i)\n",
    "    i += 1"
   ]
  },
  {
   "cell_type": "code",
   "execution_count": 314,
   "metadata": {},
   "outputs": [
    {
     "name": "stdout",
     "output_type": "stream",
     "text": [
      "4 boxes remaining\n",
      "3 boxes remaining\n",
      "2 boxes remaining\n",
      "1 boxes remaining\n",
      "0 boxes remaining\n"
     ]
    }
   ],
   "source": [
    "boxes = 5\n",
    "\n",
    "while boxes > 0:\n",
    "    #send the box\n",
    "    boxes -= 1 #substracting 1 each time\n",
    "    print(f\"{boxes} boxes remaining\") #this is a common way to exaplin with a string to understand how many are remaining"
   ]
  },
  {
   "cell_type": "code",
   "execution_count": 315,
   "metadata": {},
   "outputs": [],
   "source": [
    "# while loops can be dangerous if we don't update the condition...\n",
    "\n",
    "# while True:\n",
    "#     print(\"This is an infinite loop\")\n"
   ]
  },
  {
   "cell_type": "code",
   "execution_count": 1,
   "metadata": {},
   "outputs": [
    {
     "name": "stdout",
     "output_type": "stream",
     "text": [
      "Teams with long names:\n",
      "\n",
      "Real Madrid  -> has 11 characters\n",
      "Manchester United  -> has 17 characters\n",
      "Bayern Munich  -> has 13 characters\n"
     ]
    }
   ],
   "source": [
    "teams = [\"Barcelona\", \"Real Madrid\", \"Manchester United\", \"Juventus\", \"Bayern Munich\", \"Liverpool\"]\n",
    "\n",
    "print(\"Teams with long names:\\n\")\n",
    "i = 0\n",
    "while i < len(teams):\n",
    "    if len(teams[i]) > 10:\n",
    "        print(teams[i], \" -> has\", len(teams[i]), \"characters\")\n",
    "    i += 1"
   ]
  },
  {
   "cell_type": "code",
   "execution_count": null,
   "metadata": {},
   "outputs": [],
   "source": [
    "# try doing the last example with a for loop"
   ]
  },
  {
   "cell_type": "code",
   "execution_count": null,
   "metadata": {},
   "outputs": [],
   "source": []
  },
  {
   "cell_type": "markdown",
   "metadata": {},
   "source": [
    "#### 6.3. break\n",
    "\n",
    "The break statement is used to exit a loop before it is completed. It is normally used inside a conditional statement."
   ]
  },
  {
   "cell_type": "code",
   "execution_count": 317,
   "metadata": {},
   "outputs": [
    {
     "name": "stdout",
     "output_type": "stream",
     "text": [
      "Looking at The Godfather ...\n",
      "Looking at The Shawshank Redemption ...\n",
      "Looking at Schindler's List ...\n",
      "Looking at Raging Bull ...\n",
      "Looking at Casablanca ...\n",
      "We found it!\n"
     ]
    }
   ],
   "source": [
    "movies = [\n",
    "    \"The Godfather\", \n",
    "    \"The Shawshank Redemption\", \n",
    "    \"Schindler's List\", \n",
    "    \"Raging Bull\", \n",
    "    \"Casablanca\", \n",
    "    \"Citizen Kane\", \n",
    "    \"Gone with the Wind\", \n",
    "    \"The Wizard of Oz\", \n",
    "    \"Lawrence of Arabia\"\n",
    "]\n",
    "\n",
    "searched_movie = \"Casablanca\"\n",
    "\n",
    "for movie in movies:\n",
    "    print(\"Looking at\", movie, \"...\")\n",
    "    if movie == searched_movie:\n",
    "        print(\"We found it!\")\n",
    "        break"
   ]
  },
  {
   "cell_type": "code",
   "execution_count": 320,
   "metadata": {},
   "outputs": [
    {
     "name": "stdout",
     "output_type": "stream",
     "text": [
      "Reading 0: 23 %\n",
      "good\n",
      "Reading 1: 19 %\n",
      "good\n",
      "Reading 2: 10 %\n",
      "good\n",
      "Reading 3: 1 %\n",
      "good\n",
      "Reading 4: 34 %\n",
      "good\n",
      "Reading 5: -5 %\n",
      "WARNING: Negative value detected! Stopping the sensor...\n"
     ]
    }
   ],
   "source": [
    "moisture_sensor_reads = [23, 19, 10, 1, 34, -5, 10, 22, 12, 15]\n",
    "\n",
    "i = 0\n",
    "while i < len(moisture_sensor_reads):\n",
    "    print(f\"Reading {i}: {moisture_sensor_reads[i]} %\")\n",
    "    if moisture_sensor_reads[i] < 0:\n",
    "        print(\"WARNING: Negative value detected! Stopping the sensor...\")\n",
    "        break\n",
    "    print(\"good\") #this is printed unless the break happens\n",
    "    i += 1"
   ]
  },
  {
   "cell_type": "code",
   "execution_count": null,
   "metadata": {},
   "outputs": [],
   "source": []
  },
  {
   "cell_type": "markdown",
   "metadata": {},
   "source": [
    "#### 6.4. continue\n",
    "\n",
    "The continue statement is used to skip the rest of the instructions in a loop and continue with the next iteration. It is normally used inside a conditional statement."
   ]
  },
  {
   "cell_type": "code",
   "execution_count": 324,
   "metadata": {},
   "outputs": [
    {
     "name": "stdout",
     "output_type": "stream",
     "text": [
      "\n",
      "Processing John...\n",
      "Converting to uppercase...\n",
      "Converted: JOHN\n",
      "\n",
      "Processing MARY...\n",
      "Already correct, continuing...\n",
      "\n",
      "Processing peter...\n",
      "Converting to uppercase...\n",
      "Converted: PETER\n",
      "\n",
      "Processing JANE...\n",
      "Already correct, continuing...\n",
      "\n",
      "Processing Bob...\n",
      "Converting to uppercase...\n",
      "Converted: BOB\n"
     ]
    }
   ],
   "source": [
    "names = [\"John\", \"MARY\", \"peter\", \"JANE\", \"Bob\"] #convert all the lowercase to uppercase example\n",
    "\n",
    "for name in names:\n",
    "    print(f\"\\nProcessing {name}...\")\n",
    "    if name.isupper():\n",
    "        print(\"Already correct, continuing...\")\n",
    "        continue                               #it stops here unless the condition is not met\n",
    "\n",
    "    print(\"Converting to uppercase...\")\n",
    "    name = name.upper()\n",
    "    print(\"Converted:\", name)"
   ]
  },
  {
   "cell_type": "code",
   "execution_count": null,
   "metadata": {},
   "outputs": [],
   "source": []
  },
  {
   "cell_type": "markdown",
   "metadata": {},
   "source": [
    "---\n",
    "## 7. Functions\n",
    "\n",
    "Functions are blocks of code that can be executed multiple times. They are defined with the keyword **def** followed by the name of the function and the arguments between parentheses. Names of functions are normally the verbs of the action to perform. The body of the function is indented and it can optionally contain a return statement to return a value. Functions can also receive parameters to modify their behaviour."
   ]
  },
  {
   "cell_type": "code",
   "execution_count": 325,
   "metadata": {},
   "outputs": [],
   "source": [
    "def say_hello():\n",
    "    print(\"Hello!\")"
   ]
  },
  {
   "cell_type": "code",
   "execution_count": 326,
   "metadata": {},
   "outputs": [
    {
     "name": "stdout",
     "output_type": "stream",
     "text": [
      "Hello!\n"
     ]
    }
   ],
   "source": [
    "# We need to call the function to execute it\n",
    "\n",
    "say_hello()"
   ]
  },
  {
   "cell_type": "code",
   "execution_count": 328,
   "metadata": {},
   "outputs": [
    {
     "name": "stdout",
     "output_type": "stream",
     "text": [
      "Hello John!\n"
     ]
    }
   ],
   "source": [
    "# We can send parameters to the function\n",
    "\n",
    "def say_hello(name):\n",
    "    print(f\"Hello {name}!\")\n",
    "\n",
    "say_hello(\"John\")\n",
    "#say_hello(name=\"John\")"
   ]
  },
  {
   "cell_type": "code",
   "execution_count": 331,
   "metadata": {},
   "outputs": [
    {
     "name": "stdout",
     "output_type": "stream",
     "text": [
      "<class 'int'>\n"
     ]
    },
    {
     "data": {
      "text/plain": [
       "'num 3'"
      ]
     },
     "execution_count": 331,
     "metadata": {},
     "output_type": "execute_result"
    }
   ],
   "source": [
    "n = 3\n",
    "print(type(n))\n",
    "f\"num {3}\"\n"
   ]
  },
  {
   "cell_type": "code",
   "execution_count": 412,
   "metadata": {},
   "outputs": [
    {
     "name": "stdout",
     "output_type": "stream",
     "text": [
      "Hello John! You are 25 years old.\n",
      "Hello Mary! You are 30 years old.\n",
      "Hello Peter! You are 40 years old.\n"
     ]
    }
   ],
   "source": [
    "def say_hello(name, age):\n",
    "    print(f\"Hello {name}! You are {age} years old.\") #the f here is for? without it, it doesn´t work\n",
    "\n",
    "say_hello(\"John\", 25) #john is a string and 25 is a integer\n",
    "say_hello(\"Mary\", 30)\n",
    "say_hello(\"Peter\", 40)"
   ]
  },
  {
   "cell_type": "code",
   "execution_count": 332,
   "metadata": {},
   "outputs": [
    {
     "name": "stdout",
     "output_type": "stream",
     "text": [
      "Hello John! You are 25 years old.\n",
      "Hello Mary! You are 30 years old.\n",
      "Hello Peter! You are 40 years old.\n"
     ]
    }
   ],
   "source": [
    "say_hello(\"John\", 25) \n",
    "say_hello(\"Mary\", 30)\n",
    "say_hello(\"Peter\", 40)"
   ]
  },
  {
   "cell_type": "code",
   "execution_count": 333,
   "metadata": {},
   "outputs": [
    {
     "name": "stdout",
     "output_type": "stream",
     "text": [
      "Hello 10! You are 10 years old.\n",
      "Hello 20! You are 20 years old.\n",
      "Hello 30! You are 30 years old.\n"
     ]
    }
   ],
   "source": [
    "def say_hello(name, age): #last example but with input, to add your name or age\n",
    "    name = input()\n",
    "    age = input()\n",
    "    print(f\"Hello {name}! You are {age} years old.\")\n",
    "\n",
    "say_hello(\"John\", 25) #john is a string and 25 is a integer\n",
    "say_hello(\"Mary\", 30)\n",
    "say_hello(\"Peter\", 40)"
   ]
  },
  {
   "cell_type": "code",
   "execution_count": 340,
   "metadata": {},
   "outputs": [],
   "source": [
    "a = 3 + 4"
   ]
  },
  {
   "cell_type": "code",
   "execution_count": 341,
   "metadata": {},
   "outputs": [
    {
     "name": "stdout",
     "output_type": "stream",
     "text": [
      "we are printing from the function 5\n",
      "5\n"
     ]
    }
   ],
   "source": [
    "# Functions can return values\n",
    "\n",
    "def add(a, b):\n",
    "    sum1 = a + b\n",
    "    print(\"we are printing from the function\", sum1)\n",
    "\n",
    "    return sum1\n",
    "\n",
    "result = add(2, 3)\n",
    "print(result)"
   ]
  },
  {
   "cell_type": "code",
   "execution_count": 345,
   "metadata": {},
   "outputs": [
    {
     "name": "stdout",
     "output_type": "stream",
     "text": [
      "we are printing from the function 23\n"
     ]
    },
    {
     "data": {
      "text/plain": [
       "23"
      ]
     },
     "execution_count": 345,
     "metadata": {},
     "output_type": "execute_result"
    }
   ],
   "source": [
    "add(6,17) #example that the equation is made before and you dont need to manually make it everytime\n",
    "# sum1 = a + b"
   ]
  },
  {
   "cell_type": "code",
   "execution_count": null,
   "metadata": {},
   "outputs": [
    {
     "data": {
      "text/plain": [
       "5"
      ]
     },
     "execution_count": 74,
     "metadata": {},
     "output_type": "execute_result"
    }
   ],
   "source": [
    "add(2, 3)"
   ]
  },
  {
   "cell_type": "code",
   "execution_count": 350,
   "metadata": {},
   "outputs": [],
   "source": [
    "def convert_dollar_to_euro(dollars, exchange_rate):\n",
    "    euros = dollars * exchange_rate\n",
    "\n",
    "    return euros # without the return function the euros wont be called when they are called afterwards"
   ]
  },
  {
   "cell_type": "code",
   "execution_count": 352,
   "metadata": {},
   "outputs": [
    {
     "name": "stdout",
     "output_type": "stream",
     "text": [
      "100 dollars are 91.0 euros\n"
     ]
    }
   ],
   "source": [
    "dollars = 100\n",
    "exchange_rate = 0.91\n",
    "\n",
    "euros = convert_dollar_to_euro(dollars, exchange_rate)\n",
    "\n",
    "print(f\"{dollars} dollars are {euros} euros\")"
   ]
  },
  {
   "cell_type": "code",
   "execution_count": 353,
   "metadata": {},
   "outputs": [
    {
     "name": "stdout",
     "output_type": "stream",
     "text": [
      "100 dollars are 91.0 euros\n"
     ]
    }
   ],
   "source": [
    "print(f\"{dollars} dollars are {convert_dollar_to_euro(dollars, exchange_rate)} euros\")"
   ]
  },
  {
   "cell_type": "code",
   "execution_count": 354,
   "metadata": {},
   "outputs": [
    {
     "name": "stdout",
     "output_type": "stream",
     "text": [
      "Hello John!\n",
      "Result: None\n"
     ]
    }
   ],
   "source": [
    "# If functions don't return any value they will return a None object by default\n",
    "\n",
    "def say_hello(name):\n",
    "    print(f\"Hello {name}!\")\n",
    "\n",
    "result = say_hello(\"John\")\n",
    "print(\"Result:\", result)"
   ]
  },
  {
   "cell_type": "markdown",
   "metadata": {},
   "source": [
    "#### None\n",
    "\n",
    "**None** is a special value that represents the absence of a value. It is returned by functions that don't have a return statement. It is also used to initialize variables that will be assigned a value later."
   ]
  },
  {
   "cell_type": "code",
   "execution_count": 359,
   "metadata": {},
   "outputs": [],
   "source": [
    "var = None #this is like false\n",
    "#var = \"John\"\n",
    "\n",
    "if var:\n",
    "    print(\"hello\")"
   ]
  },
  {
   "cell_type": "code",
   "execution_count": 360,
   "metadata": {},
   "outputs": [],
   "source": [
    "None and True"
   ]
  },
  {
   "cell_type": "code",
   "execution_count": 362,
   "metadata": {},
   "outputs": [],
   "source": [
    "# One last example\n",
    "\n",
    "def get_pay_amount(num_hours, hourly_wage, tax_bracket):\n",
    "    # Pre-tax pay\n",
    "    pay_pretax = num_hours * hourly_wage\n",
    "    # After-tax pay\n",
    "    pay_aftertax = pay_pretax * (1 - tax_bracket)\n",
    "\n",
    "    return pay_aftertax"
   ]
  },
  {
   "cell_type": "code",
   "execution_count": 363,
   "metadata": {},
   "outputs": [
    {
     "name": "stdout",
     "output_type": "stream",
     "text": [
      "748.8000000000001\n"
     ]
    }
   ],
   "source": [
    "pay_aftertax = get_pay_amount(num_hours=40, hourly_wage=24, tax_bracket=.22)\n",
    "\n",
    "print(pay_aftertax)"
   ]
  },
  {
   "cell_type": "code",
   "execution_count": 364,
   "metadata": {},
   "outputs": [
    {
     "data": {
      "text/plain": [
       "748.8000000000001"
      ]
     },
     "execution_count": 364,
     "metadata": {},
     "output_type": "execute_result"
    }
   ],
   "source": [
    "get_pay_amount(40, 24, .22)     # this will also work, but it's less readable"
   ]
  },
  {
   "cell_type": "code",
   "execution_count": 365,
   "metadata": {},
   "outputs": [
    {
     "data": {
      "text/plain": [
       "748.8000000000001"
      ]
     },
     "execution_count": 365,
     "metadata": {},
     "output_type": "execute_result"
    }
   ],
   "source": [
    "num_hours=40\n",
    "hourly_wage=24\n",
    "tax_bracket=.22\n",
    "\n",
    "get_pay_amount(num_hours, hourly_wage, tax_bracket)         # this way can be better"
   ]
  },
  {
   "cell_type": "code",
   "execution_count": null,
   "metadata": {},
   "outputs": [],
   "source": []
  },
  {
   "cell_type": "markdown",
   "metadata": {},
   "source": [
    "---\n",
    "## 8. Exercises"
   ]
  },
  {
   "cell_type": "markdown",
   "metadata": {},
   "source": [
    "#### Ex. 1\n",
    "\n",
    "Write a program that detects how many times the substring \"2023\" appears in a text story and then it replaces all the occurrences of \"2023\" with \"2024\"."
   ]
  },
  {
   "cell_type": "code",
   "execution_count": 374,
   "metadata": {},
   "outputs": [],
   "source": [
    "story = \"\"\"In the year 2023, humanity had made a significant leap in technology. It was in 2023 when we finally established the first human colony on Mars. The project, aptly named \"Mars 2023\", was a testament to human will and innovation.\n",
    "\n",
    "The world watched in anticipation as the first crew members of Mars 2023 took their first steps on the red planet. It was a moment that echoed Neil Armstrong's historic moon landing, but this time in the year 2023, and on a whole new planet.\n",
    "\n",
    "Back on Earth, in 2023, people celebrated this achievement. It was a beacon of hope in a world that had seen its share of challenges. The year 2023 marked a new era for humanity, one where the stars were no longer out of our reach.\n",
    "\n",
    "By the end of 2023, we had not only reached Mars but created a sustainable living environment there. The year 2023 will forever be remembered as the year we truly became a space-faring civilization.\n",
    "\"\"\""
   ]
  },
  {
   "cell_type": "code",
   "execution_count": 366,
   "metadata": {},
   "outputs": [],
   "source": [
    "# Your code here\n",
    "# This is used when in a page you want to change from one year to another and replace everything inside it"
   ]
  },
  {
   "cell_type": "code",
   "execution_count": 375,
   "metadata": {},
   "outputs": [
    {
     "name": "stdout",
     "output_type": "stream",
     "text": [
      "9\n"
     ]
    }
   ],
   "source": [
    "print(story.count(\"2023\"))"
   ]
  },
  {
   "cell_type": "code",
   "execution_count": 376,
   "metadata": {},
   "outputs": [
    {
     "name": "stdout",
     "output_type": "stream",
     "text": [
      "In the year 2024, humanity had made a significant leap in technology. It was in 2024 when we finally established the first human colony on Mars. The project, aptly named \"Mars 2024\", was a testament to human will and innovation.\n",
      "\n",
      "The world watched in anticipation as the first crew members of Mars 2024 took their first steps on the red planet. It was a moment that echoed Neil Armstrong's historic moon landing, but this time in the year 2024, and on a whole new planet.\n",
      "\n",
      "Back on Earth, in 2024, people celebrated this achievement. It was a beacon of hope in a world that had seen its share of challenges. The year 2024 marked a new era for humanity, one where the stars were no longer out of our reach.\n",
      "\n",
      "By the end of 2024, we had not only reached Mars but created a sustainable living environment there. The year 2024 will forever be remembered as the year we truly became a space-faring civilization.\n",
      "\n"
     ]
    }
   ],
   "source": [
    "print(story.replace(\"2023\",\"2024\"))"
   ]
  },
  {
   "cell_type": "markdown",
   "metadata": {},
   "source": [
    "#### Ex. 2\n",
    "\n",
    "Write a program that given a list of lists of numbers, representing the salaries of the employees of a company in each team, prints the maximum value of each team. It has to use a loop to iterate through every team and find its maximum value to print it. \n",
    "\n",
    "Then calculate the total number of employees in the company accross all the teams. (with code, not by hand, of course)."
   ]
  },
  {
   "cell_type": "code",
   "execution_count": 3,
   "metadata": {},
   "outputs": [],
   "source": [
    "salaries_per_team = [\n",
    "    [14000, 8700, 12000, 43000], \n",
    "    [10000, 12000, 10000, 22000, 14500, 19700], \n",
    "    [9000, 15000, 10300], \n",
    "    [16200, 7500, 11000, 18100, 19500]\n",
    "]"
   ]
  },
  {
   "cell_type": "code",
   "execution_count": null,
   "metadata": {},
   "outputs": [],
   "source": [
    "# Calculate the maximum salary of each team and print it"
   ]
  },
  {
   "cell_type": "code",
   "execution_count": 4,
   "metadata": {},
   "outputs": [
    {
     "name": "stdout",
     "output_type": "stream",
     "text": [
      "The max salary is 43000\n",
      "The max salary is 22000\n",
      "The max salary is 15000\n",
      "The max salary is 19500\n"
     ]
    }
   ],
   "source": [
    "#salaries_per_team = [[14000, 8700, 12000, 43000], \n",
    "#    [10000, 12000, 10000, 22000, 14500, 19700], \n",
    "#    [9000, 15000, 10300], \n",
    "#    [16200, 7500, 11000, 18100, 19500]]\n",
    "\n",
    "for max_salary in salaries_per_team:\n",
    "    print(f\"The max salary is {max(max_salary)}\")"
   ]
  },
  {
   "cell_type": "code",
   "execution_count": 5,
   "metadata": {},
   "outputs": [
    {
     "name": "stdout",
     "output_type": "stream",
     "text": [
      "Maximum salary for Team 1: $43000\n",
      "Maximum salary for Team 2: $22000\n",
      "Maximum salary for Team 3: $15000\n",
      "Maximum salary for Team 4: $19500\n"
     ]
    }
   ],
   "source": [
    "# DO NOT TAKE THE FOLLOWING INTO AN ACCOUNT, I WANTED TO KNOW HOW TO ENUMERATE EACH TEAM AUTOMATICALLY, AND NOT MANUALLY. \n",
    "# THIS USES THE \"ENUMERATE\" FUNCTION WHICH WE HAVENT LEARNED YET\n",
    "# I LEFT THIS BECAUSE I WANT TO LEARN ANOTHER WAY TO DO IT\n",
    "\n",
    "# Iterate through each team and find the maximum salary\n",
    "for i, team_salaries in enumerate(salaries_per_team, start=1): #enumerate isnt something we have seen in class yet\n",
    "    max_salary = max(team_salaries)\n",
    "    print(f\"Maximum salary for Team {i}: ${max_salary}\")"
   ]
  },
  {
   "cell_type": "code",
   "execution_count": 479,
   "metadata": {},
   "outputs": [],
   "source": [
    "# Calculate the total number of employees in the company accross all teams and print it"
   ]
  },
  {
   "cell_type": "code",
   "execution_count": 6,
   "metadata": {},
   "outputs": [
    {
     "name": "stdout",
     "output_type": "stream",
     "text": [
      "Total number of employees in the company: 18\n"
     ]
    }
   ],
   "source": [
    "total_employees = sum(len(team) for team in salaries_per_team)\n",
    "print(f\"Total number of employees in the company: {total_employees}\")"
   ]
  },
  {
   "cell_type": "markdown",
   "metadata": {},
   "source": [
    "#### Ex 3. \n",
    "\n",
    "Now create a function that given the previous list, it returns another list with the total sum of salaries of each team. It has to create a list for the total salaries of each team, and create a loop that iterates over all teams and sums the salaries of each employee."
   ]
  },
  {
   "cell_type": "code",
   "execution_count": 432,
   "metadata": {},
   "outputs": [],
   "source": [
    "#def calculate_total_teams_salaries_list(salaries_per_team):\n",
    "#    total_team_salaries = []\n",
    "#    # Your code here\n"
   ]
  },
  {
   "cell_type": "code",
   "execution_count": 489,
   "metadata": {},
   "outputs": [
    {
     "name": "stdout",
     "output_type": "stream",
     "text": [
      "Total sum of salaries of each team (the number 1,2,3 and 4 are the teams):\n",
      "77700 1\n",
      "88200 2\n",
      "34300 3\n",
      "72300 4\n"
     ]
    }
   ],
   "source": [
    "print(\"Total sum of salaries of each team (the number 1,2,3 and 4 are the teams):\")\n",
    "def calculate_total_teams_salaries_list(salaries_per_team):\n",
    "    total_team_salaries = []\n",
    "\n",
    "    for i in range(len(salaries_per_team)):\n",
    "        team_salaries = salaries_per_team[i]\n",
    "        total_salary = sum(team_salaries)\n",
    "        total_team_salaries.append(total_salary)\n",
    "\n",
    "    return total_team_salaries\n",
    "\n",
    "total_salaries = calculate_total_teams_salaries_list(salaries_per_team)\n",
    "\n",
    "a = 1\n",
    "for salary in total_salaries:\n",
    "    print(salary, a)\n",
    "    a += 1\n",
    "\n",
    "#for i in range(len(total_salaries)):\n",
    "#    print(f\"Total salary for Team {i + 1}: ${total_salaries[i]}\")\n",
    "# the 1, 2, 3 ,4 after each total salary are the number of the teams\n",
    "\n"
   ]
  },
  {
   "cell_type": "code",
   "execution_count": 490,
   "metadata": {},
   "outputs": [
    {
     "name": "stdout",
     "output_type": "stream",
     "text": [
      "Your function is correct!\n"
     ]
    }
   ],
   "source": [
    "# Don't modify this. If your function works correctly, this cell won't return any error\n",
    "\n",
    "assert calculate_total_teams_salaries_list(salaries_per_team) == [77700, 88200, 34300, 72300]\n",
    "\n",
    "print(\"Your function is correct!\")"
   ]
  },
  {
   "cell_type": "code",
   "execution_count": 484,
   "metadata": {},
   "outputs": [
    {
     "name": "stdout",
     "output_type": "stream",
     "text": [
      "Total salary for Team 1: $77700\n",
      "Total salary for Team 2: $88200\n",
      "Total salary for Team 3: $34300\n",
      "Total salary for Team 4: $72300\n"
     ]
    },
    {
     "data": {
      "text/plain": [
       "<function __main__.calculate_total_teams_salaries_list(salaries_per_team)>"
      ]
     },
     "execution_count": 484,
     "metadata": {},
     "output_type": "execute_result"
    }
   ],
   "source": [
    "# DO NOT TAKE THE FOLLOWING INTO AN ACCOUNT, I WANTED TO KNOW HOW TO ENUMERATE EACH TEAM AUTOMATICALLY, AND NOT MANUALLY. \n",
    "# THIS USES THE \"ENUMERATE\" FUNCTION WHICH WE HAVENT LEARNED YET\n",
    "# I LEFT THIS BECAUSE I WANT TO LEARN ANOTHER WAY TO DO IT\n",
    "\n",
    "def calculate_total_teams_salaries_list(salaries_per_team):\n",
    "    total_team_salaries = []\n",
    "\n",
    "    for team_salaries in salaries_per_team:\n",
    "        total_salary = sum(team_salaries)\n",
    "        total_team_salaries.append(total_salary)\n",
    "    \n",
    "    return total_team_salaries\n",
    "\n",
    "total_salaries = calculate_total_teams_salaries_list(salaries_per_team)\n",
    "\n",
    "for i, total_salary in enumerate(total_salaries, start=1): # how to do this without enumerate\n",
    "    print(f\"Total salary for Team {i}: ${total_salary}\")\n",
    "\n",
    "calculate_total_teams_salaries_list\n",
    "    "
   ]
  },
  {
   "cell_type": "markdown",
   "metadata": {},
   "source": [
    "#### Ex 4.\n",
    "\n",
    "Write a function called check_divisible that receives two numbers as arguments and returns True if the first number is divisible by the second number and False otherwise."
   ]
  },
  {
   "cell_type": "code",
   "execution_count": 7,
   "metadata": {},
   "outputs": [],
   "source": [
    "# Complete the function\n",
    "\n",
    "def check_divisible(num1, num2):\n",
    "    return (num1 % num2) == 0      #es simple, se usa el % (modulo) para saber si lo dividis si te sobra o no"
   ]
  },
  {
   "cell_type": "code",
   "execution_count": 8,
   "metadata": {},
   "outputs": [
    {
     "name": "stdout",
     "output_type": "stream",
     "text": [
      "Your function is correct!\n"
     ]
    }
   ],
   "source": [
    "# Don't modify this. If your function works correctly, this cell won't return any error\n",
    "\n",
    "assert check_divisible(9, 3) == True\n",
    "assert check_divisible(10, 3) == False\n",
    "assert check_divisible(10, 2) == True\n",
    "assert check_divisible(10, 5) == True\n",
    "assert check_divisible(1870, 34) == True\n",
    "\n",
    "print(\"Your function is correct!\")"
   ]
  },
  {
   "cell_type": "markdown",
   "metadata": {},
   "source": [
    "#### Ex 5.\n",
    "\n",
    "Create a new function called add_chars that given two strings, it returns the sum of the total number of characters of both strings."
   ]
  },
  {
   "cell_type": "code",
   "execution_count": 493,
   "metadata": {},
   "outputs": [],
   "source": [
    "# Your code here\n",
    "def add_chars(string1,string2):\n",
    "    return len(string1) + len(string2)\n"
   ]
  },
  {
   "cell_type": "code",
   "execution_count": 494,
   "metadata": {},
   "outputs": [
    {
     "name": "stdout",
     "output_type": "stream",
     "text": [
      "Your function is correct!\n"
     ]
    }
   ],
   "source": [
    "# Don't modify this. If your function works correctly, this cell won't return any error\n",
    "\n",
    "assert add_chars(\"a\", \"b\") == 2\n",
    "assert add_chars(\"Hello\", \"World\") == 10\n",
    "assert add_chars(\"abc\", \"defghijkl\") == 12\n",
    "\n",
    "print(\"Your function is correct!\")"
   ]
  }
 ],
 "metadata": {
  "kernelspec": {
   "display_name": "venv",
   "language": "python",
   "name": "python3"
  },
  "language_info": {
   "codemirror_mode": {
    "name": "ipython",
    "version": 3
   },
   "file_extension": ".py",
   "mimetype": "text/x-python",
   "name": "python",
   "nbconvert_exporter": "python",
   "pygments_lexer": "ipython3",
   "version": "3.11.6"
  }
 },
 "nbformat": 4,
 "nbformat_minor": 2
}
