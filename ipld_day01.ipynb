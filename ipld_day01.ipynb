{
 "cells": [
  {
   "cell_type": "markdown",
   "metadata": {},
   "source": [
    "## Introduction to Programming Languages for Data \n",
    "## Day 1 - 22/11/2023\n",
    "\n",
    "1. Presentations  \n",
    "2. Introduction to the subject\n",
    "3. Introduction to Programming\n",
    "4. Introduction to Python\n",
    "5. Preparing the Setup\n",
    "    - Installing Python (Win/Mac/Linux)\n",
    "    - Installing Vscode + Extensions\n",
    "6. How to run Python code\n",
    "    - Python REPL\n",
    "    - Python Scripts\n",
    "    - Notebooks\n",
    "7. Python Basic Syntax\n",
    "    - Variables\n",
    "    - Opeartors\n",
    "    - Data Types\n",
    "8. Exercises\n",
    "\n",
    "\n"
   ]
  },
  {
   "cell_type": "markdown",
   "metadata": {},
   "source": [
    "---\n",
    "## 1. Presentations and Assistance check\n",
    "\n",
    "### Professor:  \n",
    "\n",
    "Enric Domingo  \n",
    "Machine Learning and Software Engineer at ERNI  \n",
    "edomingod@professional.eae.es"
   ]
  },
  {
   "cell_type": "markdown",
   "metadata": {},
   "source": [
    "---\n",
    "## 2. Introduction to the subject\n",
    "\n",
    "The subject \"Introduction to Programming Languages for Data\" is a part of the Master in Big Data & Analytics (Business Intelligence) program. This subject, which carries 5 ECTS credits, is designed to introduce essential concepts, techniques, and procedures of programming and their application in data problems. The primary focus is on Python and SQL, the most prevalent tools in the Data and AI industry.\n",
    "\n",
    "#### Main sections:\n",
    "- Introduction to Programming in Python\n",
    "- Python libraries for data\n",
    "- Introduction to relational databases and SQL\n",
    "\n",
    "#### Professional fields:\n",
    "- Software Engineer\n",
    "- Data Scientist\n",
    "- Data Engineer\n",
    "- Data Analyst\n",
    "- Machine Learning Engineer \n",
    "- Business Intelligence Analyst\n",
    "- (but almost any other role can benefit from programming skills!)\n",
    "\n",
    "#### Goals:\n",
    "- Understand how to solve problems by developing algorithms.\n",
    "- Learn to install and setup a programming environment and introduce the basics of Python and SQL.\n",
    "- Equip the skills to use Python libraries for data manipulation and analysis, which are fundamental for Big Data and Data Science.\n",
    "- Provide a basic understanding of relational databases and how to manipulate and query them using SQL.\n",
    "- Enable students to apply these skills in real-world data situations.\n",
    "\n",
    "\n",
    "#### Evaluation:\n",
    "\n",
    "Individual and group assignments (40 %)   \n",
    "In-class participation (20 %)  \n",
    "Final project (40 %)  \n",
    "\n",
    "Extra:\n",
    "- Up to one extra point for 20 problems solved in https://leetcode.com/ (0.05 points per problem)\n"
   ]
  },
  {
   "cell_type": "markdown",
   "metadata": {},
   "source": [
    "---\n",
    "## 3. Introduction to Programming\n",
    "\n",
    "### What is programming?\n",
    "\n",
    "Programming is the process of creating a set of instructions that tell a computer how to perform a task. Programming can be done using a variety of computer programming languages, such as JavaScript, Python, and C++. \n",
    "\n",
    "A program can be seen as the recipe of a dish. It is a set of instructions that tell the computer how to perform a task. The computer executes the program, following each step sequentially, until it reaches the end of the program.\n",
    "\n",
    "We develop algorithms to solve problems. An algorithm is a set of instructions that describe how to get a task done. \n",
    "\n",
    "### What is a programming language?\n",
    "\n",
    "A programming language is a vocabulary and set of grammatical rules for instructing a computer or computing device to perform specific tasks. The term programming language usually refers to high-level languages, such as JavaScript, C++, Python, Java or C# to name a few, in contrast to low-level languages, such as assembly language or machine code.\n",
    "\n",
    "Computers work with binary code, a sequence of 0s and 1s. These 0s and 1s are called bits. A bit is the smallest unit of data in a computer. A bit can hold only one of two values: 0 or 1, corresponding to the electrical values of off or on, respectively. 8 bits form a byte, which can represent values from 0 to 255.\n",
    "\n",
    "In contrast, high-level languages are human-friendly. They are easier to learn, read, and maintain. They are also portable, meaning that they can run on different operating systems with few or no modifications.\n",
    "\n",
    "Decimal to binary conversion:\n",
    "- 0 = 0\n",
    "- 1 = 1\n",
    "- 2 = 10\n",
    "- 3 = 11\n",
    "- 4 = 100\n",
    "- 5 = 101\n",
    "- 6 = 110\n",
    "- 7 = 111\n",
    "- 8 = 1000\n",
    "- 9 = 1001\n",
    "- 10 = 1010\n",
    "- ...\n",
    "\n",
    "From texts, to numbers, images, music, videos, websites, ... everything is represented in binary code in a computer.\n"
   ]
  },
  {
   "cell_type": "markdown",
   "metadata": {},
   "source": [
    "---\n",
    "## 4. Introduction to Python\n",
    "\n",
    "Python is a high-level, interpreted, interactive, and object-oriented scripting language. Python is designed to be highly readable. It uses English keywords frequently, whereas other languages use punctuation, and it has fewer syntactical constructions than other languages.\n",
    "\n",
    "Python is a very versatile language. It can be used for web development, data science, machine learning, and many other things. It is also a great first language for beginners.\n",
    "\n",
    "It was created by Guido van Rossum, and released in 1991 and it is managed by the Python Software Foundation.\n",
    "\n",
    "Some years ago, it was said to be slow and it was not much used in general. However, with the advances in hardware (computers are now a days thousands of times faster) plus the development and optimization of the core language and its libraries, it has become one of the most popular languages in the world. "
   ]
  },
  {
   "cell_type": "markdown",
   "metadata": {},
   "source": [
    "---\n",
    "## 5. Preparing the Setup\n",
    "\n",
    "- Installing Python (Win/Mac/Linux)\n",
    "    - Windows: https://www.python.org/downloads/\n",
    "    - Mac (option 1): https://macpaw.com/how-to/install-python-mac\n",
    "    - Mac (option 2): https://docs.python-guide.org/starting/install3/osx/\n",
    "\n",
    "check your installation by running the following command in your terminal:\n",
    "```bash\n",
    "$ python --version\n",
    "or\n",
    "$ python3 --version\n",
    "```\n",
    "you should see something like this:\n",
    "```bash\n",
    "Python 3.11.X\n",
    "or \n",
    "Python 3.12.X\n",
    "```\n",
    "\n",
    "- Installing Vscode + Extensions\n",
    "    - https://code.visualstudio.com/ \n",
    "    - Left menu > Extensions > Install the Python official extension from Microsoft (the first and most popular one)"
   ]
  },
  {
   "cell_type": "markdown",
   "metadata": {},
   "source": [
    "---\n",
    "## 6. How to run Python code\n",
    "\n",
    "- **Python REPL:**  \n",
    "The Python REPL (Read-Eval-Print-Loop) is a simple interactive shell that executes Python code one line at a time. It is useful for testing small code snippets and exploring the Python language. To start the Python REPL, open the terminal and type python or python3 depending on your installation. You should see the Python prompt (>>>). You can type any Python code at the prompt and press Enter to execute it. For example, you can type 2 + 2 and press Enter. The Python REPL will print the result of the expression.\n",
    "\n",
    "- **Python Scripts:**  \n",
    "The most general way of programming in Python is by writing Python scripts. A Python script is a text file with a .py extension that contains Python code. To run a Python script, you need to use the Python interpreter. The Python interpreter is a program that reads and executes Python code. It is installed on your computer when you install Python. To run a Python script, open the terminal and type python followed by the path to the script. For example, if you have a script called hello.py in the current directory, you can run it by typing python hello.py. The Python interpreter will read the script and execute its contents.\n",
    "\n",
    "- **Jupyter Notebooks:**  \n",
    "Jupyter Notebook is an open-source web application that allows you to create and share documents that contain live code, equations, visualizations, and narrative text. Jupyter Notebook is a great tool for data analysis. It allows you to write Python code interactively and view the results in the same document. To start Jupyter Notebook, create a file with the extension .ipynb in VSCode. This will open a new notebook in a new tab. You can type Python code in the cells and press Shift + Enter to execute them. You can also add text and images to the cells using Markdown. In order to create new cells you can press B (Below) or A (Above) in the keyboard or use the buttons in the top menu. You can also change the type of the cell from Code to Markdown with the letters Y and M respectively or with the cell options. To run the code in a cell, you can press Shift + Enter or click the Run button in the top menu. To stop the execution of a cell, you can press the Stop button in the top menu. To restart the kernel, you can press the Restart button in the top menu. To save the notebook, you can press Ctrl + S or click the Save button in the top menu. We can alternatively run Jupyter Notebooks online on Google Colab (https://research.google.com/colaboratory/) or locally using Anaconda."
   ]
  },
  {
   "cell_type": "markdown",
   "metadata": {},
   "source": [
    "---\n",
    "## 7. Python Basic Syntax\n",
    "\n",
    "- Printing \n",
    "- Arithmetic\n",
    "- Comments\n",
    "- Basic data types\n",
    "- Variables\n",
    "- Manipulating variables\n",
    "- Using multiple variables\n",
    "- Debugging"
   ]
  },
  {
   "cell_type": "markdown",
   "metadata": {},
   "source": [
    "#### Printing\n",
    "\n",
    "The print() function prints the specified message to the screen, or other standard output device. The message can be a string, or any other object, the object will be converted into a string before written to the screen. "
   ]
  },
  {
   "cell_type": "code",
   "execution_count": 25,
   "metadata": {},
   "outputs": [
    {
     "name": "stdout",
     "output_type": "stream",
     "text": [
      "Hello World!\n"
     ]
    }
   ],
   "source": [
    "print(\"Hello World!\")"
   ]
  },
  {
   "cell_type": "code",
   "execution_count": 26,
   "metadata": {},
   "outputs": [
    {
     "name": "stdout",
     "output_type": "stream",
     "text": [
      "First line\n",
      "Second line\n",
      "Third line!\n"
     ]
    }
   ],
   "source": [
    "# Every print creates a new line by default\n",
    "\n",
    "print(\"First line\")\n",
    "print(\"Second line\")\n",
    "print(\"Third line!\")"
   ]
  },
  {
   "cell_type": "code",
   "execution_count": null,
   "metadata": {},
   "outputs": [],
   "source": []
  },
  {
   "cell_type": "markdown",
   "metadata": {},
   "source": [
    "#### Arithmetic\n",
    "\n",
    "We can also print the value of some arithmetic operation (such as addition, subtraction, multiplication, division, ...).\n",
    "\n",
    "For instance, in the next code cell, the computer adds 2 to 1 and then prints the result, which is 3. Note that unlike when we were simply printing text, we don't use any quotation marks."
   ]
  },
  {
   "cell_type": "code",
   "execution_count": 27,
   "metadata": {},
   "outputs": [
    {
     "name": "stdout",
     "output_type": "stream",
     "text": [
      "3\n"
     ]
    }
   ],
   "source": [
    "print(1 + 2)"
   ]
  },
  {
   "cell_type": "code",
   "execution_count": 28,
   "metadata": {},
   "outputs": [
    {
     "data": {
      "text/plain": [
       "3"
      ]
     },
     "execution_count": 28,
     "metadata": {},
     "output_type": "execute_result"
    }
   ],
   "source": [
    "# In Notebooks, the last line of a cell is automatically printed as well \n",
    "\n",
    "1 + 2"
   ]
  },
  {
   "cell_type": "code",
   "execution_count": 29,
   "metadata": {},
   "outputs": [
    {
     "data": {
      "text/plain": [
       "6"
      ]
     },
     "execution_count": 29,
     "metadata": {},
     "output_type": "execute_result"
    }
   ],
   "source": [
    "# But not the previous ones\n",
    "\n",
    "1 + 1   # Not printed\n",
    "2 + 2   # Not printed\n",
    "3 + 3   # Printed"
   ]
  },
  {
   "cell_type": "code",
   "execution_count": 1,
   "metadata": {},
   "outputs": [
    {
     "name": "stdout",
     "output_type": "stream",
     "text": [
      "1 + 2 = 3\n",
      "1 - 2 = -1\n",
      "5 * 2 = 2\n",
      "7 / 2 = 0.5\n",
      "7 // 2 = 0\n",
      "7 % 2 = 1\n",
      "1 ** 2 = 1\n"
     ]
    }
   ],
   "source": [
    "# Basic math operators\n",
    "\n",
    "print(\"1 + 2 =\", 1 + 2)     # Addition\n",
    "print(\"1 - 2 =\", 1 - 2)     # Subtraction\n",
    "print(\"5 * 2 =\", 1 * 2)     # Multiplication\n",
    "print(\"7 / 2 =\", 1 / 2)     # Division\n",
    "print(\"7 // 2 =\", 1 // 2)   # Floor division\n",
    "print(\"7 % 2 =\", 1 % 2)     # Modulo             #basicamente es si lo podes dividir por 2. en este ejemplo 7 se divide en 2\n",
    "                                                 #siendo asi 2,2,2 y te sobra 1 al final. Si es que te da 0 es porque se puede dividir\n",
    "                                                 #y no te \"sobra\" nada \n",
    "print(\"1 ** 2 =\", 1 ** 2)   # Exponentiation"
   ]
  },
  {
   "cell_type": "code",
   "execution_count": 31,
   "metadata": {},
   "outputs": [
    {
     "name": "stdout",
     "output_type": "stream",
     "text": [
      "result: 1.0\n"
     ]
    }
   ],
   "source": [
    "# We can use multiple operators in the same line and parentheses to control the order of operations\n",
    "\n",
    "print(\"result:\", (1 + 2) * 3 / 9)"
   ]
  },
  {
   "cell_type": "markdown",
   "metadata": {},
   "source": [
    "#### Other operations\n",
    "\n",
    "We can also apply some operations with strings, booleans and some combinations of them."
   ]
  },
  {
   "cell_type": "code",
   "execution_count": 32,
   "metadata": {},
   "outputs": [
    {
     "name": "stdout",
     "output_type": "stream",
     "text": [
      "Hello Mary\n"
     ]
    }
   ],
   "source": [
    "# Concatenating strings\n",
    "\n",
    "greeting = \"Hello \"\n",
    "name = \"Mary\"\n",
    "\n",
    "print(greeting + name)"
   ]
  },
  {
   "cell_type": "code",
   "execution_count": 33,
   "metadata": {},
   "outputs": [
    {
     "name": "stdout",
     "output_type": "stream",
     "text": [
      "Go! Go! Go! \n"
     ]
    }
   ],
   "source": [
    "# Multiplying strings\n",
    "\n",
    "print(\"Go! \" * 3)"
   ]
  },
  {
   "cell_type": "code",
   "execution_count": 34,
   "metadata": {},
   "outputs": [
    {
     "data": {
      "text/plain": [
       "'abc3'"
      ]
     },
     "execution_count": 34,
     "metadata": {},
     "output_type": "execute_result"
    }
   ],
   "source": [
    "\"abc\" + \"3\""
   ]
  },
  {
   "cell_type": "code",
   "execution_count": null,
   "metadata": {},
   "outputs": [],
   "source": []
  },
  {
   "cell_type": "code",
   "execution_count": 35,
   "metadata": {},
   "outputs": [
    {
     "name": "stdout",
     "output_type": "stream",
     "text": [
      "True * True = 1\n",
      "True and True = True\n",
      "True and False = False\n",
      "True or False = True\n",
      "True + False = 1\n"
     ]
    }
   ],
   "source": [
    "# Boolean operations\n",
    "# and is multiplier and or is sum\n",
    "# True is 1 and False is 0\n",
    "print(\"True * True =\", True * True)\n",
    "print(\"True and True =\", True and True)\n",
    "print(\"True and False =\", True and False)\n",
    "print(\"True or False =\", True or False)\n",
    "print(\"True + False =\", True + False)"
   ]
  },
  {
   "cell_type": "code",
   "execution_count": 36,
   "metadata": {},
   "outputs": [
    {
     "name": "stdout",
     "output_type": "stream",
     "text": [
      "not True = False\n",
      "not False = True\n"
     ]
    }
   ],
   "source": [
    "# <not> operator\n",
    "# does the opposite from the previous\n",
    "\n",
    "print(\"not True =\", not True)\n",
    "print(\"not False =\", not False)"
   ]
  },
  {
   "cell_type": "code",
   "execution_count": 37,
   "metadata": {},
   "outputs": [
    {
     "name": "stdout",
     "output_type": "stream",
     "text": [
      "1 == 1 = True\n",
      "1 == 2 = False\n",
      "1 != 1 = False\n",
      "1 != 2 = True\n"
     ]
    }
   ],
   "source": [
    "# Booleans are in fact used to check if two values are equal or not\n",
    "# a signle = is to name a variable\n",
    "# two == is shown below\n",
    "# == is to show if its the same as the other\n",
    "# != is to show if their different\n",
    "\n",
    "print(\"1 == 1 =\", 1 == 1)\n",
    "print(\"1 == 2 =\", 1 == 2)\n",
    "print(\"1 != 1 =\", 1 != 1)\n",
    "print(\"1 != 2 =\", 1 != 2)"
   ]
  },
  {
   "cell_type": "code",
   "execution_count": 38,
   "metadata": {},
   "outputs": [
    {
     "name": "stdout",
     "output_type": "stream",
     "text": [
      "hello == hello = True\n",
      "hello == world = False\n",
      "hello != hello = False\n",
      "hello != world = True\n"
     ]
    }
   ],
   "source": [
    "print(\"hello == hello =\", \"hello\" == \"hello\")\n",
    "print(\"hello == world =\", \"hello\" == \"world\")\n",
    "print(\"hello != hello =\", \"hello\" != \"hello\")\n",
    "print(\"hello != world =\", \"hello\" != \"world\")"
   ]
  },
  {
   "cell_type": "code",
   "execution_count": null,
   "metadata": {},
   "outputs": [],
   "source": []
  },
  {
   "cell_type": "markdown",
   "metadata": {},
   "source": [
    "#### Comments\n",
    "\n",
    "We use comments to annotate what code is doing. They help other people to understand your code, and they can also be helpful if you haven't looked at your own code in a while. So far, the code that we have written is very short, but annotations become more important when you have written a lot of code.\n",
    "\n",
    "For instance, in the next code cell, we multiply 3 by 2. We also add a comment (# Multiply 3 by 2) above the code to describe what the code is doing."
   ]
  },
  {
   "cell_type": "code",
   "execution_count": 39,
   "metadata": {},
   "outputs": [
    {
     "name": "stdout",
     "output_type": "stream",
     "text": [
      "6\n"
     ]
    }
   ],
   "source": [
    "# Multiply 3 by 2\n",
    "print(3 * 2)"
   ]
  },
  {
   "cell_type": "code",
   "execution_count": null,
   "metadata": {},
   "outputs": [],
   "source": []
  },
  {
   "cell_type": "markdown",
   "metadata": {},
   "source": [
    "#### Basic data types (this should of been before the last examples)\n",
    "\n",
    "- **Strings** (str) example: \"Welcome to Python\", \"A\", \"100\"\n",
    "- **Integers** (int) example: 42, -1024\n",
    "- **Floats** (float) example: 3.14, -0.5637\n",
    "- **Booleans** (bool) example: True or False"
   ]
  },
  {
   "cell_type": "code",
   "execution_count": 40,
   "metadata": {},
   "outputs": [
    {
     "data": {
      "text/plain": [
       "True"
      ]
     },
     "execution_count": 40,
     "metadata": {},
     "output_type": "execute_result"
    }
   ],
   "source": [
    "\"This could be any text or characters\"  # String - it has \"\" -  text, and you can use numbers also but they wont add up, you will cocatenate with this\n",
    "123                                     # Integer - round numbers                       \n",
    "90.1                                    # Float - numbers with decimals\n",
    "True                                    # Boolean - True or False - like binary"
   ]
  },
  {
   "cell_type": "code",
   "execution_count": null,
   "metadata": {},
   "outputs": [],
   "source": []
  },
  {
   "cell_type": "markdown",
   "metadata": {},
   "source": [
    "#### Variables\n",
    "\n",
    "So far, you have used code to make a calculation and print the result, and the result isn't saved anywhere. However, you can imagine that you might want to save the result to work with it later. For this, you'll need to use variables."
   ]
  },
  {
   "cell_type": "code",
   "execution_count": 41,
   "metadata": {},
   "outputs": [
    {
     "name": "stdout",
     "output_type": "stream",
     "text": [
      "1\n"
     ]
    }
   ],
   "source": [
    "# Creating variables\n",
    "\n",
    "my_var = 1\n",
    "\n",
    "print(my_var)"
   ]
  },
  {
   "cell_type": "code",
   "execution_count": null,
   "metadata": {},
   "outputs": [],
   "source": []
  },
  {
   "cell_type": "code",
   "execution_count": 42,
   "metadata": {},
   "outputs": [
    {
     "name": "stdout",
     "output_type": "stream",
     "text": [
      "1\n",
      "2\n",
      "Hello\n"
     ]
    }
   ],
   "source": [
    "# Variables can mutate (change)\n",
    "\n",
    "my_var = 1\n",
    "print(my_var)\n",
    "\n",
    "my_var = 2\n",
    "print(my_var)\n",
    "\n",
    "my_var = \"Hello\"\n",
    "print(my_var)"
   ]
  },
  {
   "cell_type": "code",
   "execution_count": 43,
   "metadata": {},
   "outputs": [
    {
     "data": {
      "text/plain": [
       "'Hello'"
      ]
     },
     "execution_count": 43,
     "metadata": {},
     "output_type": "execute_result"
    }
   ],
   "source": [
    "# showing that the my_var is being replaced\n",
    "my_var"
   ]
  },
  {
   "cell_type": "code",
   "execution_count": 44,
   "metadata": {},
   "outputs": [
    {
     "name": "stdout",
     "output_type": "stream",
     "text": [
      "4\n"
     ]
    }
   ],
   "source": [
    "a = \"4\"\n",
    "print(a)"
   ]
  },
  {
   "cell_type": "code",
   "execution_count": 45,
   "metadata": {},
   "outputs": [
    {
     "data": {
      "text/plain": [
       "str"
      ]
     },
     "execution_count": 45,
     "metadata": {},
     "output_type": "execute_result"
    }
   ],
   "source": [
    "type(a)"
   ]
  },
  {
   "cell_type": "code",
   "execution_count": 46,
   "metadata": {},
   "outputs": [
    {
     "data": {
      "text/plain": [
       "str"
      ]
     },
     "execution_count": 46,
     "metadata": {},
     "output_type": "execute_result"
    }
   ],
   "source": [
    "# Checking the type of a variable with type()\n",
    "# str = string\n",
    "# its to see what type of variable it is when im seeing a code of another person\n",
    "type(my_var)"
   ]
  },
  {
   "cell_type": "code",
   "execution_count": 47,
   "metadata": {},
   "outputs": [
    {
     "name": "stdout",
     "output_type": "stream",
     "text": [
      "30\n",
      "<class 'int'>\n"
     ]
    }
   ],
   "source": [
    "age = 30\n",
    "print(age)\n",
    "print(type(age))"
   ]
  },
  {
   "cell_type": "code",
   "execution_count": 48,
   "metadata": {},
   "outputs": [
    {
     "name": "stdout",
     "output_type": "stream",
     "text": [
      "65.5\n",
      "<class 'float'>\n"
     ]
    }
   ],
   "source": [
    "weight = 65.5\n",
    "print(weight)\n",
    "print(type(weight))"
   ]
  },
  {
   "cell_type": "code",
   "execution_count": null,
   "metadata": {},
   "outputs": [],
   "source": []
  },
  {
   "cell_type": "code",
   "execution_count": 49,
   "metadata": {},
   "outputs": [
    {
     "name": "stdout",
     "output_type": "stream",
     "text": [
      "150\n"
     ]
    }
   ],
   "source": [
    "# Using multiple variables\n",
    "\n",
    "my_num1 = 50\n",
    "my_num2 = 100\n",
    "\n",
    "print(my_num1 + my_num2)"
   ]
  },
  {
   "cell_type": "code",
   "execution_count": 54,
   "metadata": {},
   "outputs": [
    {
     "name": "stdout",
     "output_type": "stream",
     "text": [
      "My name is John and I am 30 years old\n"
     ]
    }
   ],
   "source": [
    "name = \"John\"\n",
    "age = 30\n",
    "\n",
    "print(\"My name is\", name, \"and I am\", age, \"years old\")\n",
    "#print(\"My name is \" + name + \" and I am \" + age + \" years old\")"
   ]
  },
  {
   "cell_type": "code",
   "execution_count": 57,
   "metadata": {},
   "outputs": [
    {
     "name": "stdout",
     "output_type": "stream",
     "text": [
      "126144000 seconds\n"
     ]
    }
   ],
   "source": [
    "# Declaring our problem variables\n",
    "num_years = 4\n",
    "days_per_year = 365 \n",
    "hours_per_day = 24\n",
    "mins_per_hour = 60\n",
    "secs_per_min = 60\n",
    "\n",
    "# Calculate number of seconds in four years\n",
    "total_secs = secs_per_min * mins_per_hour * hours_per_day * days_per_year * num_years\n",
    "print(total_secs, \"seconds\")\n"
   ]
  },
  {
   "cell_type": "code",
   "execution_count": 29,
   "metadata": {},
   "outputs": [
    {
     "name": "stdout",
     "output_type": "stream",
     "text": [
      "15\n"
     ]
    }
   ],
   "source": [
    "# We can mix variables and numbers in our calculations\n",
    "\n",
    "size = 10\n",
    "\n",
    "print(size + 5)"
   ]
  },
  {
   "cell_type": "code",
   "execution_count": 59,
   "metadata": {},
   "outputs": [
    {
     "name": "stdout",
     "output_type": "stream",
     "text": [
      "15\n"
     ]
    }
   ],
   "source": [
    "# We can mix variables and numbers in our calculations\n",
    "# Same as before but i add \"inc\"\n",
    "\n",
    "size = 10\n",
    "inc = 5\n",
    "\n",
    "print(size + inc)"
   ]
  },
  {
   "cell_type": "markdown",
   "metadata": {},
   "source": [
    "#### The input() method\n",
    "\n",
    "We can use input() to stop the program and wait for any user input"
   ]
  },
  {
   "cell_type": "code",
   "execution_count": 62,
   "metadata": {},
   "outputs": [
    {
     "name": "stdout",
     "output_type": "stream",
     "text": [
      "Hello  !\n"
     ]
    }
   ],
   "source": [
    "name = input()\n",
    "\n",
    "print(\"Hello\", name, \"!\")"
   ]
  },
  {
   "cell_type": "code",
   "execution_count": null,
   "metadata": {},
   "outputs": [],
   "source": []
  },
  {
   "cell_type": "markdown",
   "metadata": {},
   "source": [
    "#### Errors and Debugging\n",
    "\n",
    "Errors are common in programming. They happen when the computer can't understand what you are trying to do. For instance, if you try to print a variable that doesn't exist, you'll get an error. Errors are not bad, they are a normal part of programming. They are a way for the computer to tell you that something is wrong. You can use the error message to figure out what is wrong and fix it.\n",
    "\n",
    "At first they are difficult to understand and resolve, but with practice you'll get better at it. The most common thing to do if you don't know how to fix an error is to search for the error message online at Google for example. You'll find that most errors have been asked and answered before on websites like Stack Overflow.\n",
    "\n",
    "Copy & Paste \"TypeError\" in Stack Overflow"
   ]
  },
  {
   "cell_type": "code",
   "execution_count": 34,
   "metadata": {},
   "outputs": [
    {
     "ename": "TypeError",
     "evalue": "unsupported operand type(s) for +: 'int' and 'str'",
     "output_type": "error",
     "traceback": [
      "\u001b[1;31m---------------------------------------------------------------------------\u001b[0m",
      "\u001b[1;31mTypeError\u001b[0m                                 Traceback (most recent call last)",
      "\u001b[1;32mc:\\Code\\EAE\\ipld_day01.ipynb Cell 40\u001b[0m line \u001b[0;36m3\n\u001b[0;32m      <a href='vscode-notebook-cell:/c%3A/Code/EAE/ipld_day01.ipynb#Y111sZmlsZQ%3D%3D?line=0'>1</a>\u001b[0m \u001b[39m# Let's see some examples...\u001b[39;00m\n\u001b[1;32m----> <a href='vscode-notebook-cell:/c%3A/Code/EAE/ipld_day01.ipynb#Y111sZmlsZQ%3D%3D?line=2'>3</a>\u001b[0m \u001b[39mprint\u001b[39m(\u001b[39m5\u001b[39;49m \u001b[39m+\u001b[39;49m \u001b[39m\"\u001b[39;49m\u001b[39mHello\u001b[39;49m\u001b[39m\"\u001b[39;49m)\n",
      "\u001b[1;31mTypeError\u001b[0m: unsupported operand type(s) for +: 'int' and 'str'"
     ]
    }
   ],
   "source": [
    "# Let's see some examples...\n",
    "\n",
    "print(5 + \"Hello\")"
   ]
  },
  {
   "cell_type": "code",
   "execution_count": 35,
   "metadata": {},
   "outputs": [
    {
     "ename": "NameError",
     "evalue": "name 'new_variable' is not defined",
     "output_type": "error",
     "traceback": [
      "\u001b[1;31m---------------------------------------------------------------------------\u001b[0m",
      "\u001b[1;31mNameError\u001b[0m                                 Traceback (most recent call last)",
      "\u001b[1;32mc:\\Code\\EAE\\ipld_day01.ipynb Cell 41\u001b[0m line \u001b[0;36m1\n\u001b[1;32m----> <a href='vscode-notebook-cell:/c%3A/Code/EAE/ipld_day01.ipynb#Y113sZmlsZQ%3D%3D?line=0'>1</a>\u001b[0m \u001b[39mprint\u001b[39m(new_variable)\n",
      "\u001b[1;31mNameError\u001b[0m: name 'new_variable' is not defined"
     ]
    }
   ],
   "source": [
    "print(new_variable)     # This variable doesn't exist yet"
   ]
  },
  {
   "cell_type": "code",
   "execution_count": 36,
   "metadata": {},
   "outputs": [
    {
     "ename": "NameError",
     "evalue": "name 'curent_year' is not defined",
     "output_type": "error",
     "traceback": [
      "\u001b[1;31m---------------------------------------------------------------------------\u001b[0m",
      "\u001b[1;31mNameError\u001b[0m                                 Traceback (most recent call last)",
      "\u001b[1;32mc:\\Code\\EAE\\ipld_day01.ipynb Cell 42\u001b[0m line \u001b[0;36m3\n\u001b[0;32m      <a href='vscode-notebook-cell:/c%3A/Code/EAE/ipld_day01.ipynb#Y115sZmlsZQ%3D%3D?line=0'>1</a>\u001b[0m current_year \u001b[39m=\u001b[39m \u001b[39m2023\u001b[39m\n\u001b[1;32m----> <a href='vscode-notebook-cell:/c%3A/Code/EAE/ipld_day01.ipynb#Y115sZmlsZQ%3D%3D?line=2'>3</a>\u001b[0m \u001b[39mprint\u001b[39m(curent_year)\n",
      "\u001b[1;31mNameError\u001b[0m: name 'curent_year' is not defined"
     ]
    }
   ],
   "source": [
    "current_year = 2023\n",
    "\n",
    "print(curent_year)      # This variable is misspelled"
   ]
  },
  {
   "cell_type": "code",
   "execution_count": null,
   "metadata": {},
   "outputs": [],
   "source": []
  },
  {
   "cell_type": "markdown",
   "metadata": {},
   "source": [
    "---\n",
    "## 8. Exercises"
   ]
  },
  {
   "cell_type": "markdown",
   "metadata": {},
   "source": [
    "#### Ex 1.\n",
    "\n",
    "Write a program that asks your height and then your weight and returns a message with your BMI (Body Mass Index). The formula for BMI is weight / height^2."
   ]
  },
  {
   "cell_type": "code",
   "execution_count": 87,
   "metadata": {},
   "outputs": [
    {
     "name": "stdout",
     "output_type": "stream",
     "text": [
      "Your BMI is 22.857142857142858\n"
     ]
    }
   ],
   "source": [
    "# Your code goes here:\n",
    "height = float(input()) # in meters\n",
    "weight = float(input()) # in Kilograms\n",
    "\n",
    "print(\"Your BMI is\", weight/height**2)"
   ]
  },
  {
   "cell_type": "code",
   "execution_count": null,
   "metadata": {},
   "outputs": [],
   "source": []
  },
  {
   "cell_type": "markdown",
   "metadata": {},
   "source": [
    "#### Ex 2.  \n",
    "Write a program that asks for a temperature in Celsius and converts it to Fahrenheit. The formula for converting Celsius to Fahrenheit is (Celsius * 9/5) + 32.\n",
    "  \n",
    "The program should print a message like \"Today's temperature is 68 degrees Fahrenheit\", in this specific example, the input temperature in Celsius was 20."
   ]
  },
  {
   "cell_type": "code",
   "execution_count": 74,
   "metadata": {},
   "outputs": [
    {
     "name": "stdout",
     "output_type": "stream",
     "text": [
      "Today´s temperature is 68.0 degrees Fahrenheit\n"
     ]
    }
   ],
   "source": [
    "# Your code goes here:\n",
    "Celsius = int(input())\n",
    "\n",
    "print(\"Today´s temperature is\", (Celsius * 9/5) + 32 , \"degrees Fahrenheit\")"
   ]
  },
  {
   "cell_type": "code",
   "execution_count": null,
   "metadata": {},
   "outputs": [],
   "source": []
  },
  {
   "cell_type": "markdown",
   "metadata": {},
   "source": [
    "#### Ex 3.  \n",
    "\n",
    "Fix the following code so that it prints the correct message. The code should print \"The result of 2 + 2 is 4\"."
   ]
  },
  {
   "cell_type": "code",
   "execution_count": 78,
   "metadata": {},
   "outputs": [
    {
     "name": "stdout",
     "output_type": "stream",
     "text": [
      "The result of 2 + 2 is  4\n"
     ]
    }
   ],
   "source": [
    "# Modify the following line in order to fix it:\n",
    "\n",
    "print(\"The result of 2 + 2 is \", 2 + 2)"
   ]
  },
  {
   "cell_type": "markdown",
   "metadata": {},
   "source": [
    "#### Ex 4.  \n",
    "\n",
    "Fix the following code so it works printing the declared message."
   ]
  },
  {
   "cell_type": "code",
   "execution_count": 80,
   "metadata": {},
   "outputs": [
    {
     "name": "stdout",
     "output_type": "stream",
     "text": [
      "This is working!\n"
     ]
    }
   ],
   "source": [
    "message = \"This is working!\"\n",
    "\n",
    "# Modify the following line in order to fix it:\n",
    "print (message)"
   ]
  }
 ],
 "metadata": {
  "kernelspec": {
   "display_name": "venv",
   "language": "python",
   "name": "python3"
  },
  "language_info": {
   "codemirror_mode": {
    "name": "ipython",
    "version": 3
   },
   "file_extension": ".py",
   "mimetype": "text/x-python",
   "name": "python",
   "nbconvert_exporter": "python",
   "pygments_lexer": "ipython3",
   "version": "3.11.6"
  }
 },
 "nbformat": 4,
 "nbformat_minor": 2
}
